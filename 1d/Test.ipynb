{
 "cells": [
  {
   "cell_type": "code",
   "execution_count": 1,
   "metadata": {},
   "outputs": [
    {
     "name": "stdout",
     "output_type": "stream",
     "text": [
      "60000\n"
     ]
    },
    {
     "data": {
      "text/html": [
       "<div>\n",
       "<style scoped>\n",
       "    .dataframe tbody tr th:only-of-type {\n",
       "        vertical-align: middle;\n",
       "    }\n",
       "\n",
       "    .dataframe tbody tr th {\n",
       "        vertical-align: top;\n",
       "    }\n",
       "\n",
       "    .dataframe thead th {\n",
       "        text-align: right;\n",
       "    }\n",
       "</style>\n",
       "<table border=\"1\" class=\"dataframe\">\n",
       "  <thead>\n",
       "    <tr style=\"text-align: right;\">\n",
       "      <th></th>\n",
       "      <th>shape1[0]</th>\n",
       "      <th>shape2[0]</th>\n",
       "      <th>mode</th>\n",
       "      <th>seed</th>\n",
       "      <th>fft_time</th>\n",
       "      <th>direct_time</th>\n",
       "      <th>total_params1</th>\n",
       "      <th>total_params2</th>\n",
       "    </tr>\n",
       "  </thead>\n",
       "  <tbody>\n",
       "    <tr>\n",
       "      <td>59995</td>\n",
       "      <td>45</td>\n",
       "      <td>949</td>\n",
       "      <td>full</td>\n",
       "      <td>19998</td>\n",
       "      <td>0.000166</td>\n",
       "      <td>0.000067</td>\n",
       "      <td>45</td>\n",
       "      <td>949</td>\n",
       "    </tr>\n",
       "    <tr>\n",
       "      <td>59996</td>\n",
       "      <td>45</td>\n",
       "      <td>949</td>\n",
       "      <td>same</td>\n",
       "      <td>19998</td>\n",
       "      <td>0.000179</td>\n",
       "      <td>0.000518</td>\n",
       "      <td>45</td>\n",
       "      <td>949</td>\n",
       "    </tr>\n",
       "    <tr>\n",
       "      <td>59997</td>\n",
       "      <td>23489</td>\n",
       "      <td>45440</td>\n",
       "      <td>valid</td>\n",
       "      <td>19999</td>\n",
       "      <td>0.003046</td>\n",
       "      <td>0.099871</td>\n",
       "      <td>23489</td>\n",
       "      <td>45440</td>\n",
       "    </tr>\n",
       "    <tr>\n",
       "      <td>59998</td>\n",
       "      <td>23489</td>\n",
       "      <td>45440</td>\n",
       "      <td>full</td>\n",
       "      <td>19999</td>\n",
       "      <td>0.002872</td>\n",
       "      <td>0.213914</td>\n",
       "      <td>23489</td>\n",
       "      <td>45440</td>\n",
       "    </tr>\n",
       "    <tr>\n",
       "      <td>59999</td>\n",
       "      <td>23489</td>\n",
       "      <td>45440</td>\n",
       "      <td>same</td>\n",
       "      <td>19999</td>\n",
       "      <td>0.002797</td>\n",
       "      <td>13.728895</td>\n",
       "      <td>23489</td>\n",
       "      <td>45440</td>\n",
       "    </tr>\n",
       "  </tbody>\n",
       "</table>\n",
       "</div>"
      ],
      "text/plain": [
       "       shape1[0]  shape2[0]   mode   seed  fft_time  direct_time  \\\n",
       "59995         45        949   full  19998  0.000166     0.000067   \n",
       "59996         45        949   same  19998  0.000179     0.000518   \n",
       "59997      23489      45440  valid  19999  0.003046     0.099871   \n",
       "59998      23489      45440   full  19999  0.002872     0.213914   \n",
       "59999      23489      45440   same  19999  0.002797    13.728895   \n",
       "\n",
       "       total_params1  total_params2  \n",
       "59995             45            949  \n",
       "59996             45            949  \n",
       "59997          23489          45440  \n",
       "59998          23489          45440  \n",
       "59999          23489          45440  "
      ]
     },
     "execution_count": 1,
     "metadata": {},
     "output_type": "execute_result"
    }
   ],
   "source": [
    "import pandas as pd\n",
    "from ast import literal_eval\n",
    "import numpy as np\n",
    "np.seterr(all=\"raise\")\n",
    "\n",
    "today = \"2019-11-06\"\n",
    "\n",
    "df = pd.read_parquet(f\"out/{today}-1d-test.parquet\")\n",
    "df[\"total_params1\"] = df[\"shape1[0]\"]# * df[\"shape1[1]\"]\n",
    "df[\"total_params2\"] = df[\"shape2[0]\"]# * df[\"shape2[1]\"]\n",
    "print(len(df))\n",
    "df.tail()"
   ]
  },
  {
   "cell_type": "code",
   "execution_count": 2,
   "metadata": {},
   "outputs": [],
   "source": [
    "%load_ext autoreload\n",
    "%autoreload 2"
   ]
  },
  {
   "cell_type": "code",
   "execution_count": 3,
   "metadata": {},
   "outputs": [],
   "source": [
    "import sys\n",
    "sys.path.append(\"..\")\n",
    "from common import _fftconv_faster_test as _fftconv_faster"
   ]
  },
  {
   "cell_type": "code",
   "execution_count": 4,
   "metadata": {},
   "outputs": [],
   "source": [
    "\n",
    "def estimate_faster_method(row):\n",
    "    x_shape = (row[\"shape1[0]\"], )\n",
    "    h_shape = (row[\"shape2[0]\"], )\n",
    "    mode = row[\"mode\"]\n",
    "    return _fftconv_faster(x_shape, h_shape, mode, test=False)"
   ]
  },
  {
   "cell_type": "code",
   "execution_count": 5,
   "metadata": {},
   "outputs": [
    {
     "name": "stdout",
     "output_type": "stream",
     "text": [
      "Predicted fastest method 89.62% of the time\n"
     ]
    }
   ],
   "source": [
    "fft_faster = df[\"fft_time\"] < df[\"direct_time\"]\n",
    "df[\"faster\"] = \"\"\n",
    "df.loc[fft_faster, \"faster\"] = \"fft\"\n",
    "df.loc[~fft_faster, \"faster\"] = \"direct\"\n",
    "\n",
    "df[\"faster_est\"] = df.apply(estimate_faster_method, axis=1)\n",
    "\n",
    "df[\"correct\"] = (df.faster == df.faster_est)\n",
    "acc = df[\"correct\"].sum() / len(df)\n",
    "print(f\"Predicted fastest method {100 * acc:0.2f}% of the time\")"
   ]
  },
  {
   "cell_type": "markdown",
   "metadata": {},
   "source": [
    "**Goal for accuracy on predicting fastest**: >90% -- that's the performance seen with code from SciPy 1.3 (after uncommenting `_get_constant` function above)"
   ]
  },
  {
   "cell_type": "code",
   "execution_count": 6,
   "metadata": {},
   "outputs": [],
   "source": [
    "idx = (df[\"mode\"] == \"same\") & (df[\"shape1[0]\"] < df[\"shape2[0]\"])\n",
    "df[\"cond\"] = \"a\"\n",
    "df.loc[idx, \"cond\"] = \"sp_conv\"\n",
    "idx = (df[\"mode\"] == \"same\") & (df[\"shape1[0]\"] >= df[\"shape2[0]\"])\n",
    "df.loc[idx, \"cond\"] = \"np_conv\""
   ]
  },
  {
   "cell_type": "code",
   "execution_count": 7,
   "metadata": {},
   "outputs": [
    {
     "data": {
      "text/plain": [
       "mode   cond   \n",
       "full   a          20000\n",
       "same   np_conv    10058\n",
       "       sp_conv     9942\n",
       "valid  a          20000\n",
       "Name: correct, dtype: int64"
      ]
     },
     "execution_count": 7,
     "metadata": {},
     "output_type": "execute_result"
    }
   ],
   "source": [
    "df.groupby([\"mode\", \"cond\"])[\"correct\"].count()"
   ]
  },
  {
   "cell_type": "code",
   "execution_count": 8,
   "metadata": {},
   "outputs": [
    {
     "name": "stdout",
     "output_type": "stream",
     "text": [
      "    mode     cond     value\n",
      "0   full        a  0.922100\n",
      "2  valid        a  0.924800\n",
      "4   same  np_conv  0.914794\n",
      "7   same  sp_conv  0.767954\n"
     ]
    }
   ],
   "source": [
    "t = show = df.pivot_table(\n",
    "    columns=\"cond\",\n",
    "    index=\"mode\",\n",
    "    values=\"correct\",\n",
    "    aggfunc=np.mean,\n",
    ").reset_index()\n",
    "t = t.melt(id_vars=[\"mode\"]).dropna()\n",
    "print(t)\n",
    "# t[t.cond != \"a\"]"
   ]
  },
  {
   "cell_type": "code",
   "execution_count": 9,
   "metadata": {},
   "outputs": [
    {
     "data": {
      "text/html": [
       "<div>\n",
       "<style scoped>\n",
       "    .dataframe tbody tr th:only-of-type {\n",
       "        vertical-align: middle;\n",
       "    }\n",
       "\n",
       "    .dataframe tbody tr th {\n",
       "        vertical-align: top;\n",
       "    }\n",
       "\n",
       "    .dataframe thead th {\n",
       "        text-align: right;\n",
       "    }\n",
       "</style>\n",
       "<table border=\"1\" class=\"dataframe\">\n",
       "  <thead>\n",
       "    <tr style=\"text-align: right;\">\n",
       "      <th></th>\n",
       "      <th>shape1[0]</th>\n",
       "      <th>shape2[0]</th>\n",
       "      <th>mode</th>\n",
       "      <th>seed</th>\n",
       "      <th>fft_time</th>\n",
       "      <th>direct_time</th>\n",
       "      <th>total_params1</th>\n",
       "      <th>total_params2</th>\n",
       "      <th>faster</th>\n",
       "      <th>faster_est</th>\n",
       "      <th>correct</th>\n",
       "      <th>cond</th>\n",
       "      <th>ratio</th>\n",
       "    </tr>\n",
       "  </thead>\n",
       "  <tbody>\n",
       "    <tr>\n",
       "      <td>31061</td>\n",
       "      <td>99099</td>\n",
       "      <td>383</td>\n",
       "      <td>same</td>\n",
       "      <td>10353</td>\n",
       "      <td>0.004257</td>\n",
       "      <td>0.007220</td>\n",
       "      <td>99099</td>\n",
       "      <td>383</td>\n",
       "      <td>fft</td>\n",
       "      <td>direct</td>\n",
       "      <td>False</td>\n",
       "      <td>np_conv</td>\n",
       "      <td>1.696035</td>\n",
       "    </tr>\n",
       "    <tr>\n",
       "      <td>59186</td>\n",
       "      <td>8</td>\n",
       "      <td>91461</td>\n",
       "      <td>same</td>\n",
       "      <td>19728</td>\n",
       "      <td>0.003835</td>\n",
       "      <td>0.007266</td>\n",
       "      <td>8</td>\n",
       "      <td>91461</td>\n",
       "      <td>fft</td>\n",
       "      <td>direct</td>\n",
       "      <td>False</td>\n",
       "      <td>sp_conv</td>\n",
       "      <td>1.894560</td>\n",
       "    </tr>\n",
       "    <tr>\n",
       "      <td>18788</td>\n",
       "      <td>7</td>\n",
       "      <td>99658</td>\n",
       "      <td>same</td>\n",
       "      <td>6262</td>\n",
       "      <td>0.003454</td>\n",
       "      <td>0.007277</td>\n",
       "      <td>7</td>\n",
       "      <td>99658</td>\n",
       "      <td>fft</td>\n",
       "      <td>direct</td>\n",
       "      <td>False</td>\n",
       "      <td>sp_conv</td>\n",
       "      <td>2.107000</td>\n",
       "    </tr>\n",
       "    <tr>\n",
       "      <td>1637</td>\n",
       "      <td>7</td>\n",
       "      <td>99945</td>\n",
       "      <td>same</td>\n",
       "      <td>545</td>\n",
       "      <td>0.003983</td>\n",
       "      <td>0.007282</td>\n",
       "      <td>7</td>\n",
       "      <td>99945</td>\n",
       "      <td>fft</td>\n",
       "      <td>direct</td>\n",
       "      <td>False</td>\n",
       "      <td>sp_conv</td>\n",
       "      <td>1.828435</td>\n",
       "    </tr>\n",
       "    <tr>\n",
       "      <td>13367</td>\n",
       "      <td>8</td>\n",
       "      <td>94117</td>\n",
       "      <td>same</td>\n",
       "      <td>4455</td>\n",
       "      <td>0.003378</td>\n",
       "      <td>0.007508</td>\n",
       "      <td>8</td>\n",
       "      <td>94117</td>\n",
       "      <td>fft</td>\n",
       "      <td>direct</td>\n",
       "      <td>False</td>\n",
       "      <td>sp_conv</td>\n",
       "      <td>2.222756</td>\n",
       "    </tr>\n",
       "    <tr>\n",
       "      <td>43358</td>\n",
       "      <td>99287</td>\n",
       "      <td>409</td>\n",
       "      <td>same</td>\n",
       "      <td>14452</td>\n",
       "      <td>0.003792</td>\n",
       "      <td>0.007771</td>\n",
       "      <td>99287</td>\n",
       "      <td>409</td>\n",
       "      <td>fft</td>\n",
       "      <td>direct</td>\n",
       "      <td>False</td>\n",
       "      <td>np_conv</td>\n",
       "      <td>2.049550</td>\n",
       "    </tr>\n",
       "    <tr>\n",
       "      <td>52367</td>\n",
       "      <td>9</td>\n",
       "      <td>85487</td>\n",
       "      <td>same</td>\n",
       "      <td>17455</td>\n",
       "      <td>0.003282</td>\n",
       "      <td>0.007805</td>\n",
       "      <td>9</td>\n",
       "      <td>85487</td>\n",
       "      <td>fft</td>\n",
       "      <td>direct</td>\n",
       "      <td>False</td>\n",
       "      <td>sp_conv</td>\n",
       "      <td>2.378133</td>\n",
       "    </tr>\n",
       "    <tr>\n",
       "      <td>41366</td>\n",
       "      <td>8</td>\n",
       "      <td>95034</td>\n",
       "      <td>same</td>\n",
       "      <td>13788</td>\n",
       "      <td>0.003869</td>\n",
       "      <td>0.008095</td>\n",
       "      <td>8</td>\n",
       "      <td>95034</td>\n",
       "      <td>fft</td>\n",
       "      <td>direct</td>\n",
       "      <td>False</td>\n",
       "      <td>sp_conv</td>\n",
       "      <td>2.092186</td>\n",
       "    </tr>\n",
       "    <tr>\n",
       "      <td>28301</td>\n",
       "      <td>9</td>\n",
       "      <td>79221</td>\n",
       "      <td>same</td>\n",
       "      <td>9433</td>\n",
       "      <td>0.003397</td>\n",
       "      <td>0.009325</td>\n",
       "      <td>9</td>\n",
       "      <td>79221</td>\n",
       "      <td>fft</td>\n",
       "      <td>direct</td>\n",
       "      <td>False</td>\n",
       "      <td>sp_conv</td>\n",
       "      <td>2.745210</td>\n",
       "    </tr>\n",
       "    <tr>\n",
       "      <td>14072</td>\n",
       "      <td>9</td>\n",
       "      <td>99536</td>\n",
       "      <td>same</td>\n",
       "      <td>4690</td>\n",
       "      <td>0.003999</td>\n",
       "      <td>0.009372</td>\n",
       "      <td>9</td>\n",
       "      <td>99536</td>\n",
       "      <td>fft</td>\n",
       "      <td>direct</td>\n",
       "      <td>False</td>\n",
       "      <td>sp_conv</td>\n",
       "      <td>2.343469</td>\n",
       "    </tr>\n",
       "  </tbody>\n",
       "</table>\n",
       "</div>"
      ],
      "text/plain": [
       "       shape1[0]  shape2[0]  mode   seed  fft_time  direct_time  \\\n",
       "31061      99099        383  same  10353  0.004257     0.007220   \n",
       "59186          8      91461  same  19728  0.003835     0.007266   \n",
       "18788          7      99658  same   6262  0.003454     0.007277   \n",
       "1637           7      99945  same    545  0.003983     0.007282   \n",
       "13367          8      94117  same   4455  0.003378     0.007508   \n",
       "43358      99287        409  same  14452  0.003792     0.007771   \n",
       "52367          9      85487  same  17455  0.003282     0.007805   \n",
       "41366          8      95034  same  13788  0.003869     0.008095   \n",
       "28301          9      79221  same   9433  0.003397     0.009325   \n",
       "14072          9      99536  same   4690  0.003999     0.009372   \n",
       "\n",
       "       total_params1  total_params2 faster faster_est  correct     cond  \\\n",
       "31061          99099            383    fft     direct    False  np_conv   \n",
       "59186              8          91461    fft     direct    False  sp_conv   \n",
       "18788              7          99658    fft     direct    False  sp_conv   \n",
       "1637               7          99945    fft     direct    False  sp_conv   \n",
       "13367              8          94117    fft     direct    False  sp_conv   \n",
       "43358          99287            409    fft     direct    False  np_conv   \n",
       "52367              9          85487    fft     direct    False  sp_conv   \n",
       "41366              8          95034    fft     direct    False  sp_conv   \n",
       "28301              9          79221    fft     direct    False  sp_conv   \n",
       "14072              9          99536    fft     direct    False  sp_conv   \n",
       "\n",
       "          ratio  \n",
       "31061  1.696035  \n",
       "59186  1.894560  \n",
       "18788  2.107000  \n",
       "1637   1.828435  \n",
       "13367  2.222756  \n",
       "43358  2.049550  \n",
       "52367  2.378133  \n",
       "41366  2.092186  \n",
       "28301  2.745210  \n",
       "14072  2.343469  "
      ]
     },
     "execution_count": 9,
     "metadata": {},
     "output_type": "execute_result"
    }
   ],
   "source": [
    "wrong_idx = df.faster != df.faster_est\n",
    "wrong =  df[wrong_idx].copy()\n",
    "wrong[\"ratio\"] = wrong.fft_time / wrong.direct_time\n",
    "idx = wrong.ratio < 1\n",
    "wrong.loc[idx, \"ratio\"] = 1 / wrong.loc[idx, \"ratio\"]\n",
    "\n",
    "vals = wrong.copy()\n",
    "vals.sort_values(by=\"direct_time\", inplace=True)\n",
    "vals.tail(n=10)"
   ]
  },
  {
   "cell_type": "code",
   "execution_count": 10,
   "metadata": {},
   "outputs": [
    {
     "name": "stdout",
     "output_type": "stream",
     "text": [
      "['direct' 'fft']\n",
      "['fft' 'direct']\n",
      "[False]\n"
     ]
    },
    {
     "data": {
      "text/html": [
       "<div>\n",
       "<style scoped>\n",
       "    .dataframe tbody tr th:only-of-type {\n",
       "        vertical-align: middle;\n",
       "    }\n",
       "\n",
       "    .dataframe tbody tr th {\n",
       "        vertical-align: top;\n",
       "    }\n",
       "\n",
       "    .dataframe thead th {\n",
       "        text-align: right;\n",
       "    }\n",
       "</style>\n",
       "<table border=\"1\" class=\"dataframe\">\n",
       "  <thead>\n",
       "    <tr style=\"text-align: right;\">\n",
       "      <th></th>\n",
       "      <th>correct</th>\n",
       "    </tr>\n",
       "    <tr>\n",
       "      <th>mode</th>\n",
       "      <th></th>\n",
       "    </tr>\n",
       "  </thead>\n",
       "  <tbody>\n",
       "    <tr>\n",
       "      <td>full</td>\n",
       "      <td>False</td>\n",
       "    </tr>\n",
       "    <tr>\n",
       "      <td>same</td>\n",
       "      <td>False</td>\n",
       "    </tr>\n",
       "    <tr>\n",
       "      <td>valid</td>\n",
       "      <td>False</td>\n",
       "    </tr>\n",
       "  </tbody>\n",
       "</table>\n",
       "</div>"
      ],
      "text/plain": [
       "       correct\n",
       "mode          \n",
       "full     False\n",
       "same     False\n",
       "valid    False"
      ]
     },
     "execution_count": 10,
     "metadata": {},
     "output_type": "execute_result"
    }
   ],
   "source": [
    "vals[\"correct\"] = (vals[\"faster\"] == vals[\"faster_est\"])#.astype(float)\n",
    "print(vals[\"faster\"].unique())\n",
    "print(vals[\"faster_est\"].unique())\n",
    "print(vals.correct.unique())\n",
    "\n",
    "vals.pivot_table(\n",
    "    index=\"mode\",\n",
    "    values=\"correct\",\n",
    "    aggfunc=np.mean,\n",
    ")"
   ]
  },
  {
   "cell_type": "code",
   "execution_count": 11,
   "metadata": {},
   "outputs": [
    {
     "data": {
      "text/plain": [
       "15.51522842639594"
      ]
     },
     "execution_count": 11,
     "metadata": {},
     "output_type": "execute_result"
    }
   ],
   "source": [
    "vals.ratio.max()"
   ]
  },
  {
   "cell_type": "code",
   "execution_count": 12,
   "metadata": {},
   "outputs": [
    {
     "data": {
      "text/plain": [
       "-0.022168636322021484"
      ]
     },
     "execution_count": 12,
     "metadata": {},
     "output_type": "execute_result"
    }
   ],
   "source": [
    "vals.direct_time.min()"
   ]
  },
  {
   "cell_type": "code",
   "execution_count": 13,
   "metadata": {},
   "outputs": [
    {
     "data": {
      "image/png": "[encoded data removed]",
      "text/plain": [
       "<Figure size 648x216 with 3 Axes>"
      ]
     },
     "metadata": {
      "image/png": {
       "height": 209,
       "width": 552
      },
      "needs_background": "light"
     },
     "output_type": "display_data"
    }
   ],
   "source": [
    "lims = range(int(wrong.ratio.max() + 1))\n",
    "\n",
    "import matplotlib.pyplot as plt\n",
    "w = 3\n",
    "fig, axs = plt.subplots(ncols=3, figsize=(3*w, w))\n",
    "for mode, ax in zip([\"valid\", \"same\", \"full\"], axs):\n",
    "    show = wrong[wrong[\"mode\"] == mode]\n",
    "    ax = show.ratio.hist(bins=lims, ax=ax)\n",
    "    _ = ax.set_xlim(1, 10)\n",
    "    _ = ax.set_title(mode)\n",
    "    _ = ax.set_xlim(1, 10)\n",
    "    _ = ax.set_yscale(\"log\")"
   ]
  },
  {
   "cell_type": "markdown",
   "metadata": {},
   "source": [
    "**Goal for this histogram:** `ratio.max() < 5` approximately. That's the performance with SciPy 1.3 (again, after un-commenting `_get_constants` above)."
   ]
  },
  {
   "cell_type": "code",
   "execution_count": 14,
   "metadata": {},
   "outputs": [
    {
     "data": {
      "text/html": [
       "<div>\n",
       "<style scoped>\n",
       "    .dataframe tbody tr th:only-of-type {\n",
       "        vertical-align: middle;\n",
       "    }\n",
       "\n",
       "    .dataframe tbody tr th {\n",
       "        vertical-align: top;\n",
       "    }\n",
       "\n",
       "    .dataframe thead th {\n",
       "        text-align: right;\n",
       "    }\n",
       "</style>\n",
       "<table border=\"1\" class=\"dataframe\">\n",
       "  <thead>\n",
       "    <tr style=\"text-align: right;\">\n",
       "      <th></th>\n",
       "      <th>shape1[0]</th>\n",
       "      <th>shape2[0]</th>\n",
       "      <th>mode</th>\n",
       "      <th>seed</th>\n",
       "      <th>fft_time</th>\n",
       "      <th>direct_time</th>\n",
       "      <th>total_params1</th>\n",
       "      <th>total_params2</th>\n",
       "      <th>faster</th>\n",
       "      <th>faster_est</th>\n",
       "      <th>correct</th>\n",
       "      <th>cond</th>\n",
       "    </tr>\n",
       "  </thead>\n",
       "  <tbody>\n",
       "    <tr>\n",
       "      <td>3</td>\n",
       "      <td>230</td>\n",
       "      <td>5433</td>\n",
       "      <td>valid</td>\n",
       "      <td>1</td>\n",
       "      <td>0.000448</td>\n",
       "      <td>0.000371</td>\n",
       "      <td>230</td>\n",
       "      <td>5433</td>\n",
       "      <td>direct</td>\n",
       "      <td>direct</td>\n",
       "      <td>True</td>\n",
       "      <td>a</td>\n",
       "    </tr>\n",
       "    <tr>\n",
       "      <td>6</td>\n",
       "      <td>281</td>\n",
       "      <td>3</td>\n",
       "      <td>valid</td>\n",
       "      <td>2</td>\n",
       "      <td>0.000236</td>\n",
       "      <td>0.000032</td>\n",
       "      <td>281</td>\n",
       "      <td>3</td>\n",
       "      <td>direct</td>\n",
       "      <td>direct</td>\n",
       "      <td>True</td>\n",
       "      <td>a</td>\n",
       "    </tr>\n",
       "    <tr>\n",
       "      <td>15</td>\n",
       "      <td>30</td>\n",
       "      <td>26021</td>\n",
       "      <td>valid</td>\n",
       "      <td>5</td>\n",
       "      <td>0.001302</td>\n",
       "      <td>0.000763</td>\n",
       "      <td>30</td>\n",
       "      <td>26021</td>\n",
       "      <td>direct</td>\n",
       "      <td>direct</td>\n",
       "      <td>True</td>\n",
       "      <td>a</td>\n",
       "    </tr>\n",
       "    <tr>\n",
       "      <td>18</td>\n",
       "      <td>32765</td>\n",
       "      <td>95</td>\n",
       "      <td>valid</td>\n",
       "      <td>6</td>\n",
       "      <td>0.001672</td>\n",
       "      <td>0.001298</td>\n",
       "      <td>32765</td>\n",
       "      <td>95</td>\n",
       "      <td>direct</td>\n",
       "      <td>direct</td>\n",
       "      <td>True</td>\n",
       "      <td>a</td>\n",
       "    </tr>\n",
       "    <tr>\n",
       "      <td>21</td>\n",
       "      <td>6</td>\n",
       "      <td>10106</td>\n",
       "      <td>valid</td>\n",
       "      <td>7</td>\n",
       "      <td>0.000515</td>\n",
       "      <td>0.000045</td>\n",
       "      <td>6</td>\n",
       "      <td>10106</td>\n",
       "      <td>direct</td>\n",
       "      <td>direct</td>\n",
       "      <td>True</td>\n",
       "      <td>a</td>\n",
       "    </tr>\n",
       "    <tr>\n",
       "      <td>...</td>\n",
       "      <td>...</td>\n",
       "      <td>...</td>\n",
       "      <td>...</td>\n",
       "      <td>...</td>\n",
       "      <td>...</td>\n",
       "      <td>...</td>\n",
       "      <td>...</td>\n",
       "      <td>...</td>\n",
       "      <td>...</td>\n",
       "      <td>...</td>\n",
       "      <td>...</td>\n",
       "      <td>...</td>\n",
       "    </tr>\n",
       "    <tr>\n",
       "      <td>59982</td>\n",
       "      <td>8688</td>\n",
       "      <td>3</td>\n",
       "      <td>valid</td>\n",
       "      <td>19994</td>\n",
       "      <td>0.000996</td>\n",
       "      <td>0.000038</td>\n",
       "      <td>8688</td>\n",
       "      <td>3</td>\n",
       "      <td>direct</td>\n",
       "      <td>direct</td>\n",
       "      <td>True</td>\n",
       "      <td>a</td>\n",
       "    </tr>\n",
       "    <tr>\n",
       "      <td>59985</td>\n",
       "      <td>14</td>\n",
       "      <td>266</td>\n",
       "      <td>valid</td>\n",
       "      <td>19995</td>\n",
       "      <td>0.000170</td>\n",
       "      <td>0.000032</td>\n",
       "      <td>14</td>\n",
       "      <td>266</td>\n",
       "      <td>direct</td>\n",
       "      <td>direct</td>\n",
       "      <td>True</td>\n",
       "      <td>a</td>\n",
       "    </tr>\n",
       "    <tr>\n",
       "      <td>59988</td>\n",
       "      <td>162</td>\n",
       "      <td>5</td>\n",
       "      <td>valid</td>\n",
       "      <td>19996</td>\n",
       "      <td>0.000161</td>\n",
       "      <td>0.000026</td>\n",
       "      <td>162</td>\n",
       "      <td>5</td>\n",
       "      <td>direct</td>\n",
       "      <td>direct</td>\n",
       "      <td>True</td>\n",
       "      <td>a</td>\n",
       "    </tr>\n",
       "    <tr>\n",
       "      <td>59991</td>\n",
       "      <td>6</td>\n",
       "      <td>3</td>\n",
       "      <td>valid</td>\n",
       "      <td>19997</td>\n",
       "      <td>0.000146</td>\n",
       "      <td>0.000024</td>\n",
       "      <td>6</td>\n",
       "      <td>3</td>\n",
       "      <td>direct</td>\n",
       "      <td>direct</td>\n",
       "      <td>True</td>\n",
       "      <td>a</td>\n",
       "    </tr>\n",
       "    <tr>\n",
       "      <td>59994</td>\n",
       "      <td>45</td>\n",
       "      <td>949</td>\n",
       "      <td>valid</td>\n",
       "      <td>19998</td>\n",
       "      <td>0.000188</td>\n",
       "      <td>0.000065</td>\n",
       "      <td>45</td>\n",
       "      <td>949</td>\n",
       "      <td>direct</td>\n",
       "      <td>direct</td>\n",
       "      <td>True</td>\n",
       "      <td>a</td>\n",
       "    </tr>\n",
       "  </tbody>\n",
       "</table>\n",
       "<p>14095 rows × 12 columns</p>\n",
       "</div>"
      ],
      "text/plain": [
       "       shape1[0]  shape2[0]   mode   seed  fft_time  direct_time  \\\n",
       "3            230       5433  valid      1  0.000448     0.000371   \n",
       "6            281          3  valid      2  0.000236     0.000032   \n",
       "15            30      26021  valid      5  0.001302     0.000763   \n",
       "18         32765         95  valid      6  0.001672     0.001298   \n",
       "21             6      10106  valid      7  0.000515     0.000045   \n",
       "...          ...        ...    ...    ...       ...          ...   \n",
       "59982       8688          3  valid  19994  0.000996     0.000038   \n",
       "59985         14        266  valid  19995  0.000170     0.000032   \n",
       "59988        162          5  valid  19996  0.000161     0.000026   \n",
       "59991          6          3  valid  19997  0.000146     0.000024   \n",
       "59994         45        949  valid  19998  0.000188     0.000065   \n",
       "\n",
       "       total_params1  total_params2  faster faster_est  correct cond  \n",
       "3                230           5433  direct     direct     True    a  \n",
       "6                281              3  direct     direct     True    a  \n",
       "15                30          26021  direct     direct     True    a  \n",
       "18             32765             95  direct     direct     True    a  \n",
       "21                 6          10106  direct     direct     True    a  \n",
       "...              ...            ...     ...        ...      ...  ...  \n",
       "59982           8688              3  direct     direct     True    a  \n",
       "59985             14            266  direct     direct     True    a  \n",
       "59988            162              5  direct     direct     True    a  \n",
       "59991              6              3  direct     direct     True    a  \n",
       "59994             45            949  direct     direct     True    a  \n",
       "\n",
       "[14095 rows x 12 columns]"
      ]
     },
     "execution_count": 14,
     "metadata": {},
     "output_type": "execute_result"
    }
   ],
   "source": [
    "i = (df[\"mode\"] == \"valid\") & (df.faster_est == \"direct\")\n",
    "df[i]"
   ]
  },
  {
   "cell_type": "code",
   "execution_count": 15,
   "metadata": {},
   "outputs": [
    {
     "name": "stdout",
     "output_type": "stream",
     "text": [
      "full\n",
      "P(ratio <= 2.15) = 94.1%\n",
      "P(ratio <= 2.17) = 94.2%\n",
      "P(ratio <= 2.18) = 94.3%\n",
      "P(ratio <= 2.19) = 94.7%\n",
      "P(ratio <= 2.20) = 95.0%\n",
      "P(ratio <= 2.21) = 95.4%\n",
      "P(ratio <= 2.23) = 95.8%\n",
      "valid\n",
      "P(ratio <= 2.60) = 94.0%\n",
      "P(ratio <= 2.61) = 94.1%\n",
      "P(ratio <= 2.62) = 94.3%\n",
      "P(ratio <= 2.63) = 94.3%\n",
      "P(ratio <= 2.65) = 94.5%\n",
      "P(ratio <= 2.66) = 94.7%\n",
      "P(ratio <= 2.67) = 94.8%\n",
      "P(ratio <= 2.68) = 94.9%\n",
      "P(ratio <= 2.69) = 94.9%\n",
      "P(ratio <= 2.71) = 95.1%\n",
      "P(ratio <= 2.72) = 95.3%\n",
      "P(ratio <= 2.73) = 95.3%\n",
      "P(ratio <= 2.74) = 95.4%\n",
      "P(ratio <= 2.75) = 95.7%\n",
      "P(ratio <= 2.77) = 95.8%\n",
      "P(ratio <= 2.78) = 95.9%\n",
      "same\n",
      "P(ratio <= 4.15) = 94.1%\n",
      "P(ratio <= 4.16) = 94.2%\n",
      "P(ratio <= 4.17) = 94.3%\n",
      "P(ratio <= 4.18) = 94.4%\n",
      "P(ratio <= 4.20) = 94.6%\n",
      "P(ratio <= 4.21) = 94.8%\n",
      "P(ratio <= 4.22) = 95.0%\n",
      "P(ratio <= 4.23) = 95.1%\n",
      "P(ratio <= 4.24) = 95.1%\n",
      "P(ratio <= 4.26) = 95.3%\n",
      "P(ratio <= 4.27) = 95.3%\n",
      "P(ratio <= 4.28) = 95.4%\n",
      "P(ratio <= 4.29) = 95.5%\n",
      "P(ratio <= 4.30) = 95.6%\n",
      "P(ratio <= 4.32) = 95.6%\n",
      "P(ratio <= 4.33) = 95.7%\n",
      "P(ratio <= 4.34) = 95.9%\n",
      "P(ratio <= 4.35) = 95.9%\n",
      "P(ratio <= 4.36) = 95.9%\n",
      "P(ratio <= 4.38) = 95.9%\n",
      "P(ratio <= 4.39) = 96.0%\n",
      "P(ratio <= 4.40) = 96.0%\n"
     ]
    }
   ],
   "source": [
    "for mode in [\"full\", \"valid\", \"same\"]:\n",
    "    print(mode)\n",
    "    for i in np.linspace(1, 12 + 1, num=1000):\n",
    "        idx = wrong[\"mode\"] == mode\n",
    "        prob = (wrong[idx].ratio <= i).sum() / idx.sum()\n",
    "        msg = f\"P(ratio <= {i:0.2f}) = {100 * prob:0.1f}%\"\n",
    "        if 0.94 <= prob <= 0.96:\n",
    "            print(msg)"
   ]
  },
  {
   "cell_type": "code",
   "execution_count": 16,
   "metadata": {},
   "outputs": [
    {
     "name": "stdout",
     "output_type": "stream",
     "text": [
      "valid a 1504\n",
      "same np_conv 857\n",
      "same sp_conv 2307\n",
      "full a 1558\n"
     ]
    },
    {
     "data": {
      "image/png": "[encoded data removed]",
      "text/plain": [
       "<Figure size 288x288 with 1 Axes>"
      ]
     },
     "metadata": {
      "image/png": {
       "height": 304,
       "width": 288
      },
      "needs_background": "light"
     },
     "output_type": "display_data"
    }
   ],
   "source": [
    "lims = np.linspace(1, int(wrong.ratio.max() + 1), num=500)\n",
    "\n",
    "import matplotlib.pyplot as plt\n",
    "w = 4\n",
    "fig, ax = plt.subplots(figsize=(w, w))\n",
    "for mode in [\"valid\", \"same\", \"full\"]:\n",
    "    conds = \"a\" if mode != \"same\" else [\"np_conv\", \"sp_conv\"]\n",
    "    for cond in conds:\n",
    "        idx = (wrong[\"mode\"] == mode) & (wrong[\"cond\"] == cond)\n",
    "        print(mode, cond, idx.sum())\n",
    "        show = wrong[(wrong[\"mode\"] == mode) & (wrong[\"cond\"] == cond)]\n",
    "        cdf = {i: (show.ratio <= i).sum() / len(show) for i in lims}\n",
    "        ax = (1 - pd.Series(cdf)).plot(ax=ax, label=mode + \" \" + cond)\n",
    "ax.grid()\n",
    "ax.legend(loc=\"best\")\n",
    "# ax.set_yscale(\"log\")\n",
    "# _ = ax.set_ylim(0.5, 1)\n",
    "_ = ax.set_title(\"Ratio of method times\\nif wrong prediction\")\n",
    "_ = ax.set_ylabel(\"Percentage of trials\")\n",
    "_ = ax.set_xlabel(\"Ratio $r$\\n\" + r\"time(predicted_method)$= r \\cdot$ time(faster_method)\")\n",
    "_ = ax.set_xlim(1, 5)\n",
    "DIR = \"/Users/scott/Desktop/\"\n",
    "plt.savefig(DIR + \"1d-wrong-factor.png\", bbox_inches=\"tight\")"
   ]
  },
  {
   "cell_type": "code",
   "execution_count": 17,
   "metadata": {},
   "outputs": [
    {
     "data": {
      "text/plain": [
       "Index(['shape1[0]', 'shape2[0]', 'mode', 'seed', 'fft_time', 'direct_time',\n",
       "       'total_params1', 'total_params2', 'faster', 'faster_est', 'correct',\n",
       "       'cond'],\n",
       "      dtype='object')"
      ]
     },
     "execution_count": 17,
     "metadata": {},
     "output_type": "execute_result"
    }
   ],
   "source": [
    "df.columns"
   ]
  },
  {
   "cell_type": "code",
   "execution_count": 18,
   "metadata": {},
   "outputs": [
    {
     "name": "stdout",
     "output_type": "stream",
     "text": [
      "FFT >2x faster for 23.60% of tests in mode=full and cond=np_conv\n",
      "full\n"
     ]
    },
    {
     "data": {
      "text/plain": [
       "[<matplotlib.lines.Line2D at 0x12013beb8>]"
      ]
     },
     "execution_count": 18,
     "metadata": {},
     "output_type": "execute_result"
    },
    {
     "name": "stdout",
     "output_type": "stream",
     "text": [
      "FFT >2x faster for 23.60% of tests in mode=full and cond=sp_conv\n",
      "full\n"
     ]
    },
    {
     "data": {
      "text/plain": [
       "[<matplotlib.lines.Line2D at 0x117b67668>]"
      ]
     },
     "execution_count": 18,
     "metadata": {},
     "output_type": "execute_result"
    },
    {
     "name": "stdout",
     "output_type": "stream",
     "text": [
      "FFT >2x faster for 20.32% of tests in mode=valid and cond=np_conv\n",
      "valid\n"
     ]
    },
    {
     "data": {
      "text/plain": [
       "[<matplotlib.lines.Line2D at 0x120146b38>]"
      ]
     },
     "execution_count": 18,
     "metadata": {},
     "output_type": "execute_result"
    },
    {
     "name": "stdout",
     "output_type": "stream",
     "text": [
      "FFT >2x faster for 20.32% of tests in mode=valid and cond=sp_conv\n",
      "valid\n"
     ]
    },
    {
     "data": {
      "text/plain": [
       "[<matplotlib.lines.Line2D at 0x120146e80>]"
      ]
     },
     "execution_count": 18,
     "metadata": {},
     "output_type": "execute_result"
    },
    {
     "name": "stdout",
     "output_type": "stream",
     "text": [
      "FFT >2x faster for 22.57% of tests in mode=same and cond=np_conv\n",
      "np_conv\n"
     ]
    },
    {
     "data": {
      "text/plain": [
       "[<matplotlib.lines.Line2D at 0x120146eb8>]"
      ]
     },
     "execution_count": 18,
     "metadata": {},
     "output_type": "execute_result"
    },
    {
     "name": "stdout",
     "output_type": "stream",
     "text": [
      "FFT >2x faster for 64.31% of tests in mode=same and cond=sp_conv\n",
      "sp_conv\n"
     ]
    },
    {
     "data": {
      "text/plain": [
       "[<matplotlib.lines.Line2D at 0x11f505320>]"
      ]
     },
     "execution_count": 18,
     "metadata": {},
     "output_type": "execute_result"
    },
    {
     "data": {
      "image/png": "[encoded data removed]",
      "text/plain": [
       "<Figure size 324x280.8 with 3 Axes>"
      ]
     },
     "metadata": {
      "image/png": {
       "height": 256,
       "width": 312
      },
      "needs_background": "light"
     },
     "output_type": "display_data"
    }
   ],
   "source": [
    "import matplotlib.pyplot as plt\n",
    "\n",
    "i = (df.direct_time <= 0) | (df.fft_time <= 0)\n",
    "show = df[~i].copy()\n",
    "show[\"log_ratio\"] = np.log2(show[\"fft_time\"] / show[\"direct_time\"]);\n",
    "show = show[[\"log_ratio\", \"correct\", \"mode\", \"cond\", \"direct_time\"]].copy()\n",
    "show[\"log_ratio_binned\"] = np.round(show.log_ratio, decimals=1)\n",
    "show[\"direct_time_binned\"] = np.round(show.direct_time, decimals=1)\n",
    "\n",
    "w = 3\n",
    "fig, axs = plt.subplots(nrows=3, figsize=(1.5 * w, 1.3 * w))\n",
    "\n",
    "for i, (ax, mode) in enumerate(zip(axs, [\"full\", \"valid\", \"same\"])):\n",
    "    for cond in [\"np_conv\", \"sp_conv\"]:\n",
    "        if mode != \"same\":\n",
    "            s = show[show[\"mode\"] == mode]\n",
    "        else:\n",
    "            idx = (show[\"mode\"] == mode) & (show[\"cond\"] == cond)\n",
    "            s = show[idx]\n",
    "        frac_fft_faster = (s.log_ratio < -1).sum() / len(s)\n",
    "        print(f\"FFT >2x faster for {100 * frac_fft_faster:0.2f}% of tests in mode={mode} and cond={cond}\")\n",
    "        correct_predictions = s.pivot_table(\n",
    "            index=\"log_ratio_binned\",\n",
    "            values=\"correct\",\n",
    "            aggfunc=np.mean\n",
    "        )\n",
    "        label = mode if mode != \"same\" else cond\n",
    "        print(label)\n",
    "        ax.plot(correct_predictions, label=label)\n",
    "        _ = ax.set_xlim(-4, 4)\n",
    "        _ = ax.set_ylim(-0.1, 1.1)\n",
    "#         _ = ax.plot([0, 0], ax.get_ylim())\n",
    "        _ = ax.set_ylabel(mode)\n",
    "        _ = ax.grid(alpha=0.4)\n",
    "#         ax.legend_.remove()\n",
    "        if i == 2:\n",
    "            _ = ax.set_xlabel(\"log2 ratio\")\n",
    "            _ = ax.text(-3, -0.5, \"← FFT faster\")\n",
    "            _ = ax.text(2, -0.5, \"direct faster →\")\n",
    "            _ = ax.legend(loc=\"best\")"
   ]
  },
  {
   "cell_type": "code",
   "execution_count": 19,
   "metadata": {},
   "outputs": [
    {
     "name": "stdout",
     "output_type": "stream",
     "text": [
      "FFT >2x faster for 23.60% of tests in mode=full and cond=np_conv\n",
      "full\n",
      "FFT >2x faster for 20.32% of tests in mode=valid and cond=np_conv\n",
      "valid\n",
      "FFT >2x faster for 22.57% of tests in mode=same and cond=np_conv\n",
      "np_conv\n",
      "FFT >2x faster for 64.31% of tests in mode=same and cond=sp_conv\n",
      "sp_conv\n"
     ]
    },
    {
     "data": {
      "image/png": "[encoded data removed]",
      "text/plain": [
       "<Figure size 324x216 with 3 Axes>"
      ]
     },
     "metadata": {
      "image/png": {
       "height": 207,
       "width": 295
      },
      "needs_background": "light"
     },
     "output_type": "display_data"
    }
   ],
   "source": [
    "import matplotlib.pyplot as plt\n",
    "\n",
    "i = (df.direct_time <= 0) | (df.fft_time <= 0)\n",
    "show = df[~i].copy()\n",
    "show[\"log_ratio\"] = np.log2(show[\"fft_time\"] / show[\"direct_time\"]);\n",
    "show = show[[\"log_ratio\", \"correct\", \"mode\", \"cond\", \"direct_time\"]].copy()\n",
    "show[\"log_ratio_binned\"] = np.round(show.log_ratio, decimals=1)\n",
    "show[\"log10(direct_time_binned)\"] = np.round(np.log10(show.direct_time), decimals=1)\n",
    "\n",
    "w = 3\n",
    "fig, axs = plt.subplots(nrows=3, figsize=(1.5 * w, w))\n",
    "\n",
    "for i, (ax, mode) in enumerate(zip(axs, [\"full\", \"valid\", \"same\"])):\n",
    "    for cond in [\"np_conv\", \"sp_conv\"]:\n",
    "        if mode != \"same\":\n",
    "            s = show[show[\"mode\"] == mode]\n",
    "        else:\n",
    "            idx = (show[\"mode\"] == mode) & (show[\"cond\"] == cond)\n",
    "            s = show[idx]\n",
    "        if \"sp\" in cond and mode != \"same\":\n",
    "            continue\n",
    "        frac_fft_faster = (s.log_ratio < -1).sum() / len(s)\n",
    "        print(f\"FFT >2x faster for {100 * frac_fft_faster:0.2f}% of tests in mode={mode} and cond={cond}\")\n",
    "        correct_predictions = s.pivot_table(\n",
    "            #index=\"log_ratio_binned\",\n",
    "            index=\"log10(direct_time_binned)\",\n",
    "            values=\"correct\",\n",
    "            aggfunc=np.mean\n",
    "        )\n",
    "        label = mode if mode != \"same\" else cond\n",
    "        print(label)\n",
    "        ax.plot(correct_predictions, label=label)\n",
    "#         _ = ax.set_xlim(-4, 4)\n",
    "        _ = ax.set_ylim(-0.1, 1.1)\n",
    "        _ = ax.legend(loc=\"best\")\n",
    "#         _ = ax.plot([0, 0], ax.get_ylim())\n",
    "        _ = ax.set_ylabel(mode)\n",
    "        _ = ax.grid(which=\"both\", alpha=0.4)\n",
    "        _ = ax.set_xlim(-5, 0)\n",
    "        ax.legend_.remove()\n",
    "        if i == 2:\n",
    "            _ = ax.set_xlabel(\"log10 direct_time\")\n",
    "            ax.legend(loc=\"best\")\n",
    "#             ax.set_xlim(-4, -3)\n",
    "plt.savefig(DIR + \"1d-direct-time-correct.png\", bbox_inches=\"tight\")"
   ]
  },
  {
   "cell_type": "code",
   "execution_count": 20,
   "metadata": {},
   "outputs": [
    {
     "data": {
      "text/plain": [
       "Index(['shape1[0]', 'shape2[0]', 'mode', 'seed', 'fft_time', 'direct_time',\n",
       "       'total_params1', 'total_params2', 'faster', 'faster_est', 'correct',\n",
       "       'cond'],\n",
       "      dtype='object')"
      ]
     },
     "execution_count": 20,
     "metadata": {},
     "output_type": "execute_result"
    }
   ],
   "source": [
    "df.columns"
   ]
  },
  {
   "cell_type": "code",
   "execution_count": 21,
   "metadata": {},
   "outputs": [
    {
     "name": "stdout",
     "output_type": "stream",
     "text": [
      "direct    7068\n",
      "fft       2990\n",
      "Name: faster_est, dtype: int64\n",
      "direct    6827\n",
      "fft       3231\n",
      "Name: faster, dtype: int64\n",
      "fft       8804\n",
      "direct    1138\n",
      "Name: faster_est, dtype: int64\n",
      "fft       7283\n",
      "direct    2659\n",
      "Name: faster, dtype: int64\n"
     ]
    }
   ],
   "source": [
    "idx = (df[\"mode\"] == \"same\") & (df.cond == \"np_conv\")\n",
    "print(df.loc[idx, \"faster_est\"].value_counts())\n",
    "print(df.loc[idx, \"faster\"].value_counts())\n",
    "\n",
    "idx = (df[\"mode\"] == \"same\") & (df.cond == \"sp_conv\")\n",
    "print(df.loc[idx, \"faster_est\"].value_counts())\n",
    "print(df.loc[idx, \"faster\"].value_counts())"
   ]
  },
  {
   "cell_type": "code",
   "execution_count": 22,
   "metadata": {},
   "outputs": [
    {
     "name": "stdout",
     "output_type": "stream",
     "text": [
      "FFT >2x faster for 23.60% of tests in mode=full\n",
      "FFT >2x faster for 20.32% of tests in mode=valid\n",
      "FFT >2x faster for 43.32% of tests in mode=same\n"
     ]
    },
    {
     "data": {
      "text/plain": [
       "Text(0.5, 0, 'number')"
      ]
     },
     "execution_count": 22,
     "metadata": {},
     "output_type": "execute_result"
    },
    {
     "data": {
      "image/png": "[encoded data removed]",
      "text/plain": [
       "<Figure size 540x540 with 3 Axes>"
      ]
     },
     "metadata": {
      "image/png": {
       "height": 452,
       "width": 454
      },
      "needs_background": "light"
     },
     "output_type": "display_data"
    }
   ],
   "source": [
    "import matplotlib.pyplot as plt\n",
    "\n",
    "i = (df.direct_time <= 0) | (df.fft_time <= 0)\n",
    "show = df[~i].copy()\n",
    "show[\"log_ratio\"] = np.log2(show[\"fft_time\"] / show[\"direct_time\"]);\n",
    "show = show[[\"log_ratio\", \"correct\", \"mode\"]].copy()\n",
    "show[\"log_ratio_binned\"] = np.round(show.log_ratio, decimals=1)\n",
    "\n",
    "w = 5\n",
    "fig, axs = plt.subplots(nrows=3, figsize=(1.5 * w, 1.5 * w))\n",
    "\n",
    "for i, (ax, mode) in enumerate(zip(axs, [\"full\", \"valid\", \"same\"])):\n",
    "    s = show[show[\"mode\"] == mode]\n",
    "    frac_fft_faster = (s.log_ratio < -1).sum() / len(s)\n",
    "    print(f\"FFT >2x faster for {100 * frac_fft_faster:0.2f}% of tests in mode={mode}\")\n",
    "    num = s.pivot_table(\n",
    "        index=\"log_ratio_binned\",\n",
    "        values=\"correct\",\n",
    "        aggfunc=len,\n",
    "    )\n",
    "    _ = ax = num.plot(ax=ax)\n",
    "    ax.set_yscale(\"log\", basey=2)\n",
    "    _ = ax.set_xlim(-6, 6)\n",
    "#     _ = ax.set_ylim(-0.1, 1.1)\n",
    "#     _ = ax.plot([0, 0], ax.get_ylim())\n",
    "#     _ = ax.set_ylabel(mode)\n",
    "    _ = ax.grid(alpha=0.4)\n",
    "    if i == 2:\n",
    "        ax.set_xlabel(\"number\")\n",
    "#         ax.text(-3, -0.5, \"← FFT faster\")\n",
    "#         ax.text(2, -0.5, \"direct faster →\")\n",
    "#     else:\n",
    "#         ax.legend_.remove()"
   ]
  },
  {
   "cell_type": "code",
   "execution_count": 23,
   "metadata": {},
   "outputs": [
    {
     "data": {
      "text/html": [
       "<div>\n",
       "<style scoped>\n",
       "    .dataframe tbody tr th:only-of-type {\n",
       "        vertical-align: middle;\n",
       "    }\n",
       "\n",
       "    .dataframe tbody tr th {\n",
       "        vertical-align: top;\n",
       "    }\n",
       "\n",
       "    .dataframe thead th {\n",
       "        text-align: right;\n",
       "    }\n",
       "</style>\n",
       "<table border=\"1\" class=\"dataframe\">\n",
       "  <thead>\n",
       "    <tr style=\"text-align: right;\">\n",
       "      <th></th>\n",
       "      <th>shape1[0]</th>\n",
       "      <th>shape2[0]</th>\n",
       "    </tr>\n",
       "  </thead>\n",
       "  <tbody>\n",
       "    <tr>\n",
       "      <td>23</td>\n",
       "      <td>6</td>\n",
       "      <td>10106</td>\n",
       "    </tr>\n",
       "    <tr>\n",
       "      <td>50</td>\n",
       "      <td>30</td>\n",
       "      <td>697</td>\n",
       "    </tr>\n",
       "    <tr>\n",
       "      <td>65</td>\n",
       "      <td>4</td>\n",
       "      <td>60</td>\n",
       "    </tr>\n",
       "    <tr>\n",
       "      <td>68</td>\n",
       "      <td>26</td>\n",
       "      <td>452</td>\n",
       "    </tr>\n",
       "    <tr>\n",
       "      <td>173</td>\n",
       "      <td>7</td>\n",
       "      <td>33</td>\n",
       "    </tr>\n",
       "    <tr>\n",
       "      <td>...</td>\n",
       "      <td>...</td>\n",
       "      <td>...</td>\n",
       "    </tr>\n",
       "    <tr>\n",
       "      <td>59927</td>\n",
       "      <td>50</td>\n",
       "      <td>115</td>\n",
       "    </tr>\n",
       "    <tr>\n",
       "      <td>59939</td>\n",
       "      <td>8</td>\n",
       "      <td>202</td>\n",
       "    </tr>\n",
       "    <tr>\n",
       "      <td>59948</td>\n",
       "      <td>22381</td>\n",
       "      <td>39</td>\n",
       "    </tr>\n",
       "    <tr>\n",
       "      <td>59963</td>\n",
       "      <td>3</td>\n",
       "      <td>5</td>\n",
       "    </tr>\n",
       "    <tr>\n",
       "      <td>59987</td>\n",
       "      <td>14</td>\n",
       "      <td>266</td>\n",
       "    </tr>\n",
       "  </tbody>\n",
       "</table>\n",
       "<p>2554 rows × 2 columns</p>\n",
       "</div>"
      ],
      "text/plain": [
       "       shape1[0]  shape2[0]\n",
       "23             6      10106\n",
       "50            30        697\n",
       "65             4         60\n",
       "68            26        452\n",
       "173            7         33\n",
       "...          ...        ...\n",
       "59927         50        115\n",
       "59939          8        202\n",
       "59948      22381         39\n",
       "59963          3          5\n",
       "59987         14        266\n",
       "\n",
       "[2554 rows x 2 columns]"
      ]
     },
     "execution_count": 23,
     "metadata": {},
     "output_type": "execute_result"
    }
   ],
   "source": [
    "idx = (wrong[\"mode\"] == \"same\") & (wrong[\"direct_time\"] < 10**-3)\n",
    "shapes = [\"shape1[0]\", \"shape2[0]\"]\n",
    "wrong.loc[idx, shapes]"
   ]
  },
  {
   "cell_type": "code",
   "execution_count": null,
   "metadata": {},
   "outputs": [],
   "source": []
  },
  {
   "cell_type": "code",
   "execution_count": 24,
   "metadata": {},
   "outputs": [
    {
     "data": {
      "text/plain": [
       "mode   cond     faster_est\n",
       "full   a        direct        13220\n",
       "                fft            6780\n",
       "same   np_conv  direct         7068\n",
       "                fft            2990\n",
       "       sp_conv  fft            8804\n",
       "                direct         1138\n",
       "valid  a        direct        14095\n",
       "                fft            5905\n",
       "Name: faster_est, dtype: int64"
      ]
     },
     "execution_count": 24,
     "metadata": {},
     "output_type": "execute_result"
    }
   ],
   "source": [
    "df.groupby([\"mode\", \"cond\"])[\"faster_est\"].value_counts()"
   ]
  },
  {
   "cell_type": "code",
   "execution_count": 25,
   "metadata": {},
   "outputs": [
    {
     "data": {
      "text/plain": [
       "mode   cond     faster\n",
       "full   a        direct    13246\n",
       "                fft        6754\n",
       "same   np_conv  direct     6827\n",
       "                fft        3231\n",
       "       sp_conv  fft        7283\n",
       "                direct     2659\n",
       "valid  a        direct    14229\n",
       "                fft        5771\n",
       "Name: faster, dtype: int64"
      ]
     },
     "execution_count": 25,
     "metadata": {},
     "output_type": "execute_result"
    }
   ],
   "source": [
    "df.groupby([\"mode\", \"cond\"])[\"faster\"].value_counts()"
   ]
  },
  {
   "cell_type": "code",
   "execution_count": null,
   "metadata": {},
   "outputs": [],
   "source": []
  }
 ],
 "metadata": {
  "kernelspec": {
   "display_name": "Python 3",
   "language": "python",
   "name": "python3"
  },
  "language_info": {
   "codemirror_mode": {
    "name": "ipython",
    "version": 3
   },
   "file_extension": ".py",
   "mimetype": "text/x-python",
   "name": "python",
   "nbconvert_exporter": "python",
   "pygments_lexer": "ipython3",
   "version": "3.7.3"
  }
 },
 "nbformat": 4,
 "nbformat_minor": 4
}
