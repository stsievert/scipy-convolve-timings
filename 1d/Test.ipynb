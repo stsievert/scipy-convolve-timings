{
 "cells": [
  {
   "cell_type": "code",
   "execution_count": 1,
   "metadata": {},
   "outputs": [
    {
     "name": "stdout",
     "output_type": "stream",
     "text": [
      "60000\n"
     ]
    },
    {
     "data": {
      "text/html": [
       "<div>\n",
       "<style scoped>\n",
       "    .dataframe tbody tr th:only-of-type {\n",
       "        vertical-align: middle;\n",
       "    }\n",
       "\n",
       "    .dataframe tbody tr th {\n",
       "        vertical-align: top;\n",
       "    }\n",
       "\n",
       "    .dataframe thead th {\n",
       "        text-align: right;\n",
       "    }\n",
       "</style>\n",
       "<table border=\"1\" class=\"dataframe\">\n",
       "  <thead>\n",
       "    <tr style=\"text-align: right;\">\n",
       "      <th></th>\n",
       "      <th>shape1[0]</th>\n",
       "      <th>shape2[0]</th>\n",
       "      <th>mode</th>\n",
       "      <th>seed</th>\n",
       "      <th>fft_time</th>\n",
       "      <th>direct_time</th>\n",
       "      <th>total_params1</th>\n",
       "      <th>total_params2</th>\n",
       "    </tr>\n",
       "  </thead>\n",
       "  <tbody>\n",
       "    <tr>\n",
       "      <td>59995</td>\n",
       "      <td>45</td>\n",
       "      <td>949</td>\n",
       "      <td>full</td>\n",
       "      <td>19998</td>\n",
       "      <td>0.000166</td>\n",
       "      <td>0.000067</td>\n",
       "      <td>45</td>\n",
       "      <td>949</td>\n",
       "    </tr>\n",
       "    <tr>\n",
       "      <td>59996</td>\n",
       "      <td>45</td>\n",
       "      <td>949</td>\n",
       "      <td>same</td>\n",
       "      <td>19998</td>\n",
       "      <td>0.000179</td>\n",
       "      <td>0.000518</td>\n",
       "      <td>45</td>\n",
       "      <td>949</td>\n",
       "    </tr>\n",
       "    <tr>\n",
       "      <td>59997</td>\n",
       "      <td>23489</td>\n",
       "      <td>45440</td>\n",
       "      <td>valid</td>\n",
       "      <td>19999</td>\n",
       "      <td>0.003046</td>\n",
       "      <td>0.099871</td>\n",
       "      <td>23489</td>\n",
       "      <td>45440</td>\n",
       "    </tr>\n",
       "    <tr>\n",
       "      <td>59998</td>\n",
       "      <td>23489</td>\n",
       "      <td>45440</td>\n",
       "      <td>full</td>\n",
       "      <td>19999</td>\n",
       "      <td>0.002872</td>\n",
       "      <td>0.213914</td>\n",
       "      <td>23489</td>\n",
       "      <td>45440</td>\n",
       "    </tr>\n",
       "    <tr>\n",
       "      <td>59999</td>\n",
       "      <td>23489</td>\n",
       "      <td>45440</td>\n",
       "      <td>same</td>\n",
       "      <td>19999</td>\n",
       "      <td>0.002797</td>\n",
       "      <td>13.728895</td>\n",
       "      <td>23489</td>\n",
       "      <td>45440</td>\n",
       "    </tr>\n",
       "  </tbody>\n",
       "</table>\n",
       "</div>"
      ],
      "text/plain": [
       "       shape1[0]  shape2[0]   mode   seed  fft_time  direct_time  \\\n",
       "59995         45        949   full  19998  0.000166     0.000067   \n",
       "59996         45        949   same  19998  0.000179     0.000518   \n",
       "59997      23489      45440  valid  19999  0.003046     0.099871   \n",
       "59998      23489      45440   full  19999  0.002872     0.213914   \n",
       "59999      23489      45440   same  19999  0.002797    13.728895   \n",
       "\n",
       "       total_params1  total_params2  \n",
       "59995             45            949  \n",
       "59996             45            949  \n",
       "59997          23489          45440  \n",
       "59998          23489          45440  \n",
       "59999          23489          45440  "
      ]
     },
     "execution_count": 1,
     "metadata": {},
     "output_type": "execute_result"
    }
   ],
   "source": [
    "import pandas as pd\n",
    "from ast import literal_eval\n",
    "import numpy as np\n",
    "np.seterr(all=\"raise\")\n",
    "\n",
    "today = \"2019-11-06\"\n",
    "\n",
    "df = pd.read_parquet(f\"out/{today}-1d-test.parquet\")\n",
    "df[\"total_params1\"] = df[\"shape1[0]\"]# * df[\"shape1[1]\"]\n",
    "df[\"total_params2\"] = df[\"shape2[0]\"]# * df[\"shape2[1]\"]\n",
    "print(len(df))\n",
    "df.tail()"
   ]
  },
  {
   "cell_type": "code",
   "execution_count": 2,
   "metadata": {},
   "outputs": [],
   "source": [
    "%load_ext autoreload\n",
    "%autoreload 2"
   ]
  },
  {
   "cell_type": "code",
   "execution_count": 3,
   "metadata": {},
   "outputs": [],
   "source": [
    "import sys\n",
    "sys.path.append(\"..\")\n",
    "from common import _fftconv_faster_test as _fftconv_faster"
   ]
  },
  {
   "cell_type": "code",
   "execution_count": 4,
   "metadata": {},
   "outputs": [],
   "source": [
    "\n",
    "def estimate_faster_method(row):\n",
    "    x_shape = (row[\"shape1[0]\"], )\n",
    "    h_shape = (row[\"shape2[0]\"], )\n",
    "    mode = row[\"mode\"]\n",
    "    return _fftconv_faster(x_shape, h_shape, mode, test=False)"
   ]
  },
  {
   "cell_type": "code",
   "execution_count": 5,
   "metadata": {},
   "outputs": [
    {
     "name": "stdout",
     "output_type": "stream",
     "text": [
      "Predicted fastest method 89.67% of the time\n"
     ]
    }
   ],
   "source": [
    "fft_faster = df[\"fft_time\"] < df[\"direct_time\"]\n",
    "df[\"faster\"] = \"\"\n",
    "df.loc[fft_faster, \"faster\"] = \"fft\"\n",
    "df.loc[~fft_faster, \"faster\"] = \"direct\"\n",
    "\n",
    "df[\"faster_est\"] = df.apply(estimate_faster_method, axis=1)\n",
    "\n",
    "df[\"correct\"] = (df.faster == df.faster_est)\n",
    "acc = df[\"correct\"].sum() / len(df)\n",
    "print(f\"Predicted fastest method {100 * acc:0.2f}% of the time\")"
   ]
  },
  {
   "cell_type": "markdown",
   "metadata": {},
   "source": [
    "**Goal for accuracy on predicting fastest**: >90% -- that's the performance seen with code from SciPy 1.3 (after uncommenting `_get_constant` function above)"
   ]
  },
  {
   "cell_type": "code",
   "execution_count": 6,
   "metadata": {},
   "outputs": [],
   "source": [
    "idx = (df[\"mode\"] == \"same\") & (df[\"shape1[0]\"] < df[\"shape2[0]\"])\n",
    "df[\"cond\"] = \"a\"\n",
    "df.loc[idx, \"cond\"] = \"sp_conv\"\n",
    "idx = (df[\"mode\"] == \"same\") & (df[\"shape1[0]\"] >= df[\"shape2[0]\"])\n",
    "df.loc[idx, \"cond\"] = \"np_conv\""
   ]
  },
  {
   "cell_type": "code",
   "execution_count": 7,
   "metadata": {},
   "outputs": [
    {
     "data": {
      "text/plain": [
       "mode   cond   \n",
       "full   a          20000\n",
       "same   np_conv    10058\n",
       "       sp_conv     9942\n",
       "valid  a          20000\n",
       "Name: correct, dtype: int64"
      ]
     },
     "execution_count": 7,
     "metadata": {},
     "output_type": "execute_result"
    }
   ],
   "source": [
    "df.groupby([\"mode\", \"cond\"])[\"correct\"].count()"
   ]
  },
  {
   "cell_type": "code",
   "execution_count": 10,
   "metadata": {},
   "outputs": [
    {
     "name": "stdout",
     "output_type": "stream",
     "text": [
      "    mode     cond     value\n",
      "0   full        a  0.884900\n",
      "2  valid        a  0.937000\n",
      "4   same  np_conv  0.923842\n",
      "7   same  sp_conv  0.811909\n"
     ]
    }
   ],
   "source": [
    "t = show = df.pivot_table(\n",
    "    columns=\"cond\",\n",
    "    index=\"mode\",\n",
    "    values=\"correct\",\n",
    "    aggfunc=np.mean,\n",
    ").reset_index()\n",
    "t = t.melt(id_vars=[\"mode\"]).dropna()\n",
    "print(t)\n",
    "# t[t.cond != \"a\"]"
   ]
  },
  {
   "cell_type": "code",
   "execution_count": 11,
   "metadata": {},
   "outputs": [
    {
     "data": {
      "text/html": [
       "<div>\n",
       "<style scoped>\n",
       "    .dataframe tbody tr th:only-of-type {\n",
       "        vertical-align: middle;\n",
       "    }\n",
       "\n",
       "    .dataframe tbody tr th {\n",
       "        vertical-align: top;\n",
       "    }\n",
       "\n",
       "    .dataframe thead th {\n",
       "        text-align: right;\n",
       "    }\n",
       "</style>\n",
       "<table border=\"1\" class=\"dataframe\">\n",
       "  <thead>\n",
       "    <tr style=\"text-align: right;\">\n",
       "      <th></th>\n",
       "      <th>shape1[0]</th>\n",
       "      <th>shape2[0]</th>\n",
       "      <th>mode</th>\n",
       "      <th>seed</th>\n",
       "      <th>fft_time</th>\n",
       "      <th>direct_time</th>\n",
       "      <th>total_params1</th>\n",
       "      <th>total_params2</th>\n",
       "      <th>faster</th>\n",
       "      <th>faster_est</th>\n",
       "      <th>correct</th>\n",
       "      <th>cond</th>\n",
       "      <th>ratio</th>\n",
       "    </tr>\n",
       "  </thead>\n",
       "  <tbody>\n",
       "    <tr>\n",
       "      <td>10427</td>\n",
       "      <td>28</td>\n",
       "      <td>74823</td>\n",
       "      <td>same</td>\n",
       "      <td>3475</td>\n",
       "      <td>0.002825</td>\n",
       "      <td>0.021310</td>\n",
       "      <td>28</td>\n",
       "      <td>74823</td>\n",
       "      <td>fft</td>\n",
       "      <td>direct</td>\n",
       "      <td>False</td>\n",
       "      <td>sp_conv</td>\n",
       "      <td>7.543889</td>\n",
       "    </tr>\n",
       "    <tr>\n",
       "      <td>6521</td>\n",
       "      <td>30</td>\n",
       "      <td>72897</td>\n",
       "      <td>same</td>\n",
       "      <td>2173</td>\n",
       "      <td>0.003037</td>\n",
       "      <td>0.021894</td>\n",
       "      <td>30</td>\n",
       "      <td>72897</td>\n",
       "      <td>fft</td>\n",
       "      <td>direct</td>\n",
       "      <td>False</td>\n",
       "      <td>sp_conv</td>\n",
       "      <td>7.208415</td>\n",
       "    </tr>\n",
       "    <tr>\n",
       "      <td>40916</td>\n",
       "      <td>25</td>\n",
       "      <td>89099</td>\n",
       "      <td>same</td>\n",
       "      <td>13638</td>\n",
       "      <td>0.003192</td>\n",
       "      <td>0.022532</td>\n",
       "      <td>25</td>\n",
       "      <td>89099</td>\n",
       "      <td>fft</td>\n",
       "      <td>direct</td>\n",
       "      <td>False</td>\n",
       "      <td>sp_conv</td>\n",
       "      <td>7.059083</td>\n",
       "    </tr>\n",
       "    <tr>\n",
       "      <td>32330</td>\n",
       "      <td>24</td>\n",
       "      <td>95793</td>\n",
       "      <td>same</td>\n",
       "      <td>10776</td>\n",
       "      <td>0.003337</td>\n",
       "      <td>0.023390</td>\n",
       "      <td>24</td>\n",
       "      <td>95793</td>\n",
       "      <td>fft</td>\n",
       "      <td>direct</td>\n",
       "      <td>False</td>\n",
       "      <td>sp_conv</td>\n",
       "      <td>7.009431</td>\n",
       "    </tr>\n",
       "    <tr>\n",
       "      <td>41003</td>\n",
       "      <td>28</td>\n",
       "      <td>84623</td>\n",
       "      <td>same</td>\n",
       "      <td>13667</td>\n",
       "      <td>0.004239</td>\n",
       "      <td>0.024287</td>\n",
       "      <td>28</td>\n",
       "      <td>84623</td>\n",
       "      <td>fft</td>\n",
       "      <td>direct</td>\n",
       "      <td>False</td>\n",
       "      <td>sp_conv</td>\n",
       "      <td>5.730003</td>\n",
       "    </tr>\n",
       "    <tr>\n",
       "      <td>37541</td>\n",
       "      <td>29</td>\n",
       "      <td>81257</td>\n",
       "      <td>same</td>\n",
       "      <td>12513</td>\n",
       "      <td>0.003553</td>\n",
       "      <td>0.024616</td>\n",
       "      <td>29</td>\n",
       "      <td>81257</td>\n",
       "      <td>fft</td>\n",
       "      <td>direct</td>\n",
       "      <td>False</td>\n",
       "      <td>sp_conv</td>\n",
       "      <td>6.928797</td>\n",
       "    </tr>\n",
       "    <tr>\n",
       "      <td>4724</td>\n",
       "      <td>26</td>\n",
       "      <td>91399</td>\n",
       "      <td>same</td>\n",
       "      <td>1574</td>\n",
       "      <td>0.004209</td>\n",
       "      <td>0.025054</td>\n",
       "      <td>26</td>\n",
       "      <td>91399</td>\n",
       "      <td>fft</td>\n",
       "      <td>direct</td>\n",
       "      <td>False</td>\n",
       "      <td>sp_conv</td>\n",
       "      <td>5.952082</td>\n",
       "    </tr>\n",
       "    <tr>\n",
       "      <td>33164</td>\n",
       "      <td>28</td>\n",
       "      <td>83948</td>\n",
       "      <td>same</td>\n",
       "      <td>11054</td>\n",
       "      <td>0.003214</td>\n",
       "      <td>0.025643</td>\n",
       "      <td>28</td>\n",
       "      <td>83948</td>\n",
       "      <td>fft</td>\n",
       "      <td>direct</td>\n",
       "      <td>False</td>\n",
       "      <td>sp_conv</td>\n",
       "      <td>7.978709</td>\n",
       "    </tr>\n",
       "    <tr>\n",
       "      <td>20990</td>\n",
       "      <td>30</td>\n",
       "      <td>89938</td>\n",
       "      <td>same</td>\n",
       "      <td>6996</td>\n",
       "      <td>0.003333</td>\n",
       "      <td>0.026413</td>\n",
       "      <td>30</td>\n",
       "      <td>89938</td>\n",
       "      <td>fft</td>\n",
       "      <td>direct</td>\n",
       "      <td>False</td>\n",
       "      <td>sp_conv</td>\n",
       "      <td>7.925526</td>\n",
       "    </tr>\n",
       "    <tr>\n",
       "      <td>32465</td>\n",
       "      <td>30</td>\n",
       "      <td>92313</td>\n",
       "      <td>same</td>\n",
       "      <td>10821</td>\n",
       "      <td>0.004017</td>\n",
       "      <td>0.028138</td>\n",
       "      <td>30</td>\n",
       "      <td>92313</td>\n",
       "      <td>fft</td>\n",
       "      <td>direct</td>\n",
       "      <td>False</td>\n",
       "      <td>sp_conv</td>\n",
       "      <td>7.004095</td>\n",
       "    </tr>\n",
       "  </tbody>\n",
       "</table>\n",
       "</div>"
      ],
      "text/plain": [
       "       shape1[0]  shape2[0]  mode   seed  fft_time  direct_time  \\\n",
       "10427         28      74823  same   3475  0.002825     0.021310   \n",
       "6521          30      72897  same   2173  0.003037     0.021894   \n",
       "40916         25      89099  same  13638  0.003192     0.022532   \n",
       "32330         24      95793  same  10776  0.003337     0.023390   \n",
       "41003         28      84623  same  13667  0.004239     0.024287   \n",
       "37541         29      81257  same  12513  0.003553     0.024616   \n",
       "4724          26      91399  same   1574  0.004209     0.025054   \n",
       "33164         28      83948  same  11054  0.003214     0.025643   \n",
       "20990         30      89938  same   6996  0.003333     0.026413   \n",
       "32465         30      92313  same  10821  0.004017     0.028138   \n",
       "\n",
       "       total_params1  total_params2 faster faster_est  correct     cond  \\\n",
       "10427             28          74823    fft     direct    False  sp_conv   \n",
       "6521              30          72897    fft     direct    False  sp_conv   \n",
       "40916             25          89099    fft     direct    False  sp_conv   \n",
       "32330             24          95793    fft     direct    False  sp_conv   \n",
       "41003             28          84623    fft     direct    False  sp_conv   \n",
       "37541             29          81257    fft     direct    False  sp_conv   \n",
       "4724              26          91399    fft     direct    False  sp_conv   \n",
       "33164             28          83948    fft     direct    False  sp_conv   \n",
       "20990             30          89938    fft     direct    False  sp_conv   \n",
       "32465             30          92313    fft     direct    False  sp_conv   \n",
       "\n",
       "          ratio  \n",
       "10427  7.543889  \n",
       "6521   7.208415  \n",
       "40916  7.059083  \n",
       "32330  7.009431  \n",
       "41003  5.730003  \n",
       "37541  6.928797  \n",
       "4724   5.952082  \n",
       "33164  7.978709  \n",
       "20990  7.925526  \n",
       "32465  7.004095  "
      ]
     },
     "execution_count": 11,
     "metadata": {},
     "output_type": "execute_result"
    }
   ],
   "source": [
    "wrong_idx = df.faster != df.faster_est\n",
    "wrong =  df[wrong_idx].copy()\n",
    "wrong[\"ratio\"] = wrong.fft_time / wrong.direct_time\n",
    "idx = wrong.ratio < 1\n",
    "wrong.loc[idx, \"ratio\"] = 1 / wrong.loc[idx, \"ratio\"]\n",
    "\n",
    "vals = wrong.copy()\n",
    "vals.sort_values(by=\"direct_time\", inplace=True)\n",
    "vals.tail(n=10)"
   ]
  },
  {
   "cell_type": "code",
   "execution_count": 12,
   "metadata": {},
   "outputs": [
    {
     "name": "stdout",
     "output_type": "stream",
     "text": [
      "['direct' 'fft']\n",
      "['fft' 'direct']\n",
      "[False]\n"
     ]
    },
    {
     "data": {
      "text/html": [
       "<div>\n",
       "<style scoped>\n",
       "    .dataframe tbody tr th:only-of-type {\n",
       "        vertical-align: middle;\n",
       "    }\n",
       "\n",
       "    .dataframe tbody tr th {\n",
       "        vertical-align: top;\n",
       "    }\n",
       "\n",
       "    .dataframe thead th {\n",
       "        text-align: right;\n",
       "    }\n",
       "</style>\n",
       "<table border=\"1\" class=\"dataframe\">\n",
       "  <thead>\n",
       "    <tr style=\"text-align: right;\">\n",
       "      <th></th>\n",
       "      <th>correct</th>\n",
       "    </tr>\n",
       "    <tr>\n",
       "      <th>mode</th>\n",
       "      <th></th>\n",
       "    </tr>\n",
       "  </thead>\n",
       "  <tbody>\n",
       "    <tr>\n",
       "      <td>full</td>\n",
       "      <td>False</td>\n",
       "    </tr>\n",
       "    <tr>\n",
       "      <td>same</td>\n",
       "      <td>False</td>\n",
       "    </tr>\n",
       "    <tr>\n",
       "      <td>valid</td>\n",
       "      <td>False</td>\n",
       "    </tr>\n",
       "  </tbody>\n",
       "</table>\n",
       "</div>"
      ],
      "text/plain": [
       "       correct\n",
       "mode          \n",
       "full     False\n",
       "same     False\n",
       "valid    False"
      ]
     },
     "execution_count": 12,
     "metadata": {},
     "output_type": "execute_result"
    }
   ],
   "source": [
    "vals[\"correct\"] = (vals[\"faster\"] == vals[\"faster_est\"])#.astype(float)\n",
    "print(vals[\"faster\"].unique())\n",
    "print(vals[\"faster_est\"].unique())\n",
    "print(vals.correct.unique())\n",
    "\n",
    "vals.pivot_table(\n",
    "    index=\"mode\",\n",
    "    values=\"correct\",\n",
    "    aggfunc=np.mean,\n",
    ")"
   ]
  },
  {
   "cell_type": "code",
   "execution_count": 13,
   "metadata": {},
   "outputs": [
    {
     "data": {
      "text/plain": [
       "10.105960264900663"
      ]
     },
     "execution_count": 13,
     "metadata": {},
     "output_type": "execute_result"
    }
   ],
   "source": [
    "vals.ratio.max()"
   ]
  },
  {
   "cell_type": "code",
   "execution_count": 14,
   "metadata": {},
   "outputs": [
    {
     "data": {
      "text/plain": [
       "-0.022168636322021484"
      ]
     },
     "execution_count": 14,
     "metadata": {},
     "output_type": "execute_result"
    }
   ],
   "source": [
    "vals.direct_time.min()"
   ]
  },
  {
   "cell_type": "code",
   "execution_count": 15,
   "metadata": {},
   "outputs": [
    {
     "data": {
      "image/png": "[encoded data removed]",
      "text/plain": [
       "<Figure size 648x216 with 3 Axes>"
      ]
     },
     "metadata": {
      "image/png": {
       "height": 209,
       "width": 552
      },
      "needs_background": "light"
     },
     "output_type": "display_data"
    }
   ],
   "source": [
    "lims = range(int(wrong.ratio.max() + 1))\n",
    "\n",
    "import matplotlib.pyplot as plt\n",
    "w = 3\n",
    "fig, axs = plt.subplots(ncols=3, figsize=(3*w, w))\n",
    "for mode, ax in zip([\"valid\", \"same\", \"full\"], axs):\n",
    "    show = wrong[wrong[\"mode\"] == mode]\n",
    "    ax = show.ratio.hist(bins=lims, ax=ax)\n",
    "    _ = ax.set_xlim(1, 10)\n",
    "    _ = ax.set_title(mode)\n",
    "    _ = ax.set_xlim(1, 10)\n",
    "    _ = ax.set_yscale(\"log\")"
   ]
  },
  {
   "cell_type": "markdown",
   "metadata": {},
   "source": [
    "**Goal for this histogram:** `ratio.max() < 5` approximately. That's the performance with SciPy 1.3 (again, after un-commenting `_get_constants` above)."
   ]
  },
  {
   "cell_type": "code",
   "execution_count": 16,
   "metadata": {},
   "outputs": [
    {
     "data": {
      "text/html": [
       "<div>\n",
       "<style scoped>\n",
       "    .dataframe tbody tr th:only-of-type {\n",
       "        vertical-align: middle;\n",
       "    }\n",
       "\n",
       "    .dataframe tbody tr th {\n",
       "        vertical-align: top;\n",
       "    }\n",
       "\n",
       "    .dataframe thead th {\n",
       "        text-align: right;\n",
       "    }\n",
       "</style>\n",
       "<table border=\"1\" class=\"dataframe\">\n",
       "  <thead>\n",
       "    <tr style=\"text-align: right;\">\n",
       "      <th></th>\n",
       "      <th>shape1[0]</th>\n",
       "      <th>shape2[0]</th>\n",
       "      <th>mode</th>\n",
       "      <th>seed</th>\n",
       "      <th>fft_time</th>\n",
       "      <th>direct_time</th>\n",
       "      <th>total_params1</th>\n",
       "      <th>total_params2</th>\n",
       "      <th>faster</th>\n",
       "      <th>faster_est</th>\n",
       "      <th>correct</th>\n",
       "      <th>cond</th>\n",
       "    </tr>\n",
       "  </thead>\n",
       "  <tbody>\n",
       "    <tr>\n",
       "      <td>3</td>\n",
       "      <td>230</td>\n",
       "      <td>5433</td>\n",
       "      <td>valid</td>\n",
       "      <td>1</td>\n",
       "      <td>0.000448</td>\n",
       "      <td>0.000371</td>\n",
       "      <td>230</td>\n",
       "      <td>5433</td>\n",
       "      <td>direct</td>\n",
       "      <td>direct</td>\n",
       "      <td>True</td>\n",
       "      <td>a</td>\n",
       "    </tr>\n",
       "    <tr>\n",
       "      <td>6</td>\n",
       "      <td>281</td>\n",
       "      <td>3</td>\n",
       "      <td>valid</td>\n",
       "      <td>2</td>\n",
       "      <td>0.000236</td>\n",
       "      <td>0.000032</td>\n",
       "      <td>281</td>\n",
       "      <td>3</td>\n",
       "      <td>direct</td>\n",
       "      <td>direct</td>\n",
       "      <td>True</td>\n",
       "      <td>a</td>\n",
       "    </tr>\n",
       "    <tr>\n",
       "      <td>15</td>\n",
       "      <td>30</td>\n",
       "      <td>26021</td>\n",
       "      <td>valid</td>\n",
       "      <td>5</td>\n",
       "      <td>0.001302</td>\n",
       "      <td>0.000763</td>\n",
       "      <td>30</td>\n",
       "      <td>26021</td>\n",
       "      <td>direct</td>\n",
       "      <td>direct</td>\n",
       "      <td>True</td>\n",
       "      <td>a</td>\n",
       "    </tr>\n",
       "    <tr>\n",
       "      <td>18</td>\n",
       "      <td>32765</td>\n",
       "      <td>95</td>\n",
       "      <td>valid</td>\n",
       "      <td>6</td>\n",
       "      <td>0.001672</td>\n",
       "      <td>0.001298</td>\n",
       "      <td>32765</td>\n",
       "      <td>95</td>\n",
       "      <td>direct</td>\n",
       "      <td>direct</td>\n",
       "      <td>True</td>\n",
       "      <td>a</td>\n",
       "    </tr>\n",
       "    <tr>\n",
       "      <td>21</td>\n",
       "      <td>6</td>\n",
       "      <td>10106</td>\n",
       "      <td>valid</td>\n",
       "      <td>7</td>\n",
       "      <td>0.000515</td>\n",
       "      <td>0.000045</td>\n",
       "      <td>6</td>\n",
       "      <td>10106</td>\n",
       "      <td>direct</td>\n",
       "      <td>direct</td>\n",
       "      <td>True</td>\n",
       "      <td>a</td>\n",
       "    </tr>\n",
       "    <tr>\n",
       "      <td>...</td>\n",
       "      <td>...</td>\n",
       "      <td>...</td>\n",
       "      <td>...</td>\n",
       "      <td>...</td>\n",
       "      <td>...</td>\n",
       "      <td>...</td>\n",
       "      <td>...</td>\n",
       "      <td>...</td>\n",
       "      <td>...</td>\n",
       "      <td>...</td>\n",
       "      <td>...</td>\n",
       "      <td>...</td>\n",
       "    </tr>\n",
       "    <tr>\n",
       "      <td>59982</td>\n",
       "      <td>8688</td>\n",
       "      <td>3</td>\n",
       "      <td>valid</td>\n",
       "      <td>19994</td>\n",
       "      <td>0.000996</td>\n",
       "      <td>0.000038</td>\n",
       "      <td>8688</td>\n",
       "      <td>3</td>\n",
       "      <td>direct</td>\n",
       "      <td>direct</td>\n",
       "      <td>True</td>\n",
       "      <td>a</td>\n",
       "    </tr>\n",
       "    <tr>\n",
       "      <td>59985</td>\n",
       "      <td>14</td>\n",
       "      <td>266</td>\n",
       "      <td>valid</td>\n",
       "      <td>19995</td>\n",
       "      <td>0.000170</td>\n",
       "      <td>0.000032</td>\n",
       "      <td>14</td>\n",
       "      <td>266</td>\n",
       "      <td>direct</td>\n",
       "      <td>direct</td>\n",
       "      <td>True</td>\n",
       "      <td>a</td>\n",
       "    </tr>\n",
       "    <tr>\n",
       "      <td>59988</td>\n",
       "      <td>162</td>\n",
       "      <td>5</td>\n",
       "      <td>valid</td>\n",
       "      <td>19996</td>\n",
       "      <td>0.000161</td>\n",
       "      <td>0.000026</td>\n",
       "      <td>162</td>\n",
       "      <td>5</td>\n",
       "      <td>direct</td>\n",
       "      <td>direct</td>\n",
       "      <td>True</td>\n",
       "      <td>a</td>\n",
       "    </tr>\n",
       "    <tr>\n",
       "      <td>59991</td>\n",
       "      <td>6</td>\n",
       "      <td>3</td>\n",
       "      <td>valid</td>\n",
       "      <td>19997</td>\n",
       "      <td>0.000146</td>\n",
       "      <td>0.000024</td>\n",
       "      <td>6</td>\n",
       "      <td>3</td>\n",
       "      <td>direct</td>\n",
       "      <td>direct</td>\n",
       "      <td>True</td>\n",
       "      <td>a</td>\n",
       "    </tr>\n",
       "    <tr>\n",
       "      <td>59994</td>\n",
       "      <td>45</td>\n",
       "      <td>949</td>\n",
       "      <td>valid</td>\n",
       "      <td>19998</td>\n",
       "      <td>0.000188</td>\n",
       "      <td>0.000065</td>\n",
       "      <td>45</td>\n",
       "      <td>949</td>\n",
       "      <td>direct</td>\n",
       "      <td>direct</td>\n",
       "      <td>True</td>\n",
       "      <td>a</td>\n",
       "    </tr>\n",
       "  </tbody>\n",
       "</table>\n",
       "<p>15171 rows × 12 columns</p>\n",
       "</div>"
      ],
      "text/plain": [
       "       shape1[0]  shape2[0]   mode   seed  fft_time  direct_time  \\\n",
       "3            230       5433  valid      1  0.000448     0.000371   \n",
       "6            281          3  valid      2  0.000236     0.000032   \n",
       "15            30      26021  valid      5  0.001302     0.000763   \n",
       "18         32765         95  valid      6  0.001672     0.001298   \n",
       "21             6      10106  valid      7  0.000515     0.000045   \n",
       "...          ...        ...    ...    ...       ...          ...   \n",
       "59982       8688          3  valid  19994  0.000996     0.000038   \n",
       "59985         14        266  valid  19995  0.000170     0.000032   \n",
       "59988        162          5  valid  19996  0.000161     0.000026   \n",
       "59991          6          3  valid  19997  0.000146     0.000024   \n",
       "59994         45        949  valid  19998  0.000188     0.000065   \n",
       "\n",
       "       total_params1  total_params2  faster faster_est  correct cond  \n",
       "3                230           5433  direct     direct     True    a  \n",
       "6                281              3  direct     direct     True    a  \n",
       "15                30          26021  direct     direct     True    a  \n",
       "18             32765             95  direct     direct     True    a  \n",
       "21                 6          10106  direct     direct     True    a  \n",
       "...              ...            ...     ...        ...      ...  ...  \n",
       "59982           8688              3  direct     direct     True    a  \n",
       "59985             14            266  direct     direct     True    a  \n",
       "59988            162              5  direct     direct     True    a  \n",
       "59991              6              3  direct     direct     True    a  \n",
       "59994             45            949  direct     direct     True    a  \n",
       "\n",
       "[15171 rows x 12 columns]"
      ]
     },
     "execution_count": 16,
     "metadata": {},
     "output_type": "execute_result"
    }
   ],
   "source": [
    "i = (df[\"mode\"] == \"valid\") & (df.faster_est == \"direct\")\n",
    "df[i]"
   ]
  },
  {
   "cell_type": "code",
   "execution_count": 17,
   "metadata": {},
   "outputs": [
    {
     "name": "stdout",
     "output_type": "stream",
     "text": [
      "full\n",
      "P(ratio <= 2.75) = 94.3%\n",
      "P(ratio <= 2.81) = 95.2%\n",
      "P(ratio <= 2.87) = 95.9%\n",
      "valid\n",
      "P(ratio <= 1.84) = 94.9%\n",
      "P(ratio <= 1.90) = 95.6%\n",
      "same\n",
      "P(ratio <= 4.74) = 94.2%\n",
      "P(ratio <= 4.80) = 94.2%\n",
      "P(ratio <= 4.86) = 94.3%\n",
      "P(ratio <= 4.92) = 94.7%\n",
      "P(ratio <= 4.98) = 94.9%\n",
      "P(ratio <= 5.04) = 95.1%\n",
      "P(ratio <= 5.10) = 95.2%\n",
      "P(ratio <= 5.16) = 95.3%\n",
      "P(ratio <= 5.22) = 95.3%\n",
      "P(ratio <= 5.28) = 95.5%\n",
      "P(ratio <= 5.34) = 95.6%\n",
      "P(ratio <= 5.40) = 95.8%\n"
     ]
    }
   ],
   "source": [
    "for mode in [\"full\", \"valid\", \"same\"]:\n",
    "    print(mode)\n",
    "    for i in np.linspace(1, 12 + 1, num=200):\n",
    "        idx = wrong[\"mode\"] == mode\n",
    "        prob = (wrong[idx].ratio <= i).sum() / idx.sum()\n",
    "        msg = f\"P(ratio <= {i:0.2f}) = {100 * prob:0.1f}%\"\n",
    "        if 0.940 <= prob <= 0.960:\n",
    "            print(msg)"
   ]
  },
  {
   "cell_type": "code",
   "execution_count": 15,
   "metadata": {},
   "outputs": [
    {
     "name": "stdout",
     "output_type": "stream",
     "text": [
      "full\n",
      "P(ratio <= 2.75) = 94.3%\n",
      "P(ratio <= 2.81) = 95.2%\n",
      "P(ratio <= 2.87) = 95.9%\n",
      "valid\n",
      "P(ratio <= 1.84) = 94.9%\n",
      "P(ratio <= 1.90) = 95.6%\n",
      "same\n",
      "P(ratio <= 4.74) = 94.2%\n",
      "P(ratio <= 4.80) = 94.2%\n",
      "P(ratio <= 4.86) = 94.3%\n",
      "P(ratio <= 4.92) = 94.7%\n",
      "P(ratio <= 4.98) = 94.9%\n",
      "P(ratio <= 5.04) = 95.1%\n",
      "P(ratio <= 5.10) = 95.2%\n",
      "P(ratio <= 5.16) = 95.3%\n",
      "P(ratio <= 5.22) = 95.3%\n",
      "P(ratio <= 5.28) = 95.5%\n",
      "P(ratio <= 5.34) = 95.6%\n",
      "P(ratio <= 5.40) = 95.8%\n"
     ]
    }
   ],
   "source": [
    "for mode in [\"full\", \"valid\", \"same\"]:\n",
    "    print(mode)\n",
    "    for i in np.linspace(1, 12 + 1, num=200):\n",
    "        idx = wrong[\"mode\"] == mode\n",
    "        prob = (wrong[idx].ratio <= i).sum() / idx.sum()\n",
    "        msg = f\"P(ratio <= {i:0.2f}) = {100 * prob:0.1f}%\"\n",
    "        if 0.940 <= prob <= 0.960:\n",
    "            print(msg)"
   ]
  },
  {
   "cell_type": "code",
   "execution_count": 24,
   "metadata": {},
   "outputs": [
    {
     "name": "stdout",
     "output_type": "stream",
     "text": [
      "valid a 1260\n",
      "same np_conv 766\n",
      "same sp_conv 1870\n",
      "full a 2302\n"
     ]
    },
    {
     "data": {
      "image/png": "[encoded data removed]",
      "text/plain": [
       "<Figure size 288x288 with 1 Axes>"
      ]
     },
     "metadata": {
      "image/png": {
       "height": 304,
       "width": 302
      },
      "needs_background": "light"
     },
     "output_type": "display_data"
    }
   ],
   "source": [
    "lims = np.linspace(1, int(wrong.ratio.max() + 1), num=500)\n",
    "\n",
    "import matplotlib.pyplot as plt\n",
    "w = 4\n",
    "fig, ax = plt.subplots(figsize=(w, w))\n",
    "for mode in [\"valid\", \"same\", \"full\"]:\n",
    "    conds = \"a\" if mode != \"same\" else [\"np_conv\", \"sp_conv\"]\n",
    "    for cond in conds:\n",
    "        idx = (wrong[\"mode\"] == mode) & (wrong[\"cond\"] == cond)\n",
    "        print(mode, cond, idx.sum())\n",
    "        show = wrong[(wrong[\"mode\"] == mode) & (wrong[\"cond\"] == cond)]\n",
    "        cdf = {i: (show.ratio <= i).sum() / len(show) for i in lims}\n",
    "        ax = (1 - pd.Series(cdf)).plot(ax=ax, label=mode + \" \" + cond)\n",
    "ax.grid()\n",
    "ax.legend(loc=\"best\")\n",
    "# ax.set_yscale(\"log\")\n",
    "# _ = ax.set_ylim(0.5, 1)\n",
    "_ = ax.set_title(\"Ratio of method times\\nif wrong prediction\")\n",
    "_ = ax.set_ylabel(\"Percentage of trials\")\n",
    "_ = ax.set_xlabel(\"Ratio $r$\\n\" + r\"time(predicted_method)$= r \\cdot$ time(faster_method)\")\n",
    "_ = ax.set_xlim(2, 6)\n",
    "_ = ax.set_ylim(None, 0.1)\n",
    "_ = ax.plot(ax.get_xlim(), [0.05, 0.05])\n",
    "\n",
    "DIR = \"/Users/scott/Desktop/\"\n",
    "plt.savefig(DIR + \"1d-wrong-factor.png\", bbox_inches=\"tight\")"
   ]
  },
  {
   "cell_type": "code",
   "execution_count": 19,
   "metadata": {},
   "outputs": [
    {
     "data": {
      "text/plain": [
       "Index(['shape1[0]', 'shape2[0]', 'mode', 'seed', 'fft_time', 'direct_time',\n",
       "       'total_params1', 'total_params2', 'faster', 'faster_est', 'correct',\n",
       "       'cond'],\n",
       "      dtype='object')"
      ]
     },
     "execution_count": 19,
     "metadata": {},
     "output_type": "execute_result"
    }
   ],
   "source": [
    "df.columns"
   ]
  },
  {
   "cell_type": "code",
   "execution_count": 20,
   "metadata": {},
   "outputs": [
    {
     "name": "stdout",
     "output_type": "stream",
     "text": [
      "FFT >2x faster for 23.60% of tests in mode=full and cond=np_conv\n",
      "FFT >2x faster for 23.60% of tests in mode=full and cond=sp_conv\n",
      "FFT >2x faster for 20.32% of tests in mode=valid and cond=np_conv\n",
      "FFT >2x faster for 20.32% of tests in mode=valid and cond=sp_conv\n",
      "FFT >2x faster for 22.57% of tests in mode=same and cond=np_conv\n",
      "FFT >2x faster for 64.31% of tests in mode=same and cond=sp_conv\n"
     ]
    },
    {
     "data": {
      "image/png": "[encoded data removed]",
      "text/plain": [
       "<Figure size 324x280.8 with 3 Axes>"
      ]
     },
     "metadata": {
      "image/png": {
       "height": 272,
       "width": 301
      },
      "needs_background": "light"
     },
     "output_type": "display_data"
    }
   ],
   "source": [
    "import matplotlib.pyplot as plt\n",
    "\n",
    "i = (df.direct_time <= 0) | (df.fft_time <= 0)\n",
    "show = df[~i].copy()\n",
    "show[\"log_ratio\"] = np.log2(show[\"fft_time\"] / show[\"direct_time\"]);\n",
    "show = show[[\"log_ratio\", \"correct\", \"mode\", \"cond\", \"direct_time\"]].copy()\n",
    "show[\"log_ratio_binned\"] = np.round(show.log_ratio, decimals=1)\n",
    "\n",
    "def log_round(x, decimals=0):\n",
    "    return 2 ** np.round(np.log2(x), decimals=decimals)\n",
    "\n",
    "show[\"direct_time_binned\"] = log_round(show.direct_time, decimals=1)\n",
    "show[\"log10(direct_time)_binned\"] = np.log10(show.direct_time).round(decimals=1)\n",
    "\n",
    "x_key = \"direct_time_binned\"\n",
    "x_key = \"log10(direct_time)_binned\"\n",
    "y_key = \"correct\"\n",
    "\n",
    "w = 3\n",
    "fig, axs = plt.subplots(nrows=3, figsize=(1.5 * w, 1.3 * w))\n",
    "\n",
    "for i, (ax, mode) in enumerate(zip(axs, [\"full\", \"valid\", \"same\"])):\n",
    "    for cond in [\"np_conv\", \"sp_conv\"]:\n",
    "        if mode != \"same\":\n",
    "            s = show[show[\"mode\"] == mode]\n",
    "        else:\n",
    "            idx = (show[\"mode\"] == mode) & (show[\"cond\"] == cond)\n",
    "            s = show[idx]\n",
    "        frac_fft_faster = (s.log_ratio < -1).sum() / len(s)\n",
    "        print(f\"FFT >2x faster for {100 * frac_fft_faster:0.2f}% of tests in mode={mode} and cond={cond}\")\n",
    "        correct_predictions = s.pivot_table(\n",
    "            index=x_key,\n",
    "            values=y_key,\n",
    "            aggfunc=np.mean\n",
    "        )\n",
    "        label = mode if mode != \"same\" else cond\n",
    "        _ = ax.plot(correct_predictions, label=label)\n",
    "        _ = ax.set_ylim(-0.1, 1.1)\n",
    "        _ = ax.set_ylabel(mode)\n",
    "        _ = ax.grid(alpha=0.4)\n",
    "#         _ = ax.set_xscale(\"log\")\n",
    "        if i == 2:\n",
    "            _ = ax.set_xlabel(x_key)\n",
    "            _ = ax.legend(loc=\"best\")\n",
    "axs[0].set_title(\"Correct prediction\")\n",
    "plt.savefig(DIR + \"1d-direct-time-correct.png\", bbox_inches=\"tight\")"
   ]
  },
  {
   "cell_type": "code",
   "execution_count": 19,
   "metadata": {},
   "outputs": [
    {
     "name": "stdout",
     "output_type": "stream",
     "text": [
      "FFT >2x faster for 23.60% of tests in mode=full and cond=np_conv\n",
      "full\n"
     ]
    },
    {
     "data": {
      "text/plain": [
       "[<matplotlib.lines.Line2D at 0x120b65be0>]"
      ]
     },
     "execution_count": 19,
     "metadata": {},
     "output_type": "execute_result"
    },
    {
     "name": "stdout",
     "output_type": "stream",
     "text": [
      "FFT >2x faster for 20.32% of tests in mode=valid and cond=np_conv\n",
      "valid\n"
     ]
    },
    {
     "data": {
      "text/plain": [
       "[<matplotlib.lines.Line2D at 0x122bc7f98>]"
      ]
     },
     "execution_count": 19,
     "metadata": {},
     "output_type": "execute_result"
    },
    {
     "name": "stdout",
     "output_type": "stream",
     "text": [
      "FFT >2x faster for 22.57% of tests in mode=same and cond=np_conv\n",
      "np_conv\n"
     ]
    },
    {
     "data": {
      "text/plain": [
       "[<matplotlib.lines.Line2D at 0x120b658d0>]"
      ]
     },
     "execution_count": 19,
     "metadata": {},
     "output_type": "execute_result"
    },
    {
     "data": {
      "text/plain": [
       "<matplotlib.legend.Legend at 0x122bd4cf8>"
      ]
     },
     "execution_count": 19,
     "metadata": {},
     "output_type": "execute_result"
    },
    {
     "name": "stdout",
     "output_type": "stream",
     "text": [
      "FFT >2x faster for 64.31% of tests in mode=same and cond=sp_conv\n",
      "sp_conv\n"
     ]
    },
    {
     "data": {
      "text/plain": [
       "[<matplotlib.lines.Line2D at 0x122bc7ef0>]"
      ]
     },
     "execution_count": 19,
     "metadata": {},
     "output_type": "execute_result"
    },
    {
     "data": {
      "text/plain": [
       "<matplotlib.legend.Legend at 0x1209d6320>"
      ]
     },
     "execution_count": 19,
     "metadata": {},
     "output_type": "execute_result"
    },
    {
     "data": {
      "image/png": "[encoded data removed]",
      "text/plain": [
       "<Figure size 324x216 with 3 Axes>"
      ]
     },
     "metadata": {
      "image/png": {
       "height": 207,
       "width": 295
      },
      "needs_background": "light"
     },
     "output_type": "display_data"
    }
   ],
   "source": [
    "import matplotlib.pyplot as plt\n",
    "\n",
    "i = (df.direct_time <= 0) | (df.fft_time <= 0)\n",
    "show = df[~i].copy()\n",
    "show[\"log_ratio\"] = np.log2(show[\"fft_time\"] / show[\"direct_time\"]);\n",
    "show = show[[\"log_ratio\", \"correct\", \"mode\", \"cond\", \"direct_time\", \"faster_est\"]].copy()\n",
    "show[\"log_ratio_binned\"] = np.round(show.log_ratio, decimals=1)\n",
    "show[\"log10(direct_time_binned)\"] = np.round(np.log10(show.direct_time), decimals=1)\n",
    "\n",
    "w = 3\n",
    "fig, axs = plt.subplots(nrows=3, figsize=(1.5 * w, w))\n",
    "\n",
    "for i, (ax, mode) in enumerate(zip(axs, [\"full\", \"valid\", \"same\"])):\n",
    "    for cond in [\"np_conv\", \"sp_conv\"]:\n",
    "        if mode != \"same\":\n",
    "            s = show[show[\"mode\"] == mode].copy()\n",
    "        else:\n",
    "            idx = (show[\"mode\"] == mode) & (show[\"cond\"] == cond)\n",
    "            s = show[idx].copy()\n",
    "        if \"sp\" in cond and mode != \"same\":\n",
    "            continue\n",
    "        frac_fft_faster = (s.log_ratio < -1).sum() / len(s)\n",
    "        s[\"fft_chosen\"] = s.faster_est == \"fft\"\n",
    "        print(f\"FFT >2x faster for {100 * frac_fft_faster:0.2f}% of tests in mode={mode} and cond={cond}\")\n",
    "        correct_predictions = s.pivot_table(\n",
    "            #index=\"log_ratio_binned\",\n",
    "            index=\"log10(direct_time_binned)\",\n",
    "            values=\"fft_chosen\",\n",
    "            aggfunc=np.mean\n",
    "        )\n",
    "        label = mode if mode != \"same\" else cond\n",
    "        print(label)\n",
    "        ax.plot(correct_predictions, label=label)\n",
    "#         _ = ax.set_xlim(-4, 4)\n",
    "        _ = ax.set_ylim(-0.1, 1.1)\n",
    "        _ = ax.legend(loc=\"best\")\n",
    "#         _ = ax.plot([0, 0], ax.get_ylim())\n",
    "        _ = ax.set_ylabel(mode)\n",
    "        _ = ax.grid(which=\"both\", alpha=0.4)\n",
    "        _ = ax.set_xlim(-5, 0)\n",
    "        ax.legend_.remove()\n",
    "        if i == 2:\n",
    "            _ = ax.set_xlabel(\"log10 direct_time\")\n",
    "            ax.legend(loc=\"best\")\n",
    "#             ax.set_xlim(-4, -3)\n",
    "# plt.savefig(DIR + \"1d-direct-time-correct.png\", bbox_inches=\"tight\")"
   ]
  },
  {
   "cell_type": "markdown",
   "metadata": {},
   "source": [
    "1D w/ np.convolve: okay\n",
    "1D w/ sp.convolve: not okay\n",
    "2D: not okay"
   ]
  },
  {
   "cell_type": "code",
   "execution_count": 20,
   "metadata": {},
   "outputs": [
    {
     "data": {
      "text/plain": [
       "Index(['shape1[0]', 'shape2[0]', 'mode', 'seed', 'fft_time', 'direct_time',\n",
       "       'total_params1', 'total_params2', 'faster', 'faster_est', 'correct',\n",
       "       'cond'],\n",
       "      dtype='object')"
      ]
     },
     "execution_count": 20,
     "metadata": {},
     "output_type": "execute_result"
    }
   ],
   "source": [
    "df.columns"
   ]
  },
  {
   "cell_type": "code",
   "execution_count": 21,
   "metadata": {},
   "outputs": [
    {
     "name": "stdout",
     "output_type": "stream",
     "text": [
      "direct    6981\n",
      "fft       3077\n",
      "Name: faster_est, dtype: int64\n",
      "direct    6827\n",
      "fft       3231\n",
      "Name: faster, dtype: int64\n",
      "fft       6655\n",
      "direct    3287\n",
      "Name: faster_est, dtype: int64\n",
      "fft       7283\n",
      "direct    2659\n",
      "Name: faster, dtype: int64\n"
     ]
    }
   ],
   "source": [
    "idx = (df[\"mode\"] == \"same\") & (df.cond == \"np_conv\")\n",
    "print(df.loc[idx, \"faster_est\"].value_counts())\n",
    "print(df.loc[idx, \"faster\"].value_counts())\n",
    "\n",
    "idx = (df[\"mode\"] == \"same\") & (df.cond == \"sp_conv\")\n",
    "print(df.loc[idx, \"faster_est\"].value_counts())\n",
    "print(df.loc[idx, \"faster\"].value_counts())"
   ]
  },
  {
   "cell_type": "code",
   "execution_count": 22,
   "metadata": {},
   "outputs": [
    {
     "name": "stdout",
     "output_type": "stream",
     "text": [
      "FFT >2x faster for 23.60% of tests in mode=full\n",
      "FFT >2x faster for 20.32% of tests in mode=valid\n",
      "FFT >2x faster for 43.32% of tests in mode=same\n"
     ]
    },
    {
     "data": {
      "text/plain": [
       "Text(0.5, 0, 'number')"
      ]
     },
     "execution_count": 22,
     "metadata": {},
     "output_type": "execute_result"
    },
    {
     "data": {
      "image/png": "[encoded data removed]",
      "text/plain": [
       "<Figure size 540x540 with 3 Axes>"
      ]
     },
     "metadata": {
      "image/png": {
       "height": 452,
       "width": 468
      },
      "needs_background": "light"
     },
     "output_type": "display_data"
    }
   ],
   "source": [
    "import matplotlib.pyplot as plt\n",
    "\n",
    "i = (df.direct_time <= 0) | (df.fft_time <= 0)\n",
    "show = df[~i].copy()\n",
    "show[\"log_ratio\"] = np.log2(show[\"fft_time\"] / show[\"direct_time\"]);\n",
    "show = show[[\"log_ratio\", \"correct\", \"mode\"]].copy()\n",
    "show[\"log_ratio_binned\"] = np.round(show.log_ratio, decimals=1)\n",
    "\n",
    "w = 5\n",
    "fig, axs = plt.subplots(nrows=3, figsize=(1.5 * w, 1.5 * w))\n",
    "\n",
    "for i, (ax, mode) in enumerate(zip(axs, [\"full\", \"valid\", \"same\"])):\n",
    "    s = show[show[\"mode\"] == mode]\n",
    "    frac_fft_faster = (s.log_ratio < -1).sum() / len(s)\n",
    "    print(f\"FFT >2x faster for {100 * frac_fft_faster:0.2f}% of tests in mode={mode}\")\n",
    "    num = s.pivot_table(\n",
    "        index=\"log_ratio_binned\",\n",
    "        values=\"correct\",\n",
    "        aggfunc=len,\n",
    "    )\n",
    "    _ = ax = num.plot(ax=ax)\n",
    "    ax.set_yscale(\"log\", basey=2)\n",
    "    _ = ax.set_xlim(-6, 6)\n",
    "#     _ = ax.set_ylim(-0.1, 1.1)\n",
    "#     _ = ax.plot([0, 0], ax.get_ylim())\n",
    "#     _ = ax.set_ylabel(mode)\n",
    "    _ = ax.set_ylabel(mode)\n",
    "    _ = ax.grid(alpha=0.4)\n",
    "    if i == 2:\n",
    "        ax.set_xlabel(\"number\")\n",
    "#         ax.text(-3, -0.5, \"← FFT faster\")\n",
    "#         ax.text(2, -0.5, \"direct faster →\")\n",
    "#     else:\n",
    "#         ax.legend_.remove()"
   ]
  },
  {
   "cell_type": "code",
   "execution_count": 23,
   "metadata": {},
   "outputs": [
    {
     "data": {
      "text/html": [
       "<div>\n",
       "<style scoped>\n",
       "    .dataframe tbody tr th:only-of-type {\n",
       "        vertical-align: middle;\n",
       "    }\n",
       "\n",
       "    .dataframe tbody tr th {\n",
       "        vertical-align: top;\n",
       "    }\n",
       "\n",
       "    .dataframe thead th {\n",
       "        text-align: right;\n",
       "    }\n",
       "</style>\n",
       "<table border=\"1\" class=\"dataframe\">\n",
       "  <thead>\n",
       "    <tr style=\"text-align: right;\">\n",
       "      <th></th>\n",
       "      <th>shape1[0]</th>\n",
       "      <th>shape2[0]</th>\n",
       "    </tr>\n",
       "  </thead>\n",
       "  <tbody>\n",
       "    <tr>\n",
       "      <td>23</td>\n",
       "      <td>6</td>\n",
       "      <td>10106</td>\n",
       "    </tr>\n",
       "    <tr>\n",
       "      <td>50</td>\n",
       "      <td>30</td>\n",
       "      <td>697</td>\n",
       "    </tr>\n",
       "    <tr>\n",
       "      <td>59</td>\n",
       "      <td>8</td>\n",
       "      <td>8320</td>\n",
       "    </tr>\n",
       "    <tr>\n",
       "      <td>68</td>\n",
       "      <td>26</td>\n",
       "      <td>452</td>\n",
       "    </tr>\n",
       "    <tr>\n",
       "      <td>131</td>\n",
       "      <td>9</td>\n",
       "      <td>1705</td>\n",
       "    </tr>\n",
       "    <tr>\n",
       "      <td>...</td>\n",
       "      <td>...</td>\n",
       "      <td>...</td>\n",
       "    </tr>\n",
       "    <tr>\n",
       "      <td>59834</td>\n",
       "      <td>1404</td>\n",
       "      <td>758</td>\n",
       "    </tr>\n",
       "    <tr>\n",
       "      <td>59843</td>\n",
       "      <td>1301</td>\n",
       "      <td>400</td>\n",
       "    </tr>\n",
       "    <tr>\n",
       "      <td>59906</td>\n",
       "      <td>93</td>\n",
       "      <td>261</td>\n",
       "    </tr>\n",
       "    <tr>\n",
       "      <td>59927</td>\n",
       "      <td>50</td>\n",
       "      <td>115</td>\n",
       "    </tr>\n",
       "    <tr>\n",
       "      <td>59948</td>\n",
       "      <td>22381</td>\n",
       "      <td>39</td>\n",
       "    </tr>\n",
       "  </tbody>\n",
       "</table>\n",
       "<p>1551 rows × 2 columns</p>\n",
       "</div>"
      ],
      "text/plain": [
       "       shape1[0]  shape2[0]\n",
       "23             6      10106\n",
       "50            30        697\n",
       "59             8       8320\n",
       "68            26        452\n",
       "131            9       1705\n",
       "...          ...        ...\n",
       "59834       1404        758\n",
       "59843       1301        400\n",
       "59906         93        261\n",
       "59927         50        115\n",
       "59948      22381         39\n",
       "\n",
       "[1551 rows x 2 columns]"
      ]
     },
     "execution_count": 23,
     "metadata": {},
     "output_type": "execute_result"
    }
   ],
   "source": [
    "idx = (wrong[\"mode\"] == \"same\") & (wrong[\"direct_time\"] < 10**-3)\n",
    "shapes = [\"shape1[0]\", \"shape2[0]\"]\n",
    "wrong.loc[idx, shapes]"
   ]
  },
  {
   "cell_type": "code",
   "execution_count": null,
   "metadata": {},
   "outputs": [],
   "source": []
  },
  {
   "cell_type": "code",
   "execution_count": 24,
   "metadata": {},
   "outputs": [
    {
     "data": {
      "text/plain": [
       "mode   cond     faster_est\n",
       "full   a        direct        15534\n",
       "                fft            4466\n",
       "same   np_conv  direct         6981\n",
       "                fft            3077\n",
       "       sp_conv  fft            6655\n",
       "                direct         3287\n",
       "valid  a        direct        15171\n",
       "                fft            4829\n",
       "Name: faster_est, dtype: int64"
      ]
     },
     "execution_count": 24,
     "metadata": {},
     "output_type": "execute_result"
    }
   ],
   "source": [
    "df.groupby([\"mode\", \"cond\"])[\"faster_est\"].value_counts()"
   ]
  },
  {
   "cell_type": "code",
   "execution_count": 25,
   "metadata": {},
   "outputs": [
    {
     "data": {
      "text/plain": [
       "mode   cond     faster\n",
       "full   a        direct    13246\n",
       "                fft        6754\n",
       "same   np_conv  direct     6827\n",
       "                fft        3231\n",
       "       sp_conv  fft        7283\n",
       "                direct     2659\n",
       "valid  a        direct    14229\n",
       "                fft        5771\n",
       "Name: faster, dtype: int64"
      ]
     },
     "execution_count": 25,
     "metadata": {},
     "output_type": "execute_result"
    }
   ],
   "source": [
    "df.groupby([\"mode\", \"cond\"])[\"faster\"].value_counts()"
   ]
  },
  {
   "cell_type": "code",
   "execution_count": null,
   "metadata": {},
   "outputs": [],
   "source": []
  },
  {
   "cell_type": "code",
   "execution_count": null,
   "metadata": {},
   "outputs": [],
   "source": []
  },
  {
   "cell_type": "code",
   "execution_count": null,
   "metadata": {},
   "outputs": [],
   "source": []
  }
 ],
 "metadata": {
  "kernelspec": {
   "display_name": "Python 3",
   "language": "python",
   "name": "python3"
  },
  "language_info": {
   "codemirror_mode": {
    "name": "ipython",
    "version": 3
   },
   "file_extension": ".py",
   "mimetype": "text/x-python",
   "name": "python",
   "nbconvert_exporter": "python",
   "pygments_lexer": "ipython3",
   "version": "3.7.3"
  }
 },
 "nbformat": 4,
 "nbformat_minor": 4
}
