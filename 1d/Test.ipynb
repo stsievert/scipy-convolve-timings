{
 "cells": [
  {
   "cell_type": "code",
   "execution_count": 1,
   "metadata": {},
   "outputs": [
    {
     "name": "stdout",
     "output_type": "stream",
     "text": [
      "2973\n"
     ]
    },
    {
     "data": {
      "text/html": [
       "<div>\n",
       "<style scoped>\n",
       "    .dataframe tbody tr th:only-of-type {\n",
       "        vertical-align: middle;\n",
       "    }\n",
       "\n",
       "    .dataframe tbody tr th {\n",
       "        vertical-align: top;\n",
       "    }\n",
       "\n",
       "    .dataframe thead th {\n",
       "        text-align: right;\n",
       "    }\n",
       "</style>\n",
       "<table border=\"1\" class=\"dataframe\">\n",
       "  <thead>\n",
       "    <tr style=\"text-align: right;\">\n",
       "      <th></th>\n",
       "      <th>shape1[0]</th>\n",
       "      <th>shape2[0]</th>\n",
       "      <th>mode</th>\n",
       "      <th>seed</th>\n",
       "      <th>fft_time</th>\n",
       "      <th>direct_time</th>\n",
       "      <th>total_params1</th>\n",
       "      <th>total_params2</th>\n",
       "    </tr>\n",
       "  </thead>\n",
       "  <tbody>\n",
       "    <tr>\n",
       "      <td>2968</td>\n",
       "      <td>1286</td>\n",
       "      <td>1794</td>\n",
       "      <td>full</td>\n",
       "      <td>989</td>\n",
       "      <td>0.000256</td>\n",
       "      <td>0.000358</td>\n",
       "      <td>1286</td>\n",
       "      <td>1794</td>\n",
       "    </tr>\n",
       "    <tr>\n",
       "      <td>2969</td>\n",
       "      <td>1286</td>\n",
       "      <td>1794</td>\n",
       "      <td>same</td>\n",
       "      <td>989</td>\n",
       "      <td>0.000266</td>\n",
       "      <td>0.023732</td>\n",
       "      <td>1286</td>\n",
       "      <td>1794</td>\n",
       "    </tr>\n",
       "    <tr>\n",
       "      <td>2970</td>\n",
       "      <td>8746</td>\n",
       "      <td>64</td>\n",
       "      <td>valid</td>\n",
       "      <td>990</td>\n",
       "      <td>0.000541</td>\n",
       "      <td>0.000309</td>\n",
       "      <td>8746</td>\n",
       "      <td>64</td>\n",
       "    </tr>\n",
       "    <tr>\n",
       "      <td>2971</td>\n",
       "      <td>8746</td>\n",
       "      <td>64</td>\n",
       "      <td>full</td>\n",
       "      <td>990</td>\n",
       "      <td>0.000406</td>\n",
       "      <td>0.000316</td>\n",
       "      <td>8746</td>\n",
       "      <td>64</td>\n",
       "    </tr>\n",
       "    <tr>\n",
       "      <td>2972</td>\n",
       "      <td>8746</td>\n",
       "      <td>64</td>\n",
       "      <td>same</td>\n",
       "      <td>990</td>\n",
       "      <td>0.000418</td>\n",
       "      <td>0.000312</td>\n",
       "      <td>8746</td>\n",
       "      <td>64</td>\n",
       "    </tr>\n",
       "  </tbody>\n",
       "</table>\n",
       "</div>"
      ],
      "text/plain": [
       "      shape1[0]  shape2[0]   mode  seed  fft_time  direct_time  total_params1  \\\n",
       "2968       1286       1794   full   989  0.000256     0.000358           1286   \n",
       "2969       1286       1794   same   989  0.000266     0.023732           1286   \n",
       "2970       8746         64  valid   990  0.000541     0.000309           8746   \n",
       "2971       8746         64   full   990  0.000406     0.000316           8746   \n",
       "2972       8746         64   same   990  0.000418     0.000312           8746   \n",
       "\n",
       "      total_params2  \n",
       "2968           1794  \n",
       "2969           1794  \n",
       "2970             64  \n",
       "2971             64  \n",
       "2972             64  "
      ]
     },
     "execution_count": 1,
     "metadata": {},
     "output_type": "execute_result"
    }
   ],
   "source": [
    "import pandas as pd\n",
    "from ast import literal_eval\n",
    "import numpy as np\n",
    "np.seterr(all=\"raise\")\n",
    "\n",
    "today = \"2019-11-03\"\n",
    "\n",
    "df = pd.read_parquet(f\"out/{today}-1d-test.parquet\")\n",
    "df[\"total_params1\"] = df[\"shape1[0]\"]# * df[\"shape1[1]\"]\n",
    "df[\"total_params2\"] = df[\"shape2[0]\"]# * df[\"shape2[1]\"]\n",
    "print(len(df))\n",
    "df.tail()"
   ]
  },
  {
   "cell_type": "code",
   "execution_count": 2,
   "metadata": {},
   "outputs": [],
   "source": [
    "from functools import lru_cache\n",
    "\n",
    "def _prod(iterable):\n",
    "    r = 1\n",
    "    for it in iterable:\n",
    "        r *= it\n",
    "    return r\n",
    "    \n",
    "sum_builtin = sum\n",
    "\n",
    "# def _get_constant(mode, x_ndim, x_size, h_size):\n",
    "#     if mode == 'full':\n",
    "#         big_O_constant = 10963.92823819 if x_ndim == 1 else 8899.1104874\n",
    "#     elif mode == 'same':\n",
    "#         oneD_big_O = {True: 7183.41306773, False: 856.78174111}\n",
    "#         big_O_constant = oneD_big_O[h_size <= x_size] if x_ndim == 1 \\\n",
    "#                                                       else 34519.21021589\n",
    "#     elif mode == 'valid':\n",
    "#         big_O_constant = 41954.28006344 if x_ndim == 1 else 66453.24316434\n",
    "#     else:\n",
    "#         raise ValueError('mode is invalid')\n",
    "#     return big_O_constant\n",
    "\n",
    "@lru_cache()\n",
    "def _get_constant(mode, x_ndim, x_size, h_size):\n",
    "    df = pd.read_csv(\"constants.csv\")\n",
    "    idx = (df[\"ndim\"] == 1) & (df[\"mode\"] == mode)\n",
    "    assert idx.sum() == 1\n",
    "    return df[idx][\"constant\"].values.item()\n",
    "\n",
    "\n",
    "def _fftconv_faster(x_shape, h_shape, mode):\n",
    "    \"\"\"\n",
    "    See if using fftconvolve or convolve is faster. The value returned (a\n",
    "    boolean) depends on the sizes and shapes of the input values.\n",
    "    The big O ratios were found to hold to different machines, which makes\n",
    "    sense as it's the ratio that matters (the effective speed of the computer\n",
    "    is found in both big O constants). Regardless, this had been tuned on an\n",
    "    early 2015 MacBook Pro with 8GB RAM and an Intel i5 processor.\n",
    "    \"\"\"\n",
    "    x_size = _prod(x_shape)\n",
    "    x_ndim = len(x_shape)\n",
    "    h_size = _prod(h_shape)\n",
    "    h_ndim = len(h_shape)\n",
    "    if mode == 'full':\n",
    "        out_shape = [n + k - 1 for n, k in zip(x_shape, h_shape)]\n",
    "    elif mode == 'same':\n",
    "        out_shape = x_shape\n",
    "    elif mode == 'valid':\n",
    "        out_shape = [n - k + 1 for n, k in zip(x_shape, h_shape)]\n",
    "    else:\n",
    "        raise ValueError('mode is invalid')\n",
    "    out_shape = [o if o > 0 else -o + 2 for o in out_shape]\n",
    "\n",
    "    # see whether the Fourier transform convolution method or the direct\n",
    "    # convolution method is faster (discussed in scikit-image PR #1792)\n",
    "    direct_time = (x_size * h_size * _prod(out_shape))\n",
    "    fft_time = sum_builtin(n * np.log(n) for n in (x_shape + h_shape +\n",
    "                                               tuple(out_shape)))\n",
    "    big_O_constant = _get_constant(mode, x_ndim, x_size, h_size)\n",
    "    return \"fft\" if big_O_constant * fft_time < direct_time else \"direct\"\n",
    "\n",
    "def estimate_faster_method(row):\n",
    "    x_shape = (row[\"shape1[0]\"], )#row[\"shape1[1]\"])\n",
    "    h_shape = (row[\"shape2[0]\"], )#row[\"shape2[1]\"])\n",
    "    mode = row[\"mode\"]\n",
    "    return _fftconv_faster(x_shape, h_shape, mode)"
   ]
  },
  {
   "cell_type": "code",
   "execution_count": 3,
   "metadata": {},
   "outputs": [
    {
     "name": "stdout",
     "output_type": "stream",
     "text": [
      "Predicted fastest method 82.07% of the time\n"
     ]
    }
   ],
   "source": [
    "fft_faster = df[\"fft_time\"] < df[\"direct_time\"]\n",
    "df[\"faster\"] = \"\"\n",
    "df.loc[fft_faster, \"faster\"] = \"fft\"\n",
    "df.loc[~fft_faster, \"faster\"] = \"direct\"\n",
    "\n",
    "df[\"faster_est\"] = df.apply(estimate_faster_method, axis=1)\n",
    "\n",
    "acc = (df.faster == df.faster_est).sum() / len(df)\n",
    "print(f\"Predicted fastest method {100 * acc:0.2f}% of the time\")"
   ]
  },
  {
   "cell_type": "markdown",
   "metadata": {},
   "source": [
    "**Goal for accuracy on predicting fastest**: >90% -- that's the performance seen with code from SciPy 1.3 (after uncommenting `_get_constant` function above)"
   ]
  },
  {
   "cell_type": "code",
   "execution_count": 4,
   "metadata": {},
   "outputs": [
    {
     "data": {
      "text/html": [
       "<div>\n",
       "<style scoped>\n",
       "    .dataframe tbody tr th:only-of-type {\n",
       "        vertical-align: middle;\n",
       "    }\n",
       "\n",
       "    .dataframe tbody tr th {\n",
       "        vertical-align: top;\n",
       "    }\n",
       "\n",
       "    .dataframe thead th {\n",
       "        text-align: right;\n",
       "    }\n",
       "</style>\n",
       "<table border=\"1\" class=\"dataframe\">\n",
       "  <thead>\n",
       "    <tr style=\"text-align: right;\">\n",
       "      <th></th>\n",
       "      <th>mode</th>\n",
       "      <th>shape1[0]</th>\n",
       "      <th>shape2[0]</th>\n",
       "      <th>ratio</th>\n",
       "      <th>direct_time</th>\n",
       "      <th>fft_time</th>\n",
       "    </tr>\n",
       "  </thead>\n",
       "  <tbody>\n",
       "    <tr>\n",
       "      <td>1568</td>\n",
       "      <td>same</td>\n",
       "      <td>58</td>\n",
       "      <td>5289</td>\n",
       "      <td>12.117692</td>\n",
       "      <td>0.003805</td>\n",
       "      <td>0.000314</td>\n",
       "    </tr>\n",
       "    <tr>\n",
       "      <td>1169</td>\n",
       "      <td>same</td>\n",
       "      <td>74</td>\n",
       "      <td>6470</td>\n",
       "      <td>11.343574</td>\n",
       "      <td>0.004314</td>\n",
       "      <td>0.000380</td>\n",
       "    </tr>\n",
       "    <tr>\n",
       "      <td>1025</td>\n",
       "      <td>same</td>\n",
       "      <td>62</td>\n",
       "      <td>6017</td>\n",
       "      <td>12.700000</td>\n",
       "      <td>0.004330</td>\n",
       "      <td>0.000341</td>\n",
       "    </tr>\n",
       "    <tr>\n",
       "      <td>920</td>\n",
       "      <td>same</td>\n",
       "      <td>74</td>\n",
       "      <td>7327</td>\n",
       "      <td>15.022744</td>\n",
       "      <td>0.004882</td>\n",
       "      <td>0.000325</td>\n",
       "    </tr>\n",
       "    <tr>\n",
       "      <td>95</td>\n",
       "      <td>same</td>\n",
       "      <td>72</td>\n",
       "      <td>7487</td>\n",
       "      <td>9.901357</td>\n",
       "      <td>0.005217</td>\n",
       "      <td>0.000527</td>\n",
       "    </tr>\n",
       "    <tr>\n",
       "      <td>2114</td>\n",
       "      <td>same</td>\n",
       "      <td>68</td>\n",
       "      <td>6371</td>\n",
       "      <td>17.463846</td>\n",
       "      <td>0.005413</td>\n",
       "      <td>0.000310</td>\n",
       "    </tr>\n",
       "    <tr>\n",
       "      <td>1022</td>\n",
       "      <td>same</td>\n",
       "      <td>69</td>\n",
       "      <td>8225</td>\n",
       "      <td>11.507531</td>\n",
       "      <td>0.006557</td>\n",
       "      <td>0.000570</td>\n",
       "    </tr>\n",
       "    <tr>\n",
       "      <td>1487</td>\n",
       "      <td>same</td>\n",
       "      <td>73</td>\n",
       "      <td>8800</td>\n",
       "      <td>12.127650</td>\n",
       "      <td>0.006682</td>\n",
       "      <td>0.000551</td>\n",
       "    </tr>\n",
       "    <tr>\n",
       "      <td>1703</td>\n",
       "      <td>same</td>\n",
       "      <td>82</td>\n",
       "      <td>7229</td>\n",
       "      <td>23.588120</td>\n",
       "      <td>0.008616</td>\n",
       "      <td>0.000365</td>\n",
       "    </tr>\n",
       "    <tr>\n",
       "      <td>1985</td>\n",
       "      <td>same</td>\n",
       "      <td>92</td>\n",
       "      <td>9434</td>\n",
       "      <td>34.402503</td>\n",
       "      <td>0.012451</td>\n",
       "      <td>0.000362</td>\n",
       "    </tr>\n",
       "  </tbody>\n",
       "</table>\n",
       "</div>"
      ],
      "text/plain": [
       "      mode  shape1[0]  shape2[0]      ratio  direct_time  fft_time\n",
       "1568  same         58       5289  12.117692     0.003805  0.000314\n",
       "1169  same         74       6470  11.343574     0.004314  0.000380\n",
       "1025  same         62       6017  12.700000     0.004330  0.000341\n",
       "920   same         74       7327  15.022744     0.004882  0.000325\n",
       "95    same         72       7487   9.901357     0.005217  0.000527\n",
       "2114  same         68       6371  17.463846     0.005413  0.000310\n",
       "1022  same         69       8225  11.507531     0.006557  0.000570\n",
       "1487  same         73       8800  12.127650     0.006682  0.000551\n",
       "1703  same         82       7229  23.588120     0.008616  0.000365\n",
       "1985  same         92       9434  34.402503     0.012451  0.000362"
      ]
     },
     "execution_count": 4,
     "metadata": {},
     "output_type": "execute_result"
    }
   ],
   "source": [
    "wrong_idx = df.faster != df.faster_est\n",
    "wrong =  df[wrong_idx].copy()\n",
    "wrong[\"ratio\"] = wrong.fft_time / wrong.direct_time\n",
    "idx = wrong.ratio < 1\n",
    "wrong.loc[idx, \"ratio\"] = 1 / wrong.loc[idx, \"ratio\"]\n",
    "\n",
    "vals = wrong[[\"mode\", \"shape1[0]\", \"shape2[0]\", \"ratio\", \"direct_time\", \"fft_time\"]].copy()\n",
    "vals.sort_values(by=\"direct_time\", inplace=True)\n",
    "vals.tail(n=10)"
   ]
  },
  {
   "cell_type": "code",
   "execution_count": 5,
   "metadata": {},
   "outputs": [
    {
     "data": {
      "image/png": "[encoded data removed]",
      "text/plain": [
       "<Figure size 432x288 with 1 Axes>"
      ]
     },
     "metadata": {
      "image/png": {
       "height": 263,
       "width": 369
      },
      "needs_background": "light"
     },
     "output_type": "display_data"
    }
   ],
   "source": [
    "ax = vals.plot(x=\"direct_time\", y=\"ratio\", style=\"o\", alpha=0.3)\n",
    "ax.set_xscale(\"log\")"
   ]
  },
  {
   "cell_type": "code",
   "execution_count": 6,
   "metadata": {},
   "outputs": [
    {
     "data": {
      "text/plain": [
       "1.7881393432617188e-05"
      ]
     },
     "execution_count": 6,
     "metadata": {},
     "output_type": "execute_result"
    }
   ],
   "source": [
    "vals.direct_time.min()"
   ]
  },
  {
   "cell_type": "code",
   "execution_count": 13,
   "metadata": {},
   "outputs": [
    {
     "data": {
      "text/plain": [
       "(1, 10)"
      ]
     },
     "execution_count": 13,
     "metadata": {},
     "output_type": "execute_result"
    },
    {
     "data": {
      "image/png": "[encoded data removed]",
      "text/plain": [
       "<Figure size 432x288 with 1 Axes>"
      ]
     },
     "metadata": {
      "image/png": {
       "height": 248,
       "width": 381
      },
      "needs_background": "light"
     },
     "output_type": "display_data"
    }
   ],
   "source": [
    "ax = wrong.ratio.hist(bins=33)\n",
    "ax.set_xlim(1, 10)"
   ]
  },
  {
   "cell_type": "markdown",
   "metadata": {},
   "source": [
    "**Goal for this histogram:** `ratio.max() < 5` approximately. That's the performance with SciPy 1.3 (again, after un-commenting `_get_constants` above)."
   ]
  },
  {
   "cell_type": "code",
   "execution_count": 18,
   "metadata": {},
   "outputs": [
    {
     "name": "stdout",
     "output_type": "stream",
     "text": [
      "P(ratio <= 1) = 0.00\n",
      "P(ratio <= 2) = 0.44\n",
      "P(ratio <= 3) = 0.60\n",
      "P(ratio <= 4) = 0.71\n",
      "P(ratio <= 5) = 0.78\n",
      "P(ratio <= 6) = 0.81\n",
      "P(ratio <= 7) = 0.86\n",
      "P(ratio <= 8) = 0.90\n",
      "P(ratio <= 9) = 0.93\n"
     ]
    }
   ],
   "source": [
    "for i in range(1, 10):\n",
    "    prob = (wrong.ratio <= i).sum() / len(wrong)\n",
    "    msg = f\"P(ratio <= {i}) = {prob:0.2f}\"\n",
    "    print(msg)"
   ]
  },
  {
   "cell_type": "code",
   "execution_count": null,
   "metadata": {},
   "outputs": [],
   "source": []
  }
 ],
 "metadata": {
  "kernelspec": {
   "display_name": "Python 3",
   "language": "python",
   "name": "python3"
  },
  "language_info": {
   "codemirror_mode": {
    "name": "ipython",
    "version": 3
   },
   "file_extension": ".py",
   "mimetype": "text/x-python",
   "name": "python",
   "nbconvert_exporter": "python",
   "pygments_lexer": "ipython3",
   "version": "3.7.3"
  }
 },
 "nbformat": 4,
 "nbformat_minor": 4
}
