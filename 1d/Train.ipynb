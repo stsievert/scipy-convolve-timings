{
 "cells": [
  {
   "cell_type": "code",
   "execution_count": 98,
   "metadata": {},
   "outputs": [
    {
     "data": {
      "text/plain": [
       "{'divide': 'raise', 'over': 'raise', 'under': 'raise', 'invalid': 'raise'}"
      ]
     },
     "execution_count": 98,
     "metadata": {},
     "output_type": "execute_result"
    }
   ],
   "source": [
    "import pandas as pd\n",
    "import numpy as np\n",
    "np.seterr(all=\"raise\")"
   ]
  },
  {
   "cell_type": "code",
   "execution_count": 99,
   "metadata": {},
   "outputs": [
    {
     "name": "stdout",
     "output_type": "stream",
     "text": [
      "10790\n"
     ]
    },
    {
     "data": {
      "text/html": [
       "<div>\n",
       "<style scoped>\n",
       "    .dataframe tbody tr th:only-of-type {\n",
       "        vertical-align: middle;\n",
       "    }\n",
       "\n",
       "    .dataframe tbody tr th {\n",
       "        vertical-align: top;\n",
       "    }\n",
       "\n",
       "    .dataframe thead th {\n",
       "        text-align: right;\n",
       "    }\n",
       "</style>\n",
       "<table border=\"1\" class=\"dataframe\">\n",
       "  <thead>\n",
       "    <tr style=\"text-align: right;\">\n",
       "      <th></th>\n",
       "      <th>fft_time</th>\n",
       "      <th>direct_time</th>\n",
       "      <th>mode</th>\n",
       "      <th>x.shape[0]</th>\n",
       "      <th>h.shape[0]</th>\n",
       "      <th>random_state</th>\n",
       "      <th>h_nelement</th>\n",
       "      <th>x_nelement</th>\n",
       "      <th>log2(fft_time/direct_time)</th>\n",
       "      <th>log2(fft_time)</th>\n",
       "      <th>log2(direct_time)</th>\n",
       "      <th>fft_time/direct_time</th>\n",
       "    </tr>\n",
       "  </thead>\n",
       "  <tbody>\n",
       "    <tr>\n",
       "      <td>10785</td>\n",
       "      <td>0.001005</td>\n",
       "      <td>0.140468</td>\n",
       "      <td>valid</td>\n",
       "      <td>17269</td>\n",
       "      <td>70381</td>\n",
       "      <td>10785</td>\n",
       "      <td>70381</td>\n",
       "      <td>17269</td>\n",
       "      <td>-7.126995</td>\n",
       "      <td>-9.958683</td>\n",
       "      <td>-2.831688</td>\n",
       "      <td>0.007154</td>\n",
       "    </tr>\n",
       "    <tr>\n",
       "      <td>10786</td>\n",
       "      <td>0.001101</td>\n",
       "      <td>11.418473</td>\n",
       "      <td>same</td>\n",
       "      <td>17269</td>\n",
       "      <td>70381</td>\n",
       "      <td>10786</td>\n",
       "      <td>70381</td>\n",
       "      <td>17269</td>\n",
       "      <td>-13.340245</td>\n",
       "      <td>-9.826948</td>\n",
       "      <td>3.513298</td>\n",
       "      <td>0.000096</td>\n",
       "    </tr>\n",
       "    <tr>\n",
       "      <td>10787</td>\n",
       "      <td>0.000993</td>\n",
       "      <td>0.164769</td>\n",
       "      <td>same</td>\n",
       "      <td>70381</td>\n",
       "      <td>17269</td>\n",
       "      <td>10787</td>\n",
       "      <td>17269</td>\n",
       "      <td>70381</td>\n",
       "      <td>-7.374413</td>\n",
       "      <td>-9.975899</td>\n",
       "      <td>-2.601486</td>\n",
       "      <td>0.006027</td>\n",
       "    </tr>\n",
       "    <tr>\n",
       "      <td>10788</td>\n",
       "      <td>0.001094</td>\n",
       "      <td>0.274563</td>\n",
       "      <td>full</td>\n",
       "      <td>17269</td>\n",
       "      <td>79123</td>\n",
       "      <td>10788</td>\n",
       "      <td>79123</td>\n",
       "      <td>17269</td>\n",
       "      <td>-7.971245</td>\n",
       "      <td>-9.836036</td>\n",
       "      <td>-1.864790</td>\n",
       "      <td>0.003985</td>\n",
       "    </tr>\n",
       "    <tr>\n",
       "      <td>10789</td>\n",
       "      <td>0.001308</td>\n",
       "      <td>0.167430</td>\n",
       "      <td>valid</td>\n",
       "      <td>17269</td>\n",
       "      <td>79123</td>\n",
       "      <td>10789</td>\n",
       "      <td>79123</td>\n",
       "      <td>17269</td>\n",
       "      <td>-6.999829</td>\n",
       "      <td>-9.578198</td>\n",
       "      <td>-2.578369</td>\n",
       "      <td>0.007813</td>\n",
       "    </tr>\n",
       "  </tbody>\n",
       "</table>\n",
       "</div>"
      ],
      "text/plain": [
       "       fft_time  direct_time   mode  x.shape[0]  h.shape[0]  random_state  \\\n",
       "10785  0.001005     0.140468  valid       17269       70381         10785   \n",
       "10786  0.001101    11.418473   same       17269       70381         10786   \n",
       "10787  0.000993     0.164769   same       70381       17269         10787   \n",
       "10788  0.001094     0.274563   full       17269       79123         10788   \n",
       "10789  0.001308     0.167430  valid       17269       79123         10789   \n",
       "\n",
       "       h_nelement  x_nelement  log2(fft_time/direct_time)  log2(fft_time)  \\\n",
       "10785       70381       17269                   -7.126995       -9.958683   \n",
       "10786       70381       17269                  -13.340245       -9.826948   \n",
       "10787       17269       70381                   -7.374413       -9.975899   \n",
       "10788       79123       17269                   -7.971245       -9.836036   \n",
       "10789       79123       17269                   -6.999829       -9.578198   \n",
       "\n",
       "       log2(direct_time)  fft_time/direct_time  \n",
       "10785          -2.831688              0.007154  \n",
       "10786           3.513298              0.000096  \n",
       "10787          -2.601486              0.006027  \n",
       "10788          -1.864790              0.003985  \n",
       "10789          -2.578369              0.007813  "
      ]
     },
     "execution_count": 99,
     "metadata": {},
     "output_type": "execute_result"
    }
   ],
   "source": [
    "df = pd.read_parquet(\"out/2019-11-04-1d-train.parquet\")\n",
    "print(len(df))\n",
    "\n",
    "df[\"h_nelement\"] = df[\"h.shape[0]\"]# * df[\"h.shape[1]\"]\n",
    "df[\"x_nelement\"] = df[\"x.shape[0]\"]# * df[\"x.shape[1]\"]\n",
    "df[\"log2(fft_time/direct_time)\"] = np.log2(df.fft_time / df.direct_time)\n",
    "df[\"log2(fft_time)\"] = np.log2(df.fft_time)\n",
    "df[\"log2(direct_time)\"] = np.log2(df.direct_time)\n",
    "df[\"fft_time/direct_time\"] = df.fft_time / df.direct_time\n",
    "df.tail()"
   ]
  },
  {
   "cell_type": "code",
   "execution_count": 100,
   "metadata": {},
   "outputs": [
    {
     "data": {
      "text/plain": [
       "14.404834270477295"
      ]
     },
     "execution_count": 100,
     "metadata": {},
     "output_type": "execute_result"
    }
   ],
   "source": [
    "df.direct_time.max()"
   ]
  },
  {
   "cell_type": "code",
   "execution_count": 101,
   "metadata": {},
   "outputs": [
    {
     "data": {
      "text/plain": [
       "0.0035767555236816406"
      ]
     },
     "execution_count": 101,
     "metadata": {},
     "output_type": "execute_result"
    }
   ],
   "source": [
    "df.fft_time.max()"
   ]
  },
  {
   "cell_type": "code",
   "execution_count": 102,
   "metadata": {},
   "outputs": [
    {
     "data": {
      "text/plain": [
       "14.404834270477295"
      ]
     },
     "execution_count": 102,
     "metadata": {},
     "output_type": "execute_result"
    }
   ],
   "source": [
    "df.direct_time.max()"
   ]
  },
  {
   "cell_type": "markdown",
   "metadata": {},
   "source": [
    "# Visualize ratio"
   ]
  },
  {
   "cell_type": "code",
   "execution_count": 103,
   "metadata": {},
   "outputs": [
    {
     "data": {
      "text/plain": [
       "Text(0.5, 1, 'valid')"
      ]
     },
     "execution_count": 103,
     "metadata": {},
     "output_type": "execute_result"
    },
    {
     "data": {
      "text/plain": [
       "Text(0.5, 1, 'same')"
      ]
     },
     "execution_count": 103,
     "metadata": {},
     "output_type": "execute_result"
    },
    {
     "data": {
      "text/plain": [
       "Text(0.5, 1, 'full')"
      ]
     },
     "execution_count": 103,
     "metadata": {},
     "output_type": "execute_result"
    },
    {
     "data": {
      "image/png": "[encoded data removed]",
      "text/plain": [
       "<Figure size 864x216 with 6 Axes>"
      ]
     },
     "metadata": {
      "image/png": {
       "height": 245,
       "width": 737
      },
      "needs_background": "light"
     },
     "output_type": "display_data"
    }
   ],
   "source": [
    "import seaborn as sns\n",
    "import matplotlib.pyplot as plt\n",
    "import matplotlib as mpl\n",
    "\n",
    "w = 3\n",
    "fig, axs = plt.subplots(ncols=3, figsize=(4 * w, w))\n",
    "for ax, mode in zip(axs, [\"valid\", \"same\", \"full\"]):\n",
    "    idx = df[\"mode\"] == mode\n",
    "    if not idx.sum():\n",
    "        continue\n",
    "    show = df[df[\"mode\"] == mode].pivot_table(\n",
    "        index=\"x_nelement\",\n",
    "        columns=\"h_nelement\",\n",
    "        values=\"log2(fft_time/direct_time)\",\n",
    "    )\n",
    "    ax = sns.heatmap(\n",
    "        show,\n",
    "        center=0,\n",
    "        ax=ax,\n",
    "        cmap=\"RdBu\",\n",
    "    )\n",
    "    ax.set_title(mode)"
   ]
  },
  {
   "cell_type": "markdown",
   "metadata": {},
   "source": [
    "* Blue: direct faster\n",
    "* Red: FFT faster"
   ]
  },
  {
   "cell_type": "markdown",
   "metadata": {},
   "source": [
    "# Find big-O constant"
   ]
  },
  {
   "cell_type": "code",
   "execution_count": 73,
   "metadata": {},
   "outputs": [],
   "source": [
    "from scipy.optimize import curve_fit\n",
    "from toolz import partial\n",
    "sum_builtin = sum\n",
    "\n",
    "def _prod(iterable):\n",
    "    \"\"\"\n",
    "    Product of a list of numbers.\n",
    "    Faster than np.prod for short lists like array shapes.\n",
    "    \"\"\"\n",
    "    product = 1\n",
    "    for x in iterable:\n",
    "        product *= x\n",
    "    return product\n",
    "\n",
    "def _fftconv_faster(x_shape, x_size, h_shape, h_size, mode):\n",
    "    \"\"\"\n",
    "    See if using fftconvolve or convolve is faster. The value returned (a\n",
    "    boolean) depends on the sizes and shapes of the input values.\n",
    "    The big O ratios were found to hold to different machines, which makes\n",
    "    sense as it's the ratio that matters (the effective speed of the computer\n",
    "    is found in both big O constants). Regardless, this had been tuned on an\n",
    "    early 2015 MacBook Pro with 8GB RAM and an Intel i5 processor.\n",
    "    \"\"\"\n",
    "    if mode == 'full':\n",
    "        out_shape = [n + k - 1 for n, k in zip(x_shape, h_shape)]\n",
    "    elif mode == 'same':\n",
    "        out_shape = x_shape\n",
    "    elif mode == 'valid':\n",
    "        out_shape = [n - k + 1 for n, k in zip(x_shape, h_shape)]\n",
    "    else:\n",
    "        raise ValueError('mode is invalid')\n",
    "    out_shape = [o if o > 0 else -o + 2 for o in out_shape]\n",
    "\n",
    "    # see whether the Fourier transform convolution method or the direct\n",
    "    # convolution method is faster (discussed in scikit-image PR #1792)\n",
    "    direct_time = min(x_size, h_size) * _prod(out_shape)\n",
    "    fft_time = sum_builtin(n * np.log(n) for n in (x_shape + h_shape +\n",
    "                                               tuple(out_shape)))\n",
    "    return fft_time, direct_time\n",
    "    \n",
    "def log_time(shapes, O, mode):\n",
    "# def _fftconv_faster(shapes, O, mode):\n",
    "    \"\"\"\n",
    "    See if using fftconvolve or convolve is faster. The value returned (a\n",
    "    boolean) depends on the sizes and shapes of the input values.\n",
    "    The big O ratios were found to hold to different machines, which makes\n",
    "    sense as it's the ratio that matters (the effective speed of the computer\n",
    "    is found in both big O constants). Regardless, this had been tuned on an\n",
    "    early 2015 MacBook Pro with 8GB RAM and an Intel i5 processor.\n",
    "    \"\"\"\n",
    "    times = []\n",
    "    for shape in shapes:\n",
    "        x_shape = np.array([shape[0]])\n",
    "        h_shape = np.array([shape[1]])\n",
    "        assert len(shape) == 2\n",
    "        assert len(x_shape) == len(h_shape) == 1\n",
    "        fft_time, direct_time = _fftconv_faster(\n",
    "            x_shape, _prod(x_shape), h_shape, _prod(h_shape), mode,\n",
    "        )\n",
    "        times.append([fft_time, direct_time])\n",
    "    times = np.asarray(times)\n",
    "    fft_time = times[:, 0]\n",
    "    direct_time = times[:, 1]\n",
    "    diff = O * fft_time / direct_time\n",
    "    \n",
    "    power = np.log2(abs(diff))\n",
    "    sign = np.sign(diff)\n",
    "    return sign * power\n",
    "\n",
    "def get_constant(df, mode):\n",
    "    \"\"\"\n",
    "    Inputs\n",
    "    ------\n",
    "    df : DataFrame with columns x.shape[0], x.shape[1], h.shape[0], h.shape[1] and log2(fft_time/direct_time)\n",
    "    \n",
    "    Returns\n",
    "    -------\n",
    "    popt : float\n",
    "        The constant such that constant * fft_time < direct_time\n",
    "    pstd : float\n",
    "        The (estimated) standard deviation of popt\n",
    "    \"\"\"\n",
    "    shapes = df[[\"x.shape[0]\", \"h.shape[0]\"]].values\n",
    "    times = df[\"log2(fft_time/direct_time)\"].values\n",
    "    log_time_w_mode = partial(log_time, mode=mode)\n",
    "\n",
    "#     p0s = {\"full\": 9e3, \"same\": 34e3, \"valid\": 66e3}\n",
    "#     kwargs = {\"p0\": 2 * p0s[mode]}\n",
    "#     kwargs = {\"p0\": 20e3}\n",
    "    kwargs = {}\n",
    "    popt, pcov = curve_fit(log_time_w_mode, shapes, times, **kwargs)\n",
    "    O = popt.item()\n",
    "    times_hat = log_time_w_mode(shapes, O)\n",
    "    return O, np.sqrt(pcov).item(), (times_hat, times)"
   ]
  },
  {
   "cell_type": "code",
   "execution_count": 74,
   "metadata": {},
   "outputs": [],
   "source": [
    "bigOs = []"
   ]
  },
  {
   "cell_type": "code",
   "execution_count": 75,
   "metadata": {},
   "outputs": [
    {
     "name": "stdout",
     "output_type": "stream",
     "text": [
      "valid 14.126224699070834 0.304395720416952\n",
      "full 12.879025352005083 0.26198738424506274\n"
     ]
    }
   ],
   "source": [
    "for mode in [\"valid\", \"full\"]:\n",
    "    idx = df[\"mode\"] == mode\n",
    "    if not idx.sum():\n",
    "        continue\n",
    "    fit = df[idx].copy()\n",
    "    O, std, times = get_constant(fit, mode)\n",
    "    y_hat, y = times\n",
    "    fit[\"predicted_ratio\"] = y_hat\n",
    "    print(mode, O, std)\n",
    "    bigOs.append({\"mode\": mode, \"constant\": O, \"std\": std})"
   ]
  },
  {
   "cell_type": "code",
   "execution_count": 76,
   "metadata": {},
   "outputs": [
    {
     "name": "stdout",
     "output_type": "stream",
     "text": [
      "Index(['fft_time', 'direct_time', 'mode', 'x.shape[0]', 'h.shape[0]',\n",
      "       'random_state', 'h_nelement', 'x_nelement',\n",
      "       'log2(fft_time/direct_time)', 'log2(fft_time)', 'log2(direct_time)',\n",
      "       'fft_time/direct_time'],\n",
      "      dtype='object')\n",
      "same bigger_kernel 0.06210513569021269 0.0030373966555114467\n",
      "same smaller_kernel 13.349841929324734 0.2840177476985814\n"
     ]
    }
   ],
   "source": [
    "mode = \"same\"\n",
    "same = df[df[\"mode\"] == mode].copy()\n",
    "print(same.columns)\n",
    "\n",
    "smaller_kernel = same.h_nelement < same.x_nelement\n",
    "bigger_kernel = same.x_nelement <= same.h_nelement\n",
    "for condition, idx in {\"bigger_kernel\": bigger_kernel, \"smaller_kernel\": smaller_kernel}.items():\n",
    "    fit = same[idx].copy()\n",
    "    O, std, times = get_constant(fit, mode)\n",
    "    y_hat, y = times\n",
    "    fit[\"predicted_ratio\"] = y_hat\n",
    "    print(mode, condition, O, std)\n",
    "    bigOs.append({\"mode\": mode, \"constant\": O, \"std\": std, \"cond\": condition})"
   ]
  },
  {
   "cell_type": "code",
   "execution_count": 77,
   "metadata": {},
   "outputs": [
    {
     "data": {
      "text/plain": [
       "[{'mode': 'valid', 'constant': 14.126224699070834, 'std': 0.304395720416952},\n",
       " {'mode': 'full', 'constant': 12.879025352005083, 'std': 0.26198738424506274},\n",
       " {'mode': 'same',\n",
       "  'constant': 0.06210513569021269,\n",
       "  'std': 0.0030373966555114467,\n",
       "  'cond': 'bigger_kernel'},\n",
       " {'mode': 'same',\n",
       "  'constant': 13.349841929324734,\n",
       "  'std': 0.2840177476985814,\n",
       "  'cond': 'smaller_kernel'}]"
      ]
     },
     "execution_count": 77,
     "metadata": {},
     "output_type": "execute_result"
    }
   ],
   "source": [
    "bigOs"
   ]
  },
  {
   "cell_type": "code",
   "execution_count": 78,
   "metadata": {},
   "outputs": [],
   "source": [
    "constants = pd.DataFrame(bigOs)\n",
    "constants[\"ndim\"] = 1"
   ]
  },
  {
   "cell_type": "code",
   "execution_count": 79,
   "metadata": {},
   "outputs": [
    {
     "data": {
      "text/html": [
       "<div>\n",
       "<style scoped>\n",
       "    .dataframe tbody tr th:only-of-type {\n",
       "        vertical-align: middle;\n",
       "    }\n",
       "\n",
       "    .dataframe tbody tr th {\n",
       "        vertical-align: top;\n",
       "    }\n",
       "\n",
       "    .dataframe thead th {\n",
       "        text-align: right;\n",
       "    }\n",
       "</style>\n",
       "<table border=\"1\" class=\"dataframe\">\n",
       "  <thead>\n",
       "    <tr style=\"text-align: right;\">\n",
       "      <th></th>\n",
       "      <th>mode</th>\n",
       "      <th>constant</th>\n",
       "      <th>std</th>\n",
       "      <th>cond</th>\n",
       "      <th>ndim</th>\n",
       "    </tr>\n",
       "  </thead>\n",
       "  <tbody>\n",
       "    <tr>\n",
       "      <td>0</td>\n",
       "      <td>valid</td>\n",
       "      <td>14.126225</td>\n",
       "      <td>0.304396</td>\n",
       "      <td>NaN</td>\n",
       "      <td>1</td>\n",
       "    </tr>\n",
       "    <tr>\n",
       "      <td>1</td>\n",
       "      <td>full</td>\n",
       "      <td>12.879025</td>\n",
       "      <td>0.261987</td>\n",
       "      <td>NaN</td>\n",
       "      <td>1</td>\n",
       "    </tr>\n",
       "    <tr>\n",
       "      <td>2</td>\n",
       "      <td>same</td>\n",
       "      <td>0.062105</td>\n",
       "      <td>0.003037</td>\n",
       "      <td>bigger_kernel</td>\n",
       "      <td>1</td>\n",
       "    </tr>\n",
       "    <tr>\n",
       "      <td>3</td>\n",
       "      <td>same</td>\n",
       "      <td>13.349842</td>\n",
       "      <td>0.284018</td>\n",
       "      <td>smaller_kernel</td>\n",
       "      <td>1</td>\n",
       "    </tr>\n",
       "  </tbody>\n",
       "</table>\n",
       "</div>"
      ],
      "text/plain": [
       "    mode   constant       std            cond  ndim\n",
       "0  valid  14.126225  0.304396             NaN     1\n",
       "1   full  12.879025  0.261987             NaN     1\n",
       "2   same   0.062105  0.003037   bigger_kernel     1\n",
       "3   same  13.349842  0.284018  smaller_kernel     1"
      ]
     },
     "execution_count": 79,
     "metadata": {},
     "output_type": "execute_result"
    }
   ],
   "source": [
    "constants"
   ]
  },
  {
   "cell_type": "code",
   "execution_count": 80,
   "metadata": {},
   "outputs": [
    {
     "data": {
      "text/plain": [
       "0    0.021548\n",
       "1    0.020342\n",
       "2    0.048907\n",
       "3    0.021275\n",
       "dtype: float64"
      ]
     },
     "execution_count": 80,
     "metadata": {},
     "output_type": "execute_result"
    }
   ],
   "source": [
    "constants[\"std\"] / constants[\"constant\"]"
   ]
  },
  {
   "cell_type": "code",
   "execution_count": 81,
   "metadata": {},
   "outputs": [],
   "source": [
    "constants.to_csv(\"constants.csv\", index=False)\n"
   ]
  },
  {
   "cell_type": "code",
   "execution_count": null,
   "metadata": {},
   "outputs": [],
   "source": []
  }
 ],
 "metadata": {
  "kernelspec": {
   "display_name": "Python 3",
   "language": "python",
   "name": "python3"
  },
  "language_info": {
   "codemirror_mode": {
    "name": "ipython",
    "version": 3
   },
   "file_extension": ".py",
   "mimetype": "text/x-python",
   "name": "python",
   "nbconvert_exporter": "python",
   "pygments_lexer": "ipython3",
   "version": "3.7.3"
  }
 },
 "nbformat": 4,
 "nbformat_minor": 4
}
