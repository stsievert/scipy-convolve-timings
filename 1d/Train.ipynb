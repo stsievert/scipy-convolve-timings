{
 "cells": [
  {
   "cell_type": "code",
   "execution_count": 8,
   "metadata": {},
   "outputs": [
    {
     "data": {
      "text/plain": [
       "{'divide': 'raise', 'over': 'raise', 'under': 'raise', 'invalid': 'raise'}"
      ]
     },
     "execution_count": 8,
     "metadata": {},
     "output_type": "execute_result"
    }
   ],
   "source": [
    "import pandas as pd\n",
    "import numpy as np\n",
    "np.seterr(all=\"raise\")"
   ]
  },
  {
   "cell_type": "code",
   "execution_count": 9,
   "metadata": {},
   "outputs": [
    {
     "name": "stdout",
     "output_type": "stream",
     "text": [
      "2850\n"
     ]
    },
    {
     "data": {
      "text/html": [
       "<div>\n",
       "<style scoped>\n",
       "    .dataframe tbody tr th:only-of-type {\n",
       "        vertical-align: middle;\n",
       "    }\n",
       "\n",
       "    .dataframe tbody tr th {\n",
       "        vertical-align: top;\n",
       "    }\n",
       "\n",
       "    .dataframe thead th {\n",
       "        text-align: right;\n",
       "    }\n",
       "</style>\n",
       "<table border=\"1\" class=\"dataframe\">\n",
       "  <thead>\n",
       "    <tr style=\"text-align: right;\">\n",
       "      <th></th>\n",
       "      <th>fft_time</th>\n",
       "      <th>direct_time</th>\n",
       "      <th>mode</th>\n",
       "      <th>x.shape[0]</th>\n",
       "      <th>h.shape[0]</th>\n",
       "      <th>random_state</th>\n",
       "      <th>h_nelement</th>\n",
       "      <th>x_nelement</th>\n",
       "      <th>log10(fft_time/direct_time)</th>\n",
       "      <th>log10(fft_time)</th>\n",
       "      <th>log10(direct_time)</th>\n",
       "      <th>fft_time/direct_time</th>\n",
       "    </tr>\n",
       "  </thead>\n",
       "  <tbody>\n",
       "    <tr>\n",
       "      <td>2845</td>\n",
       "      <td>0.000841</td>\n",
       "      <td>1.662685</td>\n",
       "      <td>same</td>\n",
       "      <td>4124</td>\n",
       "      <td>49238</td>\n",
       "      <td>2845</td>\n",
       "      <td>49238</td>\n",
       "      <td>4124</td>\n",
       "      <td>-3.295896</td>\n",
       "      <td>-3.075087</td>\n",
       "      <td>0.220810</td>\n",
       "      <td>0.000506</td>\n",
       "    </tr>\n",
       "    <tr>\n",
       "      <td>2846</td>\n",
       "      <td>0.000847</td>\n",
       "      <td>0.057928</td>\n",
       "      <td>full</td>\n",
       "      <td>4124</td>\n",
       "      <td>58780</td>\n",
       "      <td>2846</td>\n",
       "      <td>58780</td>\n",
       "      <td>4124</td>\n",
       "      <td>-1.835192</td>\n",
       "      <td>-3.072302</td>\n",
       "      <td>-1.237110</td>\n",
       "      <td>0.014615</td>\n",
       "    </tr>\n",
       "    <tr>\n",
       "      <td>2847</td>\n",
       "      <td>0.000761</td>\n",
       "      <td>0.055093</td>\n",
       "      <td>valid</td>\n",
       "      <td>4124</td>\n",
       "      <td>58780</td>\n",
       "      <td>2847</td>\n",
       "      <td>58780</td>\n",
       "      <td>4124</td>\n",
       "      <td>-1.859770</td>\n",
       "      <td>-3.118673</td>\n",
       "      <td>-1.258903</td>\n",
       "      <td>0.013811</td>\n",
       "    </tr>\n",
       "    <tr>\n",
       "      <td>2848</td>\n",
       "      <td>0.000841</td>\n",
       "      <td>1.955389</td>\n",
       "      <td>same</td>\n",
       "      <td>4124</td>\n",
       "      <td>58780</td>\n",
       "      <td>2848</td>\n",
       "      <td>58780</td>\n",
       "      <td>4124</td>\n",
       "      <td>-3.366439</td>\n",
       "      <td>-3.075206</td>\n",
       "      <td>0.291233</td>\n",
       "      <td>0.000430</td>\n",
       "    </tr>\n",
       "    <tr>\n",
       "      <td>2849</td>\n",
       "      <td>0.001023</td>\n",
       "      <td>0.069160</td>\n",
       "      <td>full</td>\n",
       "      <td>4124</td>\n",
       "      <td>70170</td>\n",
       "      <td>2849</td>\n",
       "      <td>70170</td>\n",
       "      <td>4124</td>\n",
       "      <td>-1.830003</td>\n",
       "      <td>-2.990146</td>\n",
       "      <td>-1.160143</td>\n",
       "      <td>0.014791</td>\n",
       "    </tr>\n",
       "  </tbody>\n",
       "</table>\n",
       "</div>"
      ],
      "text/plain": [
       "      fft_time  direct_time   mode  x.shape[0]  h.shape[0]  random_state  \\\n",
       "2845  0.000841     1.662685   same        4124       49238          2845   \n",
       "2846  0.000847     0.057928   full        4124       58780          2846   \n",
       "2847  0.000761     0.055093  valid        4124       58780          2847   \n",
       "2848  0.000841     1.955389   same        4124       58780          2848   \n",
       "2849  0.001023     0.069160   full        4124       70170          2849   \n",
       "\n",
       "      h_nelement  x_nelement  log10(fft_time/direct_time)  log10(fft_time)  \\\n",
       "2845       49238        4124                    -3.295896        -3.075087   \n",
       "2846       58780        4124                    -1.835192        -3.072302   \n",
       "2847       58780        4124                    -1.859770        -3.118673   \n",
       "2848       58780        4124                    -3.366439        -3.075206   \n",
       "2849       70170        4124                    -1.830003        -2.990146   \n",
       "\n",
       "      log10(direct_time)  fft_time/direct_time  \n",
       "2845            0.220810              0.000506  \n",
       "2846           -1.237110              0.014615  \n",
       "2847           -1.258903              0.013811  \n",
       "2848            0.291233              0.000430  \n",
       "2849           -1.160143              0.014791  "
      ]
     },
     "execution_count": 9,
     "metadata": {},
     "output_type": "execute_result"
    }
   ],
   "source": [
    "df = pd.read_parquet(\"out/2019-11-03-1d-train.parquet\")\n",
    "print(len(df))\n",
    "\n",
    "df[\"h_nelement\"] = df[\"h.shape[0]\"]# * df[\"h.shape[1]\"]\n",
    "df[\"x_nelement\"] = df[\"x.shape[0]\"]# * df[\"x.shape[1]\"]\n",
    "df[\"log10(fft_time/direct_time)\"] = np.log10(df.fft_time / df.direct_time)\n",
    "df[\"log10(fft_time)\"] = np.log10(df.fft_time)\n",
    "df[\"log10(direct_time)\"] = np.log10(df.direct_time)\n",
    "df[\"fft_time/direct_time\"] = df.fft_time / df.direct_time\n",
    "df.tail()"
   ]
  },
  {
   "cell_type": "code",
   "execution_count": 10,
   "metadata": {},
   "outputs": [
    {
     "data": {
      "text/plain": [
       "0.003330623000010746"
      ]
     },
     "execution_count": 10,
     "metadata": {},
     "output_type": "execute_result"
    }
   ],
   "source": [
    "df.fft_time.max()"
   ]
  },
  {
   "cell_type": "code",
   "execution_count": 11,
   "metadata": {},
   "outputs": [
    {
     "data": {
      "text/plain": [
       "2.741176665000239"
      ]
     },
     "execution_count": 11,
     "metadata": {},
     "output_type": "execute_result"
    }
   ],
   "source": [
    "df.direct_time.max()"
   ]
  },
  {
   "cell_type": "markdown",
   "metadata": {},
   "source": [
    "# Visualize ratio"
   ]
  },
  {
   "cell_type": "code",
   "execution_count": 12,
   "metadata": {},
   "outputs": [
    {
     "data": {
      "text/plain": [
       "Text(0.5, 1, 'valid')"
      ]
     },
     "execution_count": 12,
     "metadata": {},
     "output_type": "execute_result"
    },
    {
     "data": {
      "text/plain": [
       "Text(0.5, 1, 'same')"
      ]
     },
     "execution_count": 12,
     "metadata": {},
     "output_type": "execute_result"
    },
    {
     "data": {
      "text/plain": [
       "Text(0.5, 1, 'full')"
      ]
     },
     "execution_count": 12,
     "metadata": {},
     "output_type": "execute_result"
    },
    {
     "data": {
      "image/png": "[encoded data removed]",
      "text/plain": [
       "<Figure size 864x216 with 6 Axes>"
      ]
     },
     "metadata": {
      "image/png": {
       "height": 252,
       "width": 740
      },
      "needs_background": "light"
     },
     "output_type": "display_data"
    }
   ],
   "source": [
    "import seaborn as sns\n",
    "import matplotlib.pyplot as plt\n",
    "import matplotlib as mpl\n",
    "\n",
    "w = 3\n",
    "fig, axs = plt.subplots(ncols=3, figsize=(4 * w, w))\n",
    "for ax, mode in zip(axs, [\"valid\", \"same\", \"full\"]):\n",
    "    idx = df[\"mode\"] == mode\n",
    "    if not idx.sum():\n",
    "        continue\n",
    "    show = df[df[\"mode\"] == mode].pivot_table(\n",
    "        index=\"x_nelement\",\n",
    "        columns=\"h_nelement\",\n",
    "        values=\"log10(fft_time/direct_time)\",\n",
    "    )\n",
    "    ax = sns.heatmap(\n",
    "        show,\n",
    "        center=0,\n",
    "        ax=ax,\n",
    "        cmap=\"RdBu\",\n",
    "    )\n",
    "    ax.set_title(mode)"
   ]
  },
  {
   "cell_type": "markdown",
   "metadata": {},
   "source": [
    "# Find big-O constant"
   ]
  },
  {
   "cell_type": "markdown",
   "metadata": {},
   "source": [
    "``` python\n",
    "fft, direct = times(O_fft, O_direct)\n",
    "method = \"fft\" if fft * O_fft < direct * O_direct else \"direct\"\n",
    "```\n",
    "\n",
    "Use torch to code custom loss function.\n"
   ]
  },
  {
   "cell_type": "code",
   "execution_count": 18,
   "metadata": {},
   "outputs": [],
   "source": [
    "from scipy.optimize import curve_fit\n",
    "from toolz import partial\n",
    "sum_builtin = sum\n",
    "\n",
    "def _prod(iterable):\n",
    "    \"\"\"\n",
    "    Product of a list of numbers.\n",
    "    Faster than np.prod for short lists like array shapes.\n",
    "    \"\"\"\n",
    "    product = 1\n",
    "    for x in iterable:\n",
    "        product *= x\n",
    "    return product\n",
    "\n",
    "def _fftconv_faster(x_shape, x_size, h_shape, h_size, mode):\n",
    "    \"\"\"\n",
    "    See if using fftconvolve or convolve is faster. The value returned (a\n",
    "    boolean) depends on the sizes and shapes of the input values.\n",
    "    The big O ratios were found to hold to different machines, which makes\n",
    "    sense as it's the ratio that matters (the effective speed of the computer\n",
    "    is found in both big O constants). Regardless, this had been tuned on an\n",
    "    early 2015 MacBook Pro with 8GB RAM and an Intel i5 processor.\n",
    "    \"\"\"\n",
    "    if mode == 'full':\n",
    "        out_shape = [n + k - 1 for n, k in zip(x_shape, h_shape)]\n",
    "    elif mode == 'same':\n",
    "        out_shape = x_shape\n",
    "    elif mode == 'valid':\n",
    "        out_shape = [n - k + 1 for n, k in zip(x_shape, h_shape)]\n",
    "    else:\n",
    "        raise ValueError('mode is invalid')\n",
    "    out_shape = [o if o > 0 else -o + 2 for o in out_shape]\n",
    "\n",
    "    # see whether the Fourier transform convolution method or the direct\n",
    "    # convolution method is faster (discussed in scikit-image PR #1792)\n",
    "    direct_time = (x_size * h_size * _prod(out_shape))\n",
    "    fft_time = sum_builtin(n * np.log(n) for n in (x_shape + h_shape +\n",
    "                                               tuple(out_shape)))\n",
    "    return fft_time, direct_time\n",
    "    \n",
    "def log_time(shapes, O, mode):\n",
    "# def _fftconv_faster(shapes, O, mode):\n",
    "    \"\"\"\n",
    "    See if using fftconvolve or convolve is faster. The value returned (a\n",
    "    boolean) depends on the sizes and shapes of the input values.\n",
    "    The big O ratios were found to hold to different machines, which makes\n",
    "    sense as it's the ratio that matters (the effective speed of the computer\n",
    "    is found in both big O constants). Regardless, this had been tuned on an\n",
    "    early 2015 MacBook Pro with 8GB RAM and an Intel i5 processor.\n",
    "    \"\"\"\n",
    "    times = []\n",
    "    for shape in shapes:\n",
    "        x_shape = np.array([shape[0]])\n",
    "        h_shape = np.array([shape[1]])\n",
    "        assert len(shape) == 2\n",
    "        assert len(x_shape) == len(h_shape) == 1\n",
    "        fft_time, direct_time = _fftconv_faster(\n",
    "            x_shape, _prod(x_shape), h_shape, _prod(h_shape), mode,\n",
    "        )\n",
    "        times.append([fft_time, direct_time])\n",
    "    times = np.asarray(times)\n",
    "    fft_time = times[:, 0]\n",
    "    direct_time = times[:, 1]\n",
    "    diff = O * fft_time / direct_time\n",
    "    \n",
    "    power = np.log10(abs(diff))\n",
    "    sign = np.sign(diff)\n",
    "    return sign * power\n",
    "\n",
    "def get_constant(df, mode):\n",
    "    \"\"\"\n",
    "    Inputs\n",
    "    ------\n",
    "    df : DataFrame with columns x.shape[0], x.shape[1], h.shape[0], h.shape[1] and log10(fft_time/direct_time)\n",
    "    \n",
    "    Returns\n",
    "    -------\n",
    "    popt : float\n",
    "        The constant such that constant * fft_time < direct_time\n",
    "    pstd : float\n",
    "        The (estimated) standard deviation of popt\n",
    "    \"\"\"\n",
    "    shapes = df[[\"x.shape[0]\", \"h.shape[0]\"]].values\n",
    "    times = df[\"log10(fft_time/direct_time)\"].values\n",
    "    log_time_w_mode = partial(log_time, mode=mode)\n",
    "\n",
    "#     p0s = {\"full\": 9e3, \"same\": 34e3, \"valid\": 66e3}\n",
    "#     kwargs = {\"p0\": 2 * p0s[mode]}\n",
    "#     kwargs = {\"p0\": 10e3}\n",
    "    kwargs = {}\n",
    "    popt, pcov = curve_fit(log_time_w_mode, shapes, times, **kwargs)\n",
    "    O = popt.item()\n",
    "    times_hat = log_time_w_mode(shapes, O)\n",
    "    return O, np.sqrt(pcov).item(), (times_hat, times)"
   ]
  },
  {
   "cell_type": "code",
   "execution_count": 19,
   "metadata": {},
   "outputs": [
    {
     "name": "stdout",
     "output_type": "stream",
     "text": [
      "same 964.3580370814427 80.34687428637622\n",
      "valid 70921.51829900651 2306.147242849512\n",
      "full 67425.80805326015 1704.2220648288737\n"
     ]
    }
   ],
   "source": [
    "bigOs = {}\n",
    "for mode in [\"same\", \"valid\", \"full\"]:\n",
    "    idx = df[\"mode\"] == mode\n",
    "    if not idx.sum():\n",
    "        continue\n",
    "    fit = df[idx].copy()\n",
    "    O, std, times = get_constant(fit, mode)\n",
    "    y_hat, y = times\n",
    "    fit[\"predicted_ratio\"] = y_hat\n",
    "    print(mode, O, std)\n",
    "    bigOs[mode] = {\"constant\": O, \"std\": std}\n"
   ]
  },
  {
   "cell_type": "code",
   "execution_count": 20,
   "metadata": {},
   "outputs": [],
   "source": [
    "constants = pd.DataFrame(bigOs).T\n",
    "constants[\"ndim\"] = 1"
   ]
  },
  {
   "cell_type": "code",
   "execution_count": 21,
   "metadata": {},
   "outputs": [
    {
     "data": {
      "text/html": [
       "<div>\n",
       "<style scoped>\n",
       "    .dataframe tbody tr th:only-of-type {\n",
       "        vertical-align: middle;\n",
       "    }\n",
       "\n",
       "    .dataframe tbody tr th {\n",
       "        vertical-align: top;\n",
       "    }\n",
       "\n",
       "    .dataframe thead th {\n",
       "        text-align: right;\n",
       "    }\n",
       "</style>\n",
       "<table border=\"1\" class=\"dataframe\">\n",
       "  <thead>\n",
       "    <tr style=\"text-align: right;\">\n",
       "      <th></th>\n",
       "      <th>constant</th>\n",
       "      <th>std</th>\n",
       "      <th>ndim</th>\n",
       "    </tr>\n",
       "    <tr>\n",
       "      <th>mode</th>\n",
       "      <th></th>\n",
       "      <th></th>\n",
       "      <th></th>\n",
       "    </tr>\n",
       "  </thead>\n",
       "  <tbody>\n",
       "    <tr>\n",
       "      <td>same</td>\n",
       "      <td>964.358037</td>\n",
       "      <td>80.346874</td>\n",
       "      <td>1</td>\n",
       "    </tr>\n",
       "    <tr>\n",
       "      <td>valid</td>\n",
       "      <td>70921.518299</td>\n",
       "      <td>2306.147243</td>\n",
       "      <td>1</td>\n",
       "    </tr>\n",
       "    <tr>\n",
       "      <td>full</td>\n",
       "      <td>67425.808053</td>\n",
       "      <td>1704.222065</td>\n",
       "      <td>1</td>\n",
       "    </tr>\n",
       "  </tbody>\n",
       "</table>\n",
       "</div>"
      ],
      "text/plain": [
       "           constant          std  ndim\n",
       "mode                                  \n",
       "same     964.358037    80.346874     1\n",
       "valid  70921.518299  2306.147243     1\n",
       "full   67425.808053  1704.222065     1"
      ]
     },
     "execution_count": 21,
     "metadata": {},
     "output_type": "execute_result"
    }
   ],
   "source": [
    "constants.index.name = \"mode\"\n",
    "constants"
   ]
  },
  {
   "cell_type": "code",
   "execution_count": 22,
   "metadata": {},
   "outputs": [
    {
     "data": {
      "text/plain": [
       "mode\n",
       "same     0.083316\n",
       "valid    0.032517\n",
       "full     0.025276\n",
       "dtype: float64"
      ]
     },
     "execution_count": 22,
     "metadata": {},
     "output_type": "execute_result"
    }
   ],
   "source": [
    "constants[\"std\"] / constants[\"constant\"]"
   ]
  },
  {
   "cell_type": "code",
   "execution_count": 23,
   "metadata": {},
   "outputs": [],
   "source": [
    "constants.to_csv(\"constants.csv\")"
   ]
  },
  {
   "cell_type": "code",
   "execution_count": null,
   "metadata": {},
   "outputs": [],
   "source": []
  }
 ],
 "metadata": {
  "kernelspec": {
   "display_name": "Python 3",
   "language": "python",
   "name": "python3"
  },
  "language_info": {
   "codemirror_mode": {
    "name": "ipython",
    "version": 3
   },
   "file_extension": ".py",
   "mimetype": "text/x-python",
   "name": "python",
   "nbconvert_exporter": "python",
   "pygments_lexer": "ipython3",
   "version": "3.7.3"
  }
 },
 "nbformat": 4,
 "nbformat_minor": 4
}
