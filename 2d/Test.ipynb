{
 "cells": [
  {
   "cell_type": "code",
   "execution_count": 1,
   "metadata": {},
   "outputs": [
    {
     "name": "stdout",
     "output_type": "stream",
     "text": [
      "2973\n"
     ]
    },
    {
     "data": {
      "text/html": [
       "<div>\n",
       "<style scoped>\n",
       "    .dataframe tbody tr th:only-of-type {\n",
       "        vertical-align: middle;\n",
       "    }\n",
       "\n",
       "    .dataframe tbody tr th {\n",
       "        vertical-align: top;\n",
       "    }\n",
       "\n",
       "    .dataframe thead th {\n",
       "        text-align: right;\n",
       "    }\n",
       "</style>\n",
       "<table border=\"1\" class=\"dataframe\">\n",
       "  <thead>\n",
       "    <tr style=\"text-align: right;\">\n",
       "      <th></th>\n",
       "      <th>shape1[0]</th>\n",
       "      <th>shape2[0]</th>\n",
       "      <th>shape1[1]</th>\n",
       "      <th>shape2[1]</th>\n",
       "      <th>mode</th>\n",
       "      <th>seed</th>\n",
       "      <th>fft_time</th>\n",
       "      <th>direct_time</th>\n",
       "      <th>total_params1</th>\n",
       "      <th>total_params2</th>\n",
       "    </tr>\n",
       "  </thead>\n",
       "  <tbody>\n",
       "    <tr>\n",
       "      <td>2968</td>\n",
       "      <td>93</td>\n",
       "      <td>6</td>\n",
       "      <td>118</td>\n",
       "      <td>6</td>\n",
       "      <td>full</td>\n",
       "      <td>989</td>\n",
       "      <td>0.001521</td>\n",
       "      <td>0.010080</td>\n",
       "      <td>10974</td>\n",
       "      <td>36</td>\n",
       "    </tr>\n",
       "    <tr>\n",
       "      <td>2969</td>\n",
       "      <td>93</td>\n",
       "      <td>6</td>\n",
       "      <td>118</td>\n",
       "      <td>6</td>\n",
       "      <td>same</td>\n",
       "      <td>989</td>\n",
       "      <td>0.001076</td>\n",
       "      <td>0.008758</td>\n",
       "      <td>10974</td>\n",
       "      <td>36</td>\n",
       "    </tr>\n",
       "    <tr>\n",
       "      <td>2970</td>\n",
       "      <td>11</td>\n",
       "      <td>4</td>\n",
       "      <td>363</td>\n",
       "      <td>4</td>\n",
       "      <td>valid</td>\n",
       "      <td>990</td>\n",
       "      <td>0.001367</td>\n",
       "      <td>0.001510</td>\n",
       "      <td>3993</td>\n",
       "      <td>16</td>\n",
       "    </tr>\n",
       "    <tr>\n",
       "      <td>2971</td>\n",
       "      <td>363</td>\n",
       "      <td>4</td>\n",
       "      <td>11</td>\n",
       "      <td>4</td>\n",
       "      <td>full</td>\n",
       "      <td>990</td>\n",
       "      <td>0.001225</td>\n",
       "      <td>0.002305</td>\n",
       "      <td>3993</td>\n",
       "      <td>16</td>\n",
       "    </tr>\n",
       "    <tr>\n",
       "      <td>2972</td>\n",
       "      <td>363</td>\n",
       "      <td>4</td>\n",
       "      <td>11</td>\n",
       "      <td>4</td>\n",
       "      <td>same</td>\n",
       "      <td>990</td>\n",
       "      <td>0.001002</td>\n",
       "      <td>0.001768</td>\n",
       "      <td>3993</td>\n",
       "      <td>16</td>\n",
       "    </tr>\n",
       "  </tbody>\n",
       "</table>\n",
       "</div>"
      ],
      "text/plain": [
       "      shape1[0]  shape2[0]  shape1[1]  shape2[1]   mode  seed  fft_time  \\\n",
       "2968         93          6        118          6   full   989  0.001521   \n",
       "2969         93          6        118          6   same   989  0.001076   \n",
       "2970         11          4        363          4  valid   990  0.001367   \n",
       "2971        363          4         11          4   full   990  0.001225   \n",
       "2972        363          4         11          4   same   990  0.001002   \n",
       "\n",
       "      direct_time  total_params1  total_params2  \n",
       "2968     0.010080          10974             36  \n",
       "2969     0.008758          10974             36  \n",
       "2970     0.001510           3993             16  \n",
       "2971     0.002305           3993             16  \n",
       "2972     0.001768           3993             16  "
      ]
     },
     "execution_count": 1,
     "metadata": {},
     "output_type": "execute_result"
    }
   ],
   "source": [
    "import pandas as pd\n",
    "from ast import literal_eval\n",
    "import numpy as np\n",
    "np.seterr(all=\"raise\")\n",
    "\n",
    "today = \"2019-10-02\"\n",
    "\n",
    "df = pd.read_parquet(f\"out/{today}-2d-test.parquet\")\n",
    "df[\"total_params1\"] = df[\"shape1[0]\"] * df[\"shape1[1]\"]\n",
    "df[\"total_params2\"] = df[\"shape2[0]\"] * df[\"shape2[1]\"]\n",
    "print(len(df))\n",
    "df.tail()"
   ]
  },
  {
   "cell_type": "code",
   "execution_count": 14,
   "metadata": {},
   "outputs": [],
   "source": [
    "from functools import lru_cache\n",
    "\n",
    "def _prod(iterable):\n",
    "    r = 1\n",
    "    for it in iterable:\n",
    "        r *= it\n",
    "    return r\n",
    "    \n",
    "sum_builtin = sum\n",
    "\n",
    "# def _get_constant(mode, x_ndim, x_size, h_size):\n",
    "#     if mode == 'full':\n",
    "#         big_O_constant = 10963.92823819 if x_ndim == 1 else 8899.1104874\n",
    "#     elif mode == 'same':\n",
    "#         oneD_big_O = {True: 7183.41306773, False: 856.78174111}\n",
    "#         big_O_constant = oneD_big_O[h_size <= x_size] if x_ndim == 1 \\\n",
    "#                                                       else 34519.21021589\n",
    "#     elif mode == 'valid':\n",
    "#         big_O_constant = 41954.28006344 if x_ndim == 1 else 66453.24316434\n",
    "#     else:\n",
    "#         raise ValueError('mode is invalid')\n",
    "#     return big_O_constant\n",
    "\n",
    "@lru_cache()\n",
    "def _get_constant(mode, x_ndim, x_size, h_size):\n",
    "    df = pd.read_csv(\"constants.csv\")\n",
    "    idx = (df[\"ndim\"] == 2) & (df[\"mode\"] == mode)\n",
    "    assert idx.sum() == 1\n",
    "    return df[idx][\"constant\"].values.item()"
   ]
  },
  {
   "cell_type": "code",
   "execution_count": 14,
   "metadata": {},
   "outputs": [],
   "source": [
    "def _fftconv_faster(x_shape, h_shape, mode):\n",
    "    \"\"\"\n",
    "    See if using fftconvolve or convolve is faster. The value returned (a\n",
    "    boolean) depends on the sizes and shapes of the input values.\n",
    "    The big O ratios were found to hold to different machines, which makes\n",
    "    sense as it's the ratio that matters (the effective speed of the computer\n",
    "    is found in both big O constants). Regardless, this had been tuned on an\n",
    "    early 2015 MacBook Pro with 8GB RAM and an Intel i5 processor.\n",
    "    \"\"\"\n",
    "    x_size = _prod(x_shape)\n",
    "    x_ndim = len(x_shape)\n",
    "    h_size = _prod(h_shape)\n",
    "    h_ndim = len(h_shape)\n",
    "    if mode == 'full':\n",
    "        out_shape = [n + k - 1 for n, k in zip(x_shape, h_shape)]\n",
    "    elif mode == 'same':\n",
    "        out_shape = x_shape\n",
    "    elif mode == 'valid':\n",
    "        out_shape = [n - k + 1 for n, k in zip(x_shape, h_shape)]\n",
    "    else:\n",
    "        raise ValueError('mode is invalid')\n",
    "    out_shape = [o if o > 0 else -o + 2 for o in out_shape]\n",
    "\n",
    "    # see whether the Fourier transform convolution method or the direct\n",
    "    # convolution method is faster (discussed in scikit-image PR #1792)\n",
    "    direct_time = min(x_size, h_size) * _prod(out_shape)\n",
    "    fft_time = sum_builtin(n * np.log(n) for n in (x_shape + h_shape +\n",
    "                                               tuple(out_shape)))\n",
    "    big_O_constant = _get_constant(mode, x_ndim, x_size, h_size)\n",
    "    return \"fft\" if big_O_constant * fft_time < direct_time else \"direct\"\n",
    "\n",
    "def estimate_faster_method(row):\n",
    "    x_shape = (row[\"shape1[0]\"], row[\"shape1[1]\"])\n",
    "    h_shape = (row[\"shape2[0]\"], row[\"shape2[1]\"])\n",
    "    mode = row[\"mode\"]\n",
    "    return _fftconv_faster(x_shape, h_shape, mode)"
   ]
  },
  {
   "cell_type": "code",
   "execution_count": 3,
   "metadata": {},
   "outputs": [
    {
     "name": "stdout",
     "output_type": "stream",
     "text": [
      "Predicted fastest method 89.14% of the time\n"
     ]
    }
   ],
   "source": [
    "fft_faster = df[\"fft_time\"] < df[\"direct_time\"]\n",
    "df[\"faster\"] = \"\"\n",
    "df.loc[fft_faster, \"faster\"] = \"fft\"\n",
    "df.loc[~fft_faster, \"faster\"] = \"direct\"\n",
    "\n",
    "df[\"faster_est\"] = df.apply(estimate_faster_method, axis=1)\n",
    "\n",
    "acc = (df.faster == df.faster_est).sum() / len(df)\n",
    "print(f\"Predicted fastest method {100 * acc:0.2f}% of the time\")"
   ]
  },
  {
   "cell_type": "markdown",
   "metadata": {},
   "source": [
    "**Goal for accuracy on predicting fastest**: >90% -- that's the performance seen with code from SciPy 1.3 (after uncommenting `_get_constant` function above)"
   ]
  },
  {
   "cell_type": "code",
   "execution_count": 4,
   "metadata": {},
   "outputs": [
    {
     "data": {
      "text/html": [
       "<div>\n",
       "<style scoped>\n",
       "    .dataframe tbody tr th:only-of-type {\n",
       "        vertical-align: middle;\n",
       "    }\n",
       "\n",
       "    .dataframe tbody tr th {\n",
       "        vertical-align: top;\n",
       "    }\n",
       "\n",
       "    .dataframe thead th {\n",
       "        text-align: right;\n",
       "    }\n",
       "</style>\n",
       "<table border=\"1\" class=\"dataframe\">\n",
       "  <thead>\n",
       "    <tr style=\"text-align: right;\">\n",
       "      <th></th>\n",
       "      <th>mode</th>\n",
       "      <th>shape1[0]</th>\n",
       "      <th>shape1[1]</th>\n",
       "      <th>shape2[0]</th>\n",
       "      <th>shape2[1]</th>\n",
       "      <th>ratio</th>\n",
       "      <th>direct_time</th>\n",
       "      <th>fft_time</th>\n",
       "    </tr>\n",
       "  </thead>\n",
       "  <tbody>\n",
       "    <tr>\n",
       "      <td>2092</td>\n",
       "      <td>full</td>\n",
       "      <td>7</td>\n",
       "      <td>44</td>\n",
       "      <td>20</td>\n",
       "      <td>20</td>\n",
       "      <td>9.543406</td>\n",
       "      <td>0.005452</td>\n",
       "      <td>0.000571</td>\n",
       "    </tr>\n",
       "    <tr>\n",
       "      <td>2458</td>\n",
       "      <td>full</td>\n",
       "      <td>8</td>\n",
       "      <td>99</td>\n",
       "      <td>12</td>\n",
       "      <td>12</td>\n",
       "      <td>7.135113</td>\n",
       "      <td>0.006308</td>\n",
       "      <td>0.000884</td>\n",
       "    </tr>\n",
       "    <tr>\n",
       "      <td>1075</td>\n",
       "      <td>full</td>\n",
       "      <td>98</td>\n",
       "      <td>7</td>\n",
       "      <td>15</td>\n",
       "      <td>15</td>\n",
       "      <td>11.193574</td>\n",
       "      <td>0.006728</td>\n",
       "      <td>0.000601</td>\n",
       "    </tr>\n",
       "    <tr>\n",
       "      <td>49</td>\n",
       "      <td>full</td>\n",
       "      <td>8</td>\n",
       "      <td>38</td>\n",
       "      <td>20</td>\n",
       "      <td>20</td>\n",
       "      <td>9.250150</td>\n",
       "      <td>0.007335</td>\n",
       "      <td>0.000793</td>\n",
       "    </tr>\n",
       "    <tr>\n",
       "      <td>1627</td>\n",
       "      <td>full</td>\n",
       "      <td>4</td>\n",
       "      <td>104</td>\n",
       "      <td>17</td>\n",
       "      <td>17</td>\n",
       "      <td>10.353432</td>\n",
       "      <td>0.007983</td>\n",
       "      <td>0.000771</td>\n",
       "    </tr>\n",
       "    <tr>\n",
       "      <td>2428</td>\n",
       "      <td>full</td>\n",
       "      <td>3</td>\n",
       "      <td>93</td>\n",
       "      <td>19</td>\n",
       "      <td>19</td>\n",
       "      <td>11.816189</td>\n",
       "      <td>0.008353</td>\n",
       "      <td>0.000707</td>\n",
       "    </tr>\n",
       "    <tr>\n",
       "      <td>1408</td>\n",
       "      <td>full</td>\n",
       "      <td>88</td>\n",
       "      <td>4</td>\n",
       "      <td>19</td>\n",
       "      <td>19</td>\n",
       "      <td>15.130962</td>\n",
       "      <td>0.008622</td>\n",
       "      <td>0.000570</td>\n",
       "    </tr>\n",
       "    <tr>\n",
       "      <td>520</td>\n",
       "      <td>full</td>\n",
       "      <td>4</td>\n",
       "      <td>96</td>\n",
       "      <td>18</td>\n",
       "      <td>18</td>\n",
       "      <td>15.897925</td>\n",
       "      <td>0.008949</td>\n",
       "      <td>0.000563</td>\n",
       "    </tr>\n",
       "    <tr>\n",
       "      <td>319</td>\n",
       "      <td>full</td>\n",
       "      <td>3</td>\n",
       "      <td>319</td>\n",
       "      <td>14</td>\n",
       "      <td>14</td>\n",
       "      <td>17.671918</td>\n",
       "      <td>0.012303</td>\n",
       "      <td>0.000696</td>\n",
       "    </tr>\n",
       "    <tr>\n",
       "      <td>1426</td>\n",
       "      <td>full</td>\n",
       "      <td>3</td>\n",
       "      <td>177</td>\n",
       "      <td>17</td>\n",
       "      <td>17</td>\n",
       "      <td>26.124233</td>\n",
       "      <td>0.016244</td>\n",
       "      <td>0.000622</td>\n",
       "    </tr>\n",
       "  </tbody>\n",
       "</table>\n",
       "</div>"
      ],
      "text/plain": [
       "      mode  shape1[0]  shape1[1]  shape2[0]  shape2[1]      ratio  \\\n",
       "2092  full          7         44         20         20   9.543406   \n",
       "2458  full          8         99         12         12   7.135113   \n",
       "1075  full         98          7         15         15  11.193574   \n",
       "49    full          8         38         20         20   9.250150   \n",
       "1627  full          4        104         17         17  10.353432   \n",
       "2428  full          3         93         19         19  11.816189   \n",
       "1408  full         88          4         19         19  15.130962   \n",
       "520   full          4         96         18         18  15.897925   \n",
       "319   full          3        319         14         14  17.671918   \n",
       "1426  full          3        177         17         17  26.124233   \n",
       "\n",
       "      direct_time  fft_time  \n",
       "2092     0.005452  0.000571  \n",
       "2458     0.006308  0.000884  \n",
       "1075     0.006728  0.000601  \n",
       "49       0.007335  0.000793  \n",
       "1627     0.007983  0.000771  \n",
       "2428     0.008353  0.000707  \n",
       "1408     0.008622  0.000570  \n",
       "520      0.008949  0.000563  \n",
       "319      0.012303  0.000696  \n",
       "1426     0.016244  0.000622  "
      ]
     },
     "execution_count": 4,
     "metadata": {},
     "output_type": "execute_result"
    }
   ],
   "source": [
    "wrong_idx = df.faster != df.faster_est\n",
    "wrong =  df[wrong_idx].copy()\n",
    "wrong[\"ratio\"] = wrong.fft_time / wrong.direct_time\n",
    "idx = wrong.ratio < 1\n",
    "wrong.loc[idx, \"ratio\"] = 1 / wrong.loc[idx, \"ratio\"]\n",
    "\n",
    "vals = wrong[[\"mode\", \"shape1[0]\", \"shape1[1]\", \"shape2[0]\", \"shape2[1]\", \"ratio\", \"direct_time\", \"fft_time\"]].copy()\n",
    "vals.sort_values(by=\"direct_time\", inplace=True)\n",
    "vals.tail(n=10)"
   ]
  },
  {
   "cell_type": "code",
   "execution_count": 5,
   "metadata": {},
   "outputs": [
    {
     "data": {
      "image/png": "[encoded data removed]",
      "text/plain": [
       "<Figure size 432x288 with 1 Axes>"
      ]
     },
     "metadata": {
      "image/png": {
       "height": 263,
       "width": 369
      },
      "needs_background": "light"
     },
     "output_type": "display_data"
    }
   ],
   "source": [
    "ax = vals.plot(x=\"direct_time\", y=\"ratio\", style=\"o\", alpha=0.3)\n",
    "ax.set_xscale(\"log\")"
   ]
  },
  {
   "cell_type": "code",
   "execution_count": 6,
   "metadata": {},
   "outputs": [
    {
     "data": {
      "text/plain": [
       "0.0002460479736328125"
      ]
     },
     "execution_count": 6,
     "metadata": {},
     "output_type": "execute_result"
    }
   ],
   "source": [
    "vals.direct_time.min()"
   ]
  },
  {
   "cell_type": "code",
   "execution_count": 11,
   "metadata": {},
   "outputs": [
    {
     "data": {
      "text/plain": [
       "(1, 10)"
      ]
     },
     "execution_count": 11,
     "metadata": {},
     "output_type": "execute_result"
    },
    {
     "data": {
      "image/png": "[encoded data removed]",
      "text/plain": [
       "<Figure size 432x288 with 1 Axes>"
      ]
     },
     "metadata": {
      "image/png": {
       "height": 251,
       "width": 381
      },
      "needs_background": "light"
     },
     "output_type": "display_data"
    }
   ],
   "source": [
    "ax = wrong.ratio.hist(bins=25)\n",
    "ax.set_xlim(1, 10)"
   ]
  },
  {
   "cell_type": "markdown",
   "metadata": {},
   "source": [
    "**Goal for this histogram:** `ratio.max() < 5` approximately. That's the performance with SciPy 1.3 (again, after un-commenting `_get_constants` above)."
   ]
  },
  {
   "cell_type": "code",
   "execution_count": 13,
   "metadata": {},
   "outputs": [
    {
     "data": {
      "text/plain": [
       "0.9040247678018576"
      ]
     },
     "execution_count": 13,
     "metadata": {},
     "output_type": "execute_result"
    }
   ],
   "source": [
    "(wrong.ratio <= 5).sum() / len(wrong)"
   ]
  },
  {
   "cell_type": "code",
   "execution_count": null,
   "metadata": {},
   "outputs": [],
   "source": []
  }
 ],
 "metadata": {
  "kernelspec": {
   "display_name": "Python 3",
   "language": "python",
   "name": "python3"
  },
  "language_info": {
   "codemirror_mode": {
    "name": "ipython",
    "version": 3
   },
   "file_extension": ".py",
   "mimetype": "text/x-python",
   "name": "python",
   "nbconvert_exporter": "python",
   "pygments_lexer": "ipython3",
   "version": "3.7.3"
  }
 },
 "nbformat": 4,
 "nbformat_minor": 4
}
