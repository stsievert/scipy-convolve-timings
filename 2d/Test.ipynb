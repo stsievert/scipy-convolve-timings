{
 "cells": [
  {
   "cell_type": "code",
   "execution_count": 2,
   "metadata": {},
   "outputs": [
    {
     "name": "stdout",
     "output_type": "stream",
     "text": [
      "73023\n"
     ]
    },
    {
     "data": {
      "text/html": [
       "<div>\n",
       "<style scoped>\n",
       "    .dataframe tbody tr th:only-of-type {\n",
       "        vertical-align: middle;\n",
       "    }\n",
       "\n",
       "    .dataframe tbody tr th {\n",
       "        vertical-align: top;\n",
       "    }\n",
       "\n",
       "    .dataframe thead th {\n",
       "        text-align: right;\n",
       "    }\n",
       "</style>\n",
       "<table border=\"1\" class=\"dataframe\">\n",
       "  <thead>\n",
       "    <tr style=\"text-align: right;\">\n",
       "      <th></th>\n",
       "      <th>shape1[0]</th>\n",
       "      <th>shape2[0]</th>\n",
       "      <th>shape1[1]</th>\n",
       "      <th>shape2[1]</th>\n",
       "      <th>mode</th>\n",
       "      <th>seed</th>\n",
       "      <th>fft_time</th>\n",
       "      <th>direct_time</th>\n",
       "      <th>total_params1</th>\n",
       "      <th>total_params2</th>\n",
       "    </tr>\n",
       "  </thead>\n",
       "  <tbody>\n",
       "    <tr>\n",
       "      <td>73018</td>\n",
       "      <td>74</td>\n",
       "      <td>25</td>\n",
       "      <td>45</td>\n",
       "      <td>50</td>\n",
       "      <td>full</td>\n",
       "      <td>24339</td>\n",
       "      <td>0.000487</td>\n",
       "      <td>0.191245</td>\n",
       "      <td>3330</td>\n",
       "      <td>1250</td>\n",
       "    </tr>\n",
       "    <tr>\n",
       "      <td>73019</td>\n",
       "      <td>74</td>\n",
       "      <td>25</td>\n",
       "      <td>45</td>\n",
       "      <td>50</td>\n",
       "      <td>same</td>\n",
       "      <td>24339</td>\n",
       "      <td>0.000532</td>\n",
       "      <td>0.080625</td>\n",
       "      <td>3330</td>\n",
       "      <td>1250</td>\n",
       "    </tr>\n",
       "    <tr>\n",
       "      <td>73020</td>\n",
       "      <td>12</td>\n",
       "      <td>8</td>\n",
       "      <td>95</td>\n",
       "      <td>8</td>\n",
       "      <td>valid</td>\n",
       "      <td>24340</td>\n",
       "      <td>0.000313</td>\n",
       "      <td>0.000654</td>\n",
       "      <td>1140</td>\n",
       "      <td>64</td>\n",
       "    </tr>\n",
       "    <tr>\n",
       "      <td>73021</td>\n",
       "      <td>12</td>\n",
       "      <td>8</td>\n",
       "      <td>95</td>\n",
       "      <td>8</td>\n",
       "      <td>full</td>\n",
       "      <td>24340</td>\n",
       "      <td>0.000264</td>\n",
       "      <td>0.002489</td>\n",
       "      <td>1140</td>\n",
       "      <td>64</td>\n",
       "    </tr>\n",
       "    <tr>\n",
       "      <td>73022</td>\n",
       "      <td>12</td>\n",
       "      <td>8</td>\n",
       "      <td>95</td>\n",
       "      <td>8</td>\n",
       "      <td>same</td>\n",
       "      <td>24340</td>\n",
       "      <td>0.000285</td>\n",
       "      <td>0.001687</td>\n",
       "      <td>1140</td>\n",
       "      <td>64</td>\n",
       "    </tr>\n",
       "  </tbody>\n",
       "</table>\n",
       "</div>"
      ],
      "text/plain": [
       "       shape1[0]  shape2[0]  shape1[1]  shape2[1]   mode   seed  fft_time  \\\n",
       "73018         74         25         45         50   full  24339  0.000487   \n",
       "73019         74         25         45         50   same  24339  0.000532   \n",
       "73020         12          8         95          8  valid  24340  0.000313   \n",
       "73021         12          8         95          8   full  24340  0.000264   \n",
       "73022         12          8         95          8   same  24340  0.000285   \n",
       "\n",
       "       direct_time  total_params1  total_params2  \n",
       "73018     0.191245           3330           1250  \n",
       "73019     0.080625           3330           1250  \n",
       "73020     0.000654           1140             64  \n",
       "73021     0.002489           1140             64  \n",
       "73022     0.001687           1140             64  "
      ]
     },
     "execution_count": 2,
     "metadata": {},
     "output_type": "execute_result"
    }
   ],
   "source": [
    "import pandas as pd\n",
    "from ast import literal_eval\n",
    "import numpy as np\n",
    "np.seterr(all=\"raise\")\n",
    "\n",
    "today = \"2019-11-06\"\n",
    "\n",
    "df = pd.read_parquet(f\"out/{today}-2d-test.parquet\")\n",
    "df[\"total_params1\"] = df[\"shape1[0]\"] * df[\"shape1[1]\"]\n",
    "df[\"total_params2\"] = df[\"shape2[0]\"] * df[\"shape2[1]\"]\n",
    "print(len(df))\n",
    "df.tail()"
   ]
  },
  {
   "cell_type": "code",
   "execution_count": 3,
   "metadata": {},
   "outputs": [],
   "source": [
    "from functools import lru_cache\n",
    "\n",
    "def _prod(iterable):\n",
    "    r = 1\n",
    "    for it in iterable:\n",
    "        r *= it\n",
    "    return r\n",
    "    \n",
    "sum_builtin = sum\n",
    "\n",
    "# def _get_constant(mode, x_ndim, x_size, h_size):\n",
    "#     if mode == 'full':\n",
    "#         big_O_constant = 10963.92823819 if x_ndim == 1 else 8899.1104874\n",
    "#     elif mode == 'same':\n",
    "#         oneD_big_O = {True: 7183.41306773, False: 856.78174111}\n",
    "#         big_O_constant = oneD_big_O[h_size <= x_size] if x_ndim == 1 \\\n",
    "#                                                       else 34519.21021589\n",
    "#     elif mode == 'valid':\n",
    "#         big_O_constant = 41954.28006344 if x_ndim == 1 else 66453.24316434\n",
    "#     else:\n",
    "#         raise ValueError('mode is invalid')\n",
    "#     return big_O_constant\n",
    "\n",
    "@lru_cache()\n",
    "def _get_constant(mode, x_ndim, x_size, h_size):\n",
    "    df = pd.read_csv(\"constants.csv\")\n",
    "    idx = (df[\"ndim\"] == 2) & (df[\"mode\"] == mode)\n",
    "    assert idx.sum() == 1\n",
    "    return df[idx][\"constant\"].values.item()"
   ]
  },
  {
   "cell_type": "code",
   "execution_count": 4,
   "metadata": {},
   "outputs": [],
   "source": [
    "def _fftconv_faster(x_shape, h_shape, mode):\n",
    "    \"\"\"\n",
    "    See if using fftconvolve or convolve is faster. The value returned (a\n",
    "    boolean) depends on the sizes and shapes of the input values.\n",
    "    The big O ratios were found to hold to different machines, which makes\n",
    "    sense as it's the ratio that matters (the effective speed of the computer\n",
    "    is found in both big O constants). Regardless, this had been tuned on an\n",
    "    early 2015 MacBook Pro with 8GB RAM and an Intel i5 processor.\n",
    "    \"\"\"\n",
    "    x_size = _prod(x_shape)\n",
    "    x_ndim = len(x_shape)\n",
    "    h_size = _prod(h_shape)\n",
    "    h_ndim = len(h_shape)\n",
    "    if mode == 'full':\n",
    "        out_shape = [n + k - 1 for n, k in zip(x_shape, h_shape)]\n",
    "    elif mode == 'same':\n",
    "        out_shape = x_shape\n",
    "    elif mode == 'valid':\n",
    "        out_shape = [n - k + 1 for n, k in zip(x_shape, h_shape)]\n",
    "    else:\n",
    "        raise ValueError('mode is invalid')\n",
    "    out_shape = [o if o > 0 else -o + 2 for o in out_shape]\n",
    "\n",
    "    # see whether the Fourier transform convolution method or the direct\n",
    "    # convolution method is faster (discussed in scikit-image PR #1792)\n",
    "    direct_time = min(x_size, h_size) * _prod(out_shape)\n",
    "    fft_time = sum_builtin(n * np.log(n) for n in (x_shape + h_shape +\n",
    "                                               tuple(out_shape)))\n",
    "    big_O_constant = _get_constant(mode, x_ndim, x_size, h_size)\n",
    "    return \"fft\" if big_O_constant * fft_time < direct_time else \"direct\"\n",
    "\n",
    "def estimate_faster_method(row):\n",
    "    x_shape = (row[\"shape1[0]\"], row[\"shape1[1]\"])\n",
    "    h_shape = (row[\"shape2[0]\"], row[\"shape2[1]\"])\n",
    "    mode = row[\"mode\"]\n",
    "    return _fftconv_faster(x_shape, h_shape, mode)"
   ]
  },
  {
   "cell_type": "code",
   "execution_count": 5,
   "metadata": {},
   "outputs": [
    {
     "name": "stdout",
     "output_type": "stream",
     "text": [
      "Predicted fastest method 91.43% of the time\n"
     ]
    }
   ],
   "source": [
    "fft_faster = df[\"fft_time\"] < df[\"direct_time\"]\n",
    "df[\"faster\"] = \"\"\n",
    "df.loc[fft_faster, \"faster\"] = \"fft\"\n",
    "df.loc[~fft_faster, \"faster\"] = \"direct\"\n",
    "\n",
    "df[\"faster_est\"] = df.apply(estimate_faster_method, axis=1)\n",
    "\n",
    "acc = (df.faster == df.faster_est).sum() / len(df)\n",
    "print(f\"Predicted fastest method {100 * acc:0.2f}% of the time\")"
   ]
  },
  {
   "cell_type": "markdown",
   "metadata": {},
   "source": [
    "**Goal for accuracy on predicting fastest**: >90% -- that's the performance seen with code from SciPy 1.3 (after uncommenting `_get_constant` function above)"
   ]
  },
  {
   "cell_type": "code",
   "execution_count": 6,
   "metadata": {},
   "outputs": [
    {
     "data": {
      "text/html": [
       "<div>\n",
       "<style scoped>\n",
       "    .dataframe tbody tr th:only-of-type {\n",
       "        vertical-align: middle;\n",
       "    }\n",
       "\n",
       "    .dataframe tbody tr th {\n",
       "        vertical-align: top;\n",
       "    }\n",
       "\n",
       "    .dataframe thead th {\n",
       "        text-align: right;\n",
       "    }\n",
       "</style>\n",
       "<table border=\"1\" class=\"dataframe\">\n",
       "  <thead>\n",
       "    <tr style=\"text-align: right;\">\n",
       "      <th></th>\n",
       "      <th>mode</th>\n",
       "      <th>shape1[0]</th>\n",
       "      <th>shape1[1]</th>\n",
       "      <th>shape2[0]</th>\n",
       "      <th>shape2[1]</th>\n",
       "      <th>ratio</th>\n",
       "      <th>direct_time</th>\n",
       "      <th>fft_time</th>\n",
       "    </tr>\n",
       "  </thead>\n",
       "  <tbody>\n",
       "    <tr>\n",
       "      <td>72719</td>\n",
       "      <td>same</td>\n",
       "      <td>3</td>\n",
       "      <td>17</td>\n",
       "      <td>61</td>\n",
       "      <td>122</td>\n",
       "      <td>10.158508</td>\n",
       "      <td>0.004156</td>\n",
       "      <td>0.000409</td>\n",
       "    </tr>\n",
       "    <tr>\n",
       "      <td>21086</td>\n",
       "      <td>same</td>\n",
       "      <td>5</td>\n",
       "      <td>10</td>\n",
       "      <td>66</td>\n",
       "      <td>132</td>\n",
       "      <td>8.975500</td>\n",
       "      <td>0.004280</td>\n",
       "      <td>0.000477</td>\n",
       "    </tr>\n",
       "    <tr>\n",
       "      <td>28535</td>\n",
       "      <td>same</td>\n",
       "      <td>6</td>\n",
       "      <td>9</td>\n",
       "      <td>63</td>\n",
       "      <td>126</td>\n",
       "      <td>9.935313</td>\n",
       "      <td>0.004467</td>\n",
       "      <td>0.000450</td>\n",
       "    </tr>\n",
       "    <tr>\n",
       "      <td>14102</td>\n",
       "      <td>same</td>\n",
       "      <td>15</td>\n",
       "      <td>4</td>\n",
       "      <td>57</td>\n",
       "      <td>114</td>\n",
       "      <td>6.180231</td>\n",
       "      <td>0.004472</td>\n",
       "      <td>0.000724</td>\n",
       "    </tr>\n",
       "    <tr>\n",
       "      <td>43853</td>\n",
       "      <td>same</td>\n",
       "      <td>4</td>\n",
       "      <td>16</td>\n",
       "      <td>62</td>\n",
       "      <td>124</td>\n",
       "      <td>10.268694</td>\n",
       "      <td>0.004911</td>\n",
       "      <td>0.000478</td>\n",
       "    </tr>\n",
       "    <tr>\n",
       "      <td>29354</td>\n",
       "      <td>same</td>\n",
       "      <td>5</td>\n",
       "      <td>11</td>\n",
       "      <td>64</td>\n",
       "      <td>128</td>\n",
       "      <td>9.829465</td>\n",
       "      <td>0.004947</td>\n",
       "      <td>0.000503</td>\n",
       "    </tr>\n",
       "    <tr>\n",
       "      <td>21557</td>\n",
       "      <td>same</td>\n",
       "      <td>10</td>\n",
       "      <td>5</td>\n",
       "      <td>66</td>\n",
       "      <td>132</td>\n",
       "      <td>9.453436</td>\n",
       "      <td>0.004986</td>\n",
       "      <td>0.000527</td>\n",
       "    </tr>\n",
       "    <tr>\n",
       "      <td>14846</td>\n",
       "      <td>same</td>\n",
       "      <td>7</td>\n",
       "      <td>9</td>\n",
       "      <td>64</td>\n",
       "      <td>128</td>\n",
       "      <td>11.071646</td>\n",
       "      <td>0.005195</td>\n",
       "      <td>0.000469</td>\n",
       "    </tr>\n",
       "    <tr>\n",
       "      <td>9092</td>\n",
       "      <td>same</td>\n",
       "      <td>22</td>\n",
       "      <td>3</td>\n",
       "      <td>64</td>\n",
       "      <td>128</td>\n",
       "      <td>11.554066</td>\n",
       "      <td>0.006165</td>\n",
       "      <td>0.000534</td>\n",
       "    </tr>\n",
       "    <tr>\n",
       "      <td>9446</td>\n",
       "      <td>same</td>\n",
       "      <td>3</td>\n",
       "      <td>23</td>\n",
       "      <td>69</td>\n",
       "      <td>138</td>\n",
       "      <td>13.091188</td>\n",
       "      <td>0.007119</td>\n",
       "      <td>0.000544</td>\n",
       "    </tr>\n",
       "  </tbody>\n",
       "</table>\n",
       "</div>"
      ],
      "text/plain": [
       "       mode  shape1[0]  shape1[1]  shape2[0]  shape2[1]      ratio  \\\n",
       "72719  same          3         17         61        122  10.158508   \n",
       "21086  same          5         10         66        132   8.975500   \n",
       "28535  same          6          9         63        126   9.935313   \n",
       "14102  same         15          4         57        114   6.180231   \n",
       "43853  same          4         16         62        124  10.268694   \n",
       "29354  same          5         11         64        128   9.829465   \n",
       "21557  same         10          5         66        132   9.453436   \n",
       "14846  same          7          9         64        128  11.071646   \n",
       "9092   same         22          3         64        128  11.554066   \n",
       "9446   same          3         23         69        138  13.091188   \n",
       "\n",
       "       direct_time  fft_time  \n",
       "72719     0.004156  0.000409  \n",
       "21086     0.004280  0.000477  \n",
       "28535     0.004467  0.000450  \n",
       "14102     0.004472  0.000724  \n",
       "43853     0.004911  0.000478  \n",
       "29354     0.004947  0.000503  \n",
       "21557     0.004986  0.000527  \n",
       "14846     0.005195  0.000469  \n",
       "9092      0.006165  0.000534  \n",
       "9446      0.007119  0.000544  "
      ]
     },
     "execution_count": 6,
     "metadata": {},
     "output_type": "execute_result"
    }
   ],
   "source": [
    "wrong_idx = df.faster != df.faster_est\n",
    "wrong =  df[wrong_idx].copy()\n",
    "wrong[\"ratio\"] = wrong.fft_time / wrong.direct_time\n",
    "idx = wrong.ratio < 1\n",
    "wrong.loc[idx, \"ratio\"] = 1 / wrong.loc[idx, \"ratio\"]\n",
    "\n",
    "vals = wrong[[\"mode\", \"shape1[0]\", \"shape1[1]\", \"shape2[0]\", \"shape2[1]\", \"ratio\", \"direct_time\", \"fft_time\"]].copy()\n",
    "vals.sort_values(by=\"direct_time\", inplace=True)\n",
    "vals.tail(n=10)"
   ]
  },
  {
   "cell_type": "code",
   "execution_count": 7,
   "metadata": {},
   "outputs": [
    {
     "data": {
      "image/png": "[encoded data removed]",
      "text/plain": [
       "<Figure size 432x288 with 1 Axes>"
      ]
     },
     "metadata": {
      "image/png": {
       "height": 267,
       "width": 395
      },
      "needs_background": "light"
     },
     "output_type": "display_data"
    }
   ],
   "source": [
    "ax = vals.plot(x=\"direct_time\", y=\"ratio\", style=\"o\", alpha=0.3)\n",
    "ax.set_xscale(\"log\")"
   ]
  },
  {
   "cell_type": "code",
   "execution_count": 8,
   "metadata": {},
   "outputs": [
    {
     "data": {
      "text/plain": [
       "-0.03404641151428223"
      ]
     },
     "execution_count": 8,
     "metadata": {},
     "output_type": "execute_result"
    }
   ],
   "source": [
    "vals.direct_time.min()"
   ]
  },
  {
   "cell_type": "code",
   "execution_count": 9,
   "metadata": {},
   "outputs": [
    {
     "data": {
      "text/plain": [
       "(1, 10)"
      ]
     },
     "execution_count": 9,
     "metadata": {},
     "output_type": "execute_result"
    },
    {
     "data": {
      "image/png": "[encoded data removed]",
      "text/plain": [
       "<Figure size 432x288 with 1 Axes>"
      ]
     },
     "metadata": {
      "image/png": {
       "height": 248,
       "width": 388
      },
      "needs_background": "light"
     },
     "output_type": "display_data"
    }
   ],
   "source": [
    "ax = wrong.ratio.hist(bins=25)\n",
    "ax.set_xlim(1, 10)"
   ]
  },
  {
   "cell_type": "markdown",
   "metadata": {},
   "source": [
    "**Goal for this histogram:** `ratio.max() < 5` approximately. That's the performance with SciPy 1.3 (again, after un-commenting `_get_constants` above)."
   ]
  },
  {
   "cell_type": "code",
   "execution_count": 10,
   "metadata": {},
   "outputs": [
    {
     "data": {
      "text/plain": [
       "0.9819373401534527"
      ]
     },
     "execution_count": 10,
     "metadata": {},
     "output_type": "execute_result"
    }
   ],
   "source": [
    "(wrong.ratio <= 5).sum() / len(wrong)"
   ]
  },
  {
   "cell_type": "code",
   "execution_count": null,
   "metadata": {},
   "outputs": [],
   "source": []
  }
 ],
 "metadata": {
  "kernelspec": {
   "display_name": "Python 3",
   "language": "python",
   "name": "python3"
  },
  "language_info": {
   "codemirror_mode": {
    "name": "ipython",
    "version": 3
   },
   "file_extension": ".py",
   "mimetype": "text/x-python",
   "name": "python",
   "nbconvert_exporter": "python",
   "pygments_lexer": "ipython3",
   "version": "3.7.3"
  }
 },
 "nbformat": 4,
 "nbformat_minor": 4
}
