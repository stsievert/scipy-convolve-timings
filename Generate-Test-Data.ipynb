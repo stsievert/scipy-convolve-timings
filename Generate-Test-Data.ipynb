{
 "cells": [
  {
   "cell_type": "code",
   "execution_count": 1,
   "metadata": {},
   "outputs": [],
   "source": [
    "import numpy as np\n",
    "from sklearn.utils import check_random_state\n",
    "from scipy.signal import convolve\n",
    "from time import time\n",
    "from scipy.stats import reciprocal as loguniform  # see https://github.com/scipy/scipy/pull/10815\n"
   ]
  },
  {
   "cell_type": "code",
   "execution_count": 2,
   "metadata": {},
   "outputs": [],
   "source": [
    "def get_random_size(random_state=None, larger=False):\n",
    "    rng = check_random_state(random_state)\n",
    "    rv = loguniform(3, 400)\n",
    "    s1, s2 = rv.rvs(size=2, random_state=rng).astype(int)\n",
    "    return (s1, s1), (s2, s2)\n",
    "\n",
    "def time_convs(S1, S2, mode, random_state=None):\n",
    "    rng = check_random_state(random_state)\n",
    "    x = rng.randn(*S1)\n",
    "    h = rng.randn(*S2)\n",
    "    \n",
    "    start = time()\n",
    "    _ = convolve(x, h, mode=mode, method=\"fft\")\n",
    "    fft_time = time() - start\n",
    "    \n",
    "    start = time()\n",
    "    _ = convolve(x, h, mode=mode, method=\"direct\")\n",
    "    direct_time = time() - start\n",
    "    return {\"fft_time\": fft_time, \"direct_time\": direct_time}"
   ]
  },
  {
   "cell_type": "code",
   "execution_count": null,
   "metadata": {},
   "outputs": [
    {
     "name": "stdout",
     "output_type": "stream",
     "text": [
      "0 valid\n",
      "0 full\n",
      "0 same\n",
      "10 valid\n",
      "10 full\n",
      "10 same\n",
      "20 valid\n",
      "20 full\n",
      "20 same\n",
      "30 valid\n",
      "30 full\n",
      "30 same\n",
      "40 valid\n",
      "40 full\n",
      "40 same\n",
      "50 valid\n",
      "50 full\n",
      "50 same\n",
      "60 valid\n",
      "60 full\n",
      "60 same\n",
      "70 valid\n",
      "70 full\n",
      "70 same\n",
      "80 valid\n",
      "80 full\n",
      "80 same\n",
      "90 valid\n",
      "90 full\n",
      "90 same\n"
     ]
    }
   ],
   "source": [
    "import pandas as pd\n",
    "import itertools\n",
    "data = []\n",
    "for seed, mode in itertools.product(\n",
    "    range(1000), [\"valid\", \"full\", \"same\"], \n",
    "):\n",
    "    S1, S2 = get_random_size(random_state=seed, larger=mode == \"valid\")\n",
    "    times = time_convs(\n",
    "        S1, S2, mode, random_state=seed,\n",
    "    )\n",
    "    datum = {\n",
    "        \"shape1\": S1,\n",
    "        \"shape2\": S2,\n",
    "        \"mode\": mode,\n",
    "        \"seed\": seed,\n",
    "        **times,\n",
    "    }\n",
    "    data.append(datum)\n",
    "    if seed % 10 == 0:\n",
    "        today = \"2019-10-02\"\n",
    "        df = pd.DataFrame(data)\n",
    "        df.to_csv(f\"out/{today}-2d-test.csv\", index=False)\n",
    "        print(seed, mode)"
   ]
  },
  {
   "cell_type": "code",
   "execution_count": null,
   "metadata": {},
   "outputs": [],
   "source": []
  }
 ],
 "metadata": {
  "kernelspec": {
   "display_name": "Python 3",
   "language": "python",
   "name": "python3"
  },
  "language_info": {
   "codemirror_mode": {
    "name": "ipython",
    "version": 3
   },
   "file_extension": ".py",
   "mimetype": "text/x-python",
   "name": "python",
   "nbconvert_exporter": "python",
   "pygments_lexer": "ipython3",
   "version": "3.7.3"
  }
 },
 "nbformat": 4,
 "nbformat_minor": 4
}
