{
 "cells": [
  {
   "cell_type": "code",
   "execution_count": 1,
   "metadata": {},
   "outputs": [],
   "source": [
    "import numpy as np\n",
    "from numpy import asarray, array, ndarray\n",
    "from scipy.signal import convolve\n",
    "import math"
   ]
  },
  {
   "cell_type": "code",
   "execution_count": 2,
   "metadata": {},
   "outputs": [],
   "source": [
    "randn = np.random.randn\n",
    "import timeit\n",
    "def time(x, h, mode='valid', method='auto', repeat=20, number=2):\n",
    "    times = timeit.repeat(\n",
    "        \"convolve(x, h, mode='{}', method='{}')\".format(mode, method), \n",
    "        \"import numpy as np\\n\" +\n",
    "        \"from scipy.signal import convolve\",\n",
    "        repeat=repeat,\n",
    "        number=number,\n",
    "        globals={\"x\": x, \"h\": h}\n",
    "    )\n",
    "    return min(times) / number"
   ]
  },
  {
   "cell_type": "code",
   "execution_count": 3,
   "metadata": {},
   "outputs": [],
   "source": [
    "from sklearn.utils import check_random_state\n",
    "import pandas as pd\n",
    "from scipy.stats import reciprocal as loguniform\n",
    "\n",
    "def _get_data(a, b, ndim, rng):\n",
    "    if ndim == 2:\n",
    "        s1 = loguniform(min(3, a//2), a*2).rvs(random_state=rng).astype(int)\n",
    "        s2 = loguniform(min(3, b//2), b*2).rvs(random_state=rng).astype(int)\n",
    "        x = rng.randn(a, s1)\n",
    "        h = rng.randn(b, s2)\n",
    "        if mode == \"valid\":\n",
    "            s = np.sort([a, b, s1, s2])\n",
    "            h = rng.randn(*s[:2])\n",
    "            x = rng.randn(*s[2:])\n",
    "            assert all(h.shape[i] <= x.shape[j] for i in [0, 1] for j in [0, 1])\n",
    "    elif ndim == 1:\n",
    "        x = rng.randn(a)\n",
    "        h = rng.randn(b)\n",
    "    else:\n",
    "        raise ValueError(\"ndim\")\n",
    "    return x, h\n",
    "\n",
    "def time_conv(n, a, mode=\"full\", ndim=2, random_state=None):\n",
    "    rng = check_random_state(random_state)\n",
    "    x, h = _get_data(n, a, ndim, rng)\n",
    "        \n",
    "    t_fft = time(x, h, mode=mode, method=\"fft\")\n",
    "    t_direct = time(x, h, mode=mode, method=\"direct\")\n",
    "    return {\n",
    "        \"fft_time\": t_fft,\n",
    "        \"direct_time\": t_direct,\n",
    "        \"mode\": mode,\n",
    "        \"x.shape[0]\": x.shape[0],\n",
    "        \"x.shape[1]\": x.shape[1],\n",
    "        \"h.shape[0]\": h.shape[0],\n",
    "        \"h.shape[1]\": h.shape[1],\n",
    "        \"random_state\": random_state\n",
    "    }"
   ]
  },
  {
   "cell_type": "code",
   "execution_count": 16,
   "metadata": {},
   "outputs": [
    {
     "name": "stdout",
     "output_type": "stream",
     "text": [
      "[  5   6   7   8   9  10  11  12  14  16  18  20  23  26  29  33  37  41\n",
      "  47  53  59  67  75  85  95 107 121 136 153 172 194 218 246 277 311 350\n",
      " 394 444 499]\n"
     ]
    }
   ],
   "source": [
    "import itertools\n",
    "# sizes = np.logspace(np.log10(3), np.log10(500), num=100).astype(\"int\")\n",
    "# sizes = np.unique(sizes)\n",
    "sizes = np.logspace(np.log10(5), np.log10(500), num=40).astype(\"int\")\n",
    "sizes = np.unique(sizes)\n",
    "print(sizes)\n",
    "today = \"2019-10-02\"\n",
    "\n",
    "# data = []"
   ]
  },
  {
   "cell_type": "code",
   "execution_count": 19,
   "metadata": {},
   "outputs": [
    {
     "data": {
      "text/plain": [
       "4621"
      ]
     },
     "execution_count": 19,
     "metadata": {},
     "output_type": "execute_result"
    }
   ],
   "source": [
    "len(data)"
   ]
  },
  {
   "cell_type": "code",
   "execution_count": null,
   "metadata": {},
   "outputs": [
    {
     "name": "stdout",
     "output_type": "stream",
     "text": [
      "37 121 full 4700\n",
      "41 59 valid 4800\n",
      "47 29 same 4900\n",
      "53 16 full 5000\n",
      "59 8 valid 5100\n",
      "59 394 same 5200\n",
      "67 218 full 5300\n",
      "75 107 valid 5400\n",
      "85 53 same 5500\n"
     ]
    }
   ],
   "source": [
    "fname = f\"out/{today}-2d-train.parquet\" \n",
    "for n, a, mode in itertools.product(\n",
    "    sizes, sizes, [\"full\", \"valid\", \"same\"],\n",
    "):\n",
    "    if n < 37:\n",
    "        continue\n",
    "    datum = time_conv(n, a, random_state=len(data), ndim=2, mode=mode)\n",
    "    data.append(datum)\n",
    "    if len(data) % 100 == 0:\n",
    "        print(n, a, mode, len(data))\n",
    "        pd.DataFrame(data).to_parquet(fname, index=False)\n",
    "pd.DataFrame(data).to_parquet(fname, index=False)"
   ]
  },
  {
   "cell_type": "code",
   "execution_count": null,
   "metadata": {},
   "outputs": [],
   "source": []
  }
 ],
 "metadata": {
  "kernelspec": {
   "display_name": "Python 3",
   "language": "python",
   "name": "python3"
  },
  "language_info": {
   "codemirror_mode": {
    "name": "ipython",
    "version": 3
   },
   "file_extension": ".py",
   "mimetype": "text/x-python",
   "name": "python",
   "nbconvert_exporter": "python",
   "pygments_lexer": "ipython3",
   "version": "3.7.3"
  }
 },
 "nbformat": 4,
 "nbformat_minor": 4
}
