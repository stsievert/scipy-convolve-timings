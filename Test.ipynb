{
 "cells": [
  {
   "cell_type": "code",
   "execution_count": 92,
   "metadata": {},
   "outputs": [
    {
     "name": "stdout",
     "output_type": "stream",
     "text": [
      "2973\n"
     ]
    },
    {
     "data": {
      "text/html": [
       "<div>\n",
       "<style scoped>\n",
       "    .dataframe tbody tr th:only-of-type {\n",
       "        vertical-align: middle;\n",
       "    }\n",
       "\n",
       "    .dataframe tbody tr th {\n",
       "        vertical-align: top;\n",
       "    }\n",
       "\n",
       "    .dataframe thead th {\n",
       "        text-align: right;\n",
       "    }\n",
       "</style>\n",
       "<table border=\"1\" class=\"dataframe\">\n",
       "  <thead>\n",
       "    <tr style=\"text-align: right;\">\n",
       "      <th></th>\n",
       "      <th>shape1[0]</th>\n",
       "      <th>shape2[0]</th>\n",
       "      <th>shape1[1]</th>\n",
       "      <th>shape2[1]</th>\n",
       "      <th>mode</th>\n",
       "      <th>seed</th>\n",
       "      <th>fft_time</th>\n",
       "      <th>direct_time</th>\n",
       "      <th>total_params1</th>\n",
       "      <th>total_params2</th>\n",
       "    </tr>\n",
       "  </thead>\n",
       "  <tbody>\n",
       "    <tr>\n",
       "      <td>2968</td>\n",
       "      <td>93</td>\n",
       "      <td>6</td>\n",
       "      <td>118</td>\n",
       "      <td>6</td>\n",
       "      <td>full</td>\n",
       "      <td>989</td>\n",
       "      <td>0.001521</td>\n",
       "      <td>0.010080</td>\n",
       "      <td>10974</td>\n",
       "      <td>36</td>\n",
       "    </tr>\n",
       "    <tr>\n",
       "      <td>2969</td>\n",
       "      <td>93</td>\n",
       "      <td>6</td>\n",
       "      <td>118</td>\n",
       "      <td>6</td>\n",
       "      <td>same</td>\n",
       "      <td>989</td>\n",
       "      <td>0.001076</td>\n",
       "      <td>0.008758</td>\n",
       "      <td>10974</td>\n",
       "      <td>36</td>\n",
       "    </tr>\n",
       "    <tr>\n",
       "      <td>2970</td>\n",
       "      <td>11</td>\n",
       "      <td>4</td>\n",
       "      <td>363</td>\n",
       "      <td>4</td>\n",
       "      <td>valid</td>\n",
       "      <td>990</td>\n",
       "      <td>0.001367</td>\n",
       "      <td>0.001510</td>\n",
       "      <td>3993</td>\n",
       "      <td>16</td>\n",
       "    </tr>\n",
       "    <tr>\n",
       "      <td>2971</td>\n",
       "      <td>363</td>\n",
       "      <td>4</td>\n",
       "      <td>11</td>\n",
       "      <td>4</td>\n",
       "      <td>full</td>\n",
       "      <td>990</td>\n",
       "      <td>0.001225</td>\n",
       "      <td>0.002305</td>\n",
       "      <td>3993</td>\n",
       "      <td>16</td>\n",
       "    </tr>\n",
       "    <tr>\n",
       "      <td>2972</td>\n",
       "      <td>363</td>\n",
       "      <td>4</td>\n",
       "      <td>11</td>\n",
       "      <td>4</td>\n",
       "      <td>same</td>\n",
       "      <td>990</td>\n",
       "      <td>0.001002</td>\n",
       "      <td>0.001768</td>\n",
       "      <td>3993</td>\n",
       "      <td>16</td>\n",
       "    </tr>\n",
       "  </tbody>\n",
       "</table>\n",
       "</div>"
      ],
      "text/plain": [
       "      shape1[0]  shape2[0]  shape1[1]  shape2[1]   mode  seed  fft_time  \\\n",
       "2968         93          6        118          6   full   989  0.001521   \n",
       "2969         93          6        118          6   same   989  0.001076   \n",
       "2970         11          4        363          4  valid   990  0.001367   \n",
       "2971        363          4         11          4   full   990  0.001225   \n",
       "2972        363          4         11          4   same   990  0.001002   \n",
       "\n",
       "      direct_time  total_params1  total_params2  \n",
       "2968     0.010080          10974             36  \n",
       "2969     0.008758          10974             36  \n",
       "2970     0.001510           3993             16  \n",
       "2971     0.002305           3993             16  \n",
       "2972     0.001768           3993             16  "
      ]
     },
     "execution_count": 92,
     "metadata": {},
     "output_type": "execute_result"
    }
   ],
   "source": [
    "import pandas as pd\n",
    "from ast import literal_eval\n",
    "import numpy as np\n",
    "np.seterr(all=\"raise\")\n",
    "\n",
    "today = \"2019-10-02\"\n",
    "\n",
    "df = pd.read_parquet(f\"out/{today}-2d-test.parquet\")\n",
    "df[\"total_params1\"] = df[\"shape1[0]\"] * df[\"shape1[1]\"]\n",
    "df[\"total_params2\"] = df[\"shape2[0]\"] * df[\"shape2[1]\"]\n",
    "print(len(df))\n",
    "df.tail()"
   ]
  },
  {
   "cell_type": "code",
   "execution_count": 95,
   "metadata": {},
   "outputs": [],
   "source": [
    "from functools import lru_cache\n",
    "\n",
    "def _prod(iterable):\n",
    "    r = 1\n",
    "    for it in iterable:\n",
    "        r *= it\n",
    "    return r\n",
    "    \n",
    "sum_builtin = sum\n",
    "\n",
    "def _get_constant(mode, x_ndim, x_size, h_size):\n",
    "    if mode == 'full':\n",
    "        big_O_constant = 10963.92823819 if x_ndim == 1 else 8899.1104874\n",
    "    elif mode == 'same':\n",
    "        oneD_big_O = {True: 7183.41306773, False: 856.78174111}\n",
    "        big_O_constant = oneD_big_O[h_size <= x_size] if x_ndim == 1 \\\n",
    "                                                      else 34519.21021589\n",
    "    elif mode == 'valid':\n",
    "        big_O_constant = 41954.28006344 if x_ndim == 1 else 66453.24316434\n",
    "    else:\n",
    "        raise ValueError('mode is invalid')\n",
    "    return big_O_constant\n",
    "\n",
    "@lru_cache()\n",
    "def _get_constant(mode, x_ndim, x_size, h_size):\n",
    "    df = pd.read_csv(\"constants.csv\")\n",
    "    idx = (df.ndim == 2) & (df[\"mode\"] == \"same\")\n",
    "    assert idx.sum() == 1\n",
    "    return df[idx][\"constant\"].values.item()\n",
    "\n",
    "\n",
    "def _fftconv_faster(x_shape, h_shape, mode):\n",
    "    \"\"\"\n",
    "    See if using fftconvolve or convolve is faster. The value returned (a\n",
    "    boolean) depends on the sizes and shapes of the input values.\n",
    "    The big O ratios were found to hold to different machines, which makes\n",
    "    sense as it's the ratio that matters (the effective speed of the computer\n",
    "    is found in both big O constants). Regardless, this had been tuned on an\n",
    "    early 2015 MacBook Pro with 8GB RAM and an Intel i5 processor.\n",
    "    \"\"\"\n",
    "    x_size = _prod(x_shape)\n",
    "    x_ndim = len(x_shape)\n",
    "    h_size = _prod(h_shape)\n",
    "    h_ndim = len(h_shape)\n",
    "    if mode == 'full':\n",
    "        out_shape = [n + k - 1 for n, k in zip(x_shape, h_shape)]\n",
    "    elif mode == 'same':\n",
    "        out_shape = x_shape\n",
    "    elif mode == 'valid':\n",
    "        out_shape = [n - k + 1 for n, k in zip(x_shape, h_shape)]\n",
    "    else:\n",
    "        raise ValueError('mode is invalid')\n",
    "    out_shape = [o if o > 0 else -o + 2 for o in out_shape]\n",
    "\n",
    "    # see whether the Fourier transform convolution method or the direct\n",
    "    # convolution method is faster (discussed in scikit-image PR #1792)\n",
    "    direct_time = (x_size * h_size * _prod(out_shape))\n",
    "    fft_time = sum_builtin(n * np.log(n) for n in (x_shape + h_shape +\n",
    "                                               tuple(out_shape)))\n",
    "    big_O_constant = _get_constant(mode, x_ndim, x_size, h_size)\n",
    "    return \"fft\" if big_O_constant * fft_time < direct_time else \"direct\"\n",
    "\n",
    "def estimate_faster_method(row):\n",
    "    x_shape = (row[\"shape1[0]\"], row[\"shape1[1]\"])\n",
    "    h_shape = (row[\"shape2[0]\"], row[\"shape2[1]\"])\n",
    "    mode = row[\"mode\"]\n",
    "    return _fftconv_faster(x_shape, h_shape, mode)"
   ]
  },
  {
   "cell_type": "code",
   "execution_count": 96,
   "metadata": {},
   "outputs": [
    {
     "name": "stdout",
     "output_type": "stream",
     "text": [
      "Predicted fastest method 92.40% of the time\n"
     ]
    }
   ],
   "source": [
    "fft_faster = df[\"fft_time\"] < df[\"direct_time\"]\n",
    "df[\"faster\"] = \"\"\n",
    "df.loc[fft_faster, \"faster\"] = \"fft\"\n",
    "df.loc[~fft_faster, \"faster\"] = \"direct\"\n",
    "\n",
    "df[\"faster_est\"] = df.apply(estimate_faster_method, axis=1)\n",
    "\n",
    "acc = (df.faster == df.faster_est).sum() / len(df)\n",
    "print(f\"Predicted fastest method {100 * acc:0.2f}% of the time\")"
   ]
  },
  {
   "cell_type": "markdown",
   "metadata": {},
   "source": [
    "**Goal for accuracy on predicting fastest**: >90% -- that's the performance seen with code from SciPy 1.3 (after uncommenting `_get_constant` function above)"
   ]
  },
  {
   "cell_type": "code",
   "execution_count": 97,
   "metadata": {},
   "outputs": [
    {
     "data": {
      "text/html": [
       "<div>\n",
       "<style scoped>\n",
       "    .dataframe tbody tr th:only-of-type {\n",
       "        vertical-align: middle;\n",
       "    }\n",
       "\n",
       "    .dataframe tbody tr th {\n",
       "        vertical-align: top;\n",
       "    }\n",
       "\n",
       "    .dataframe thead th {\n",
       "        text-align: right;\n",
       "    }\n",
       "</style>\n",
       "<table border=\"1\" class=\"dataframe\">\n",
       "  <thead>\n",
       "    <tr style=\"text-align: right;\">\n",
       "      <th></th>\n",
       "      <th>mode</th>\n",
       "      <th>shape1[0]</th>\n",
       "      <th>shape1[1]</th>\n",
       "      <th>shape2[0]</th>\n",
       "      <th>shape2[1]</th>\n",
       "      <th>ratio</th>\n",
       "      <th>direct_time</th>\n",
       "      <th>fft_time</th>\n",
       "    </tr>\n",
       "  </thead>\n",
       "  <tbody>\n",
       "    <tr>\n",
       "      <td>1106</td>\n",
       "      <td>same</td>\n",
       "      <td>22</td>\n",
       "      <td>3</td>\n",
       "      <td>47</td>\n",
       "      <td>47</td>\n",
       "      <td>3.189317</td>\n",
       "      <td>0.001936</td>\n",
       "      <td>0.000607</td>\n",
       "    </tr>\n",
       "    <tr>\n",
       "      <td>1437</td>\n",
       "      <td>valid</td>\n",
       "      <td>85</td>\n",
       "      <td>164</td>\n",
       "      <td>3</td>\n",
       "      <td>3</td>\n",
       "      <td>1.045675</td>\n",
       "      <td>0.002062</td>\n",
       "      <td>0.002156</td>\n",
       "    </tr>\n",
       "    <tr>\n",
       "      <td>1649</td>\n",
       "      <td>same</td>\n",
       "      <td>3</td>\n",
       "      <td>15</td>\n",
       "      <td>75</td>\n",
       "      <td>75</td>\n",
       "      <td>3.327035</td>\n",
       "      <td>0.002183</td>\n",
       "      <td>0.000656</td>\n",
       "    </tr>\n",
       "    <tr>\n",
       "      <td>317</td>\n",
       "      <td>same</td>\n",
       "      <td>4</td>\n",
       "      <td>15</td>\n",
       "      <td>61</td>\n",
       "      <td>61</td>\n",
       "      <td>3.419695</td>\n",
       "      <td>0.002244</td>\n",
       "      <td>0.000656</td>\n",
       "    </tr>\n",
       "    <tr>\n",
       "      <td>644</td>\n",
       "      <td>same</td>\n",
       "      <td>3</td>\n",
       "      <td>17</td>\n",
       "      <td>72</td>\n",
       "      <td>72</td>\n",
       "      <td>3.301031</td>\n",
       "      <td>0.002290</td>\n",
       "      <td>0.000694</td>\n",
       "    </tr>\n",
       "    <tr>\n",
       "      <td>287</td>\n",
       "      <td>same</td>\n",
       "      <td>9</td>\n",
       "      <td>7</td>\n",
       "      <td>67</td>\n",
       "      <td>67</td>\n",
       "      <td>3.984880</td>\n",
       "      <td>0.002702</td>\n",
       "      <td>0.000678</td>\n",
       "    </tr>\n",
       "    <tr>\n",
       "      <td>272</td>\n",
       "      <td>same</td>\n",
       "      <td>6</td>\n",
       "      <td>6</td>\n",
       "      <td>95</td>\n",
       "      <td>95</td>\n",
       "      <td>2.780754</td>\n",
       "      <td>0.002797</td>\n",
       "      <td>0.001006</td>\n",
       "    </tr>\n",
       "    <tr>\n",
       "      <td>2220</td>\n",
       "      <td>valid</td>\n",
       "      <td>36</td>\n",
       "      <td>51</td>\n",
       "      <td>28</td>\n",
       "      <td>28</td>\n",
       "      <td>1.679257</td>\n",
       "      <td>0.003093</td>\n",
       "      <td>0.005194</td>\n",
       "    </tr>\n",
       "    <tr>\n",
       "      <td>2561</td>\n",
       "      <td>same</td>\n",
       "      <td>19</td>\n",
       "      <td>3</td>\n",
       "      <td>80</td>\n",
       "      <td>80</td>\n",
       "      <td>4.573946</td>\n",
       "      <td>0.003156</td>\n",
       "      <td>0.000690</td>\n",
       "    </tr>\n",
       "    <tr>\n",
       "      <td>2813</td>\n",
       "      <td>same</td>\n",
       "      <td>11</td>\n",
       "      <td>4</td>\n",
       "      <td>87</td>\n",
       "      <td>87</td>\n",
       "      <td>4.084987</td>\n",
       "      <td>0.003289</td>\n",
       "      <td>0.000805</td>\n",
       "    </tr>\n",
       "  </tbody>\n",
       "</table>\n",
       "</div>"
      ],
      "text/plain": [
       "       mode  shape1[0]  shape1[1]  shape2[0]  shape2[1]     ratio  \\\n",
       "1106   same         22          3         47         47  3.189317   \n",
       "1437  valid         85        164          3          3  1.045675   \n",
       "1649   same          3         15         75         75  3.327035   \n",
       "317    same          4         15         61         61  3.419695   \n",
       "644    same          3         17         72         72  3.301031   \n",
       "287    same          9          7         67         67  3.984880   \n",
       "272    same          6          6         95         95  2.780754   \n",
       "2220  valid         36         51         28         28  1.679257   \n",
       "2561   same         19          3         80         80  4.573946   \n",
       "2813   same         11          4         87         87  4.084987   \n",
       "\n",
       "      direct_time  fft_time  \n",
       "1106     0.001936  0.000607  \n",
       "1437     0.002062  0.002156  \n",
       "1649     0.002183  0.000656  \n",
       "317      0.002244  0.000656  \n",
       "644      0.002290  0.000694  \n",
       "287      0.002702  0.000678  \n",
       "272      0.002797  0.001006  \n",
       "2220     0.003093  0.005194  \n",
       "2561     0.003156  0.000690  \n",
       "2813     0.003289  0.000805  "
      ]
     },
     "execution_count": 97,
     "metadata": {},
     "output_type": "execute_result"
    }
   ],
   "source": [
    "wrong_idx = df.faster != df.faster_est\n",
    "wrong =  df[wrong_idx].copy()\n",
    "wrong[\"ratio\"] = wrong.fft_time / wrong.direct_time\n",
    "idx = wrong.ratio < 1\n",
    "wrong.loc[idx, \"ratio\"] = 1 / wrong.loc[idx, \"ratio\"]\n",
    "\n",
    "vals = wrong[[\"mode\", \"shape1[0]\", \"shape1[1]\", \"shape2[0]\", \"shape2[1]\", \"ratio\", \"direct_time\", \"fft_time\"]].copy()\n",
    "vals.sort_values(by=\"direct_time\", inplace=True)\n",
    "vals.tail(n=10)"
   ]
  },
  {
   "cell_type": "code",
   "execution_count": 98,
   "metadata": {},
   "outputs": [
    {
     "data": {
      "image/png": "[encoded data removed]",
      "text/plain": [
       "<Figure size 432x288 with 1 Axes>"
      ]
     },
     "metadata": {
      "image/png": {
       "height": 266,
       "width": 362
      },
      "needs_background": "light"
     },
     "output_type": "display_data"
    }
   ],
   "source": [
    "ax = vals.plot(x=\"direct_time\", y=\"ratio\", style=\"o\", alpha=0.3)\n",
    "ax.set_xscale(\"log\")"
   ]
  },
  {
   "cell_type": "code",
   "execution_count": 99,
   "metadata": {},
   "outputs": [
    {
     "data": {
      "text/plain": [
       "0.0002219676971435547"
      ]
     },
     "execution_count": 99,
     "metadata": {},
     "output_type": "execute_result"
    }
   ],
   "source": [
    "vals.direct_time.min()"
   ]
  },
  {
   "cell_type": "code",
   "execution_count": 100,
   "metadata": {},
   "outputs": [
    {
     "data": {
      "text/plain": [
       "<matplotlib.axes._subplots.AxesSubplot at 0x12820f400>"
      ]
     },
     "execution_count": 100,
     "metadata": {},
     "output_type": "execute_result"
    },
    {
     "data": {
      "image/png": "[encoded data removed]",
      "text/plain": [
       "<Figure size 432x288 with 1 Axes>"
      ]
     },
     "metadata": {
      "image/png": {
       "height": 248,
       "width": 377
      },
      "needs_background": "light"
     },
     "output_type": "display_data"
    }
   ],
   "source": [
    "wrong.ratio.hist(bins=10)"
   ]
  },
  {
   "cell_type": "markdown",
   "metadata": {},
   "source": [
    "**Goal for this histogram:** `ratio.max() < 5` approximately. That's the performance with SciPy 1.3 (again, after un-commenting `_get_constants` above)."
   ]
  },
  {
   "cell_type": "code",
   "execution_count": null,
   "metadata": {},
   "outputs": [],
   "source": []
  }
 ],
 "metadata": {
  "kernelspec": {
   "display_name": "Python 3",
   "language": "python",
   "name": "python3"
  },
  "language_info": {
   "codemirror_mode": {
    "name": "ipython",
    "version": 3
   },
   "file_extension": ".py",
   "mimetype": "text/x-python",
   "name": "python",
   "nbconvert_exporter": "python",
   "pygments_lexer": "ipython3",
   "version": "3.7.3"
  }
 },
 "nbformat": 4,
 "nbformat_minor": 4
}
