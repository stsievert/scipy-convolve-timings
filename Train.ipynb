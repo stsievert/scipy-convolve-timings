{
 "cells": [
  {
   "cell_type": "code",
   "execution_count": 1,
   "metadata": {},
   "outputs": [],
   "source": [
    "import pandas as pd\n",
    "import numpy as np"
   ]
  },
  {
   "cell_type": "code",
   "execution_count": 2,
   "metadata": {},
   "outputs": [
    {
     "name": "stdout",
     "output_type": "stream",
     "text": [
      "300\n"
     ]
    },
    {
     "data": {
      "text/html": [
       "<div>\n",
       "<style scoped>\n",
       "    .dataframe tbody tr th:only-of-type {\n",
       "        vertical-align: middle;\n",
       "    }\n",
       "\n",
       "    .dataframe tbody tr th {\n",
       "        vertical-align: top;\n",
       "    }\n",
       "\n",
       "    .dataframe thead th {\n",
       "        text-align: right;\n",
       "    }\n",
       "</style>\n",
       "<table border=\"1\" class=\"dataframe\">\n",
       "  <thead>\n",
       "    <tr style=\"text-align: right;\">\n",
       "      <th></th>\n",
       "      <th>direct_time</th>\n",
       "      <th>fft_time</th>\n",
       "      <th>h.shape[0]</th>\n",
       "      <th>h.shape[1]</th>\n",
       "      <th>mode</th>\n",
       "      <th>random_state</th>\n",
       "      <th>x.shape[0]</th>\n",
       "      <th>x.shape[1]</th>\n",
       "      <th>h_nelement</th>\n",
       "      <th>x_nelement</th>\n",
       "      <th>log10(fft_time/direct_time)</th>\n",
       "      <th>fft_time/direct_time</th>\n",
       "    </tr>\n",
       "  </thead>\n",
       "  <tbody>\n",
       "    <tr>\n",
       "      <th>0</th>\n",
       "      <td>0.000014</td>\n",
       "      <td>0.000449</td>\n",
       "      <td>3</td>\n",
       "      <td>3</td>\n",
       "      <td>full</td>\n",
       "      <td>0</td>\n",
       "      <td>3</td>\n",
       "      <td>3</td>\n",
       "      <td>9</td>\n",
       "      <td>9</td>\n",
       "      <td>1.494049</td>\n",
       "      <td>31.192428</td>\n",
       "    </tr>\n",
       "    <tr>\n",
       "      <th>1</th>\n",
       "      <td>0.000016</td>\n",
       "      <td>0.000424</td>\n",
       "      <td>4</td>\n",
       "      <td>4</td>\n",
       "      <td>full</td>\n",
       "      <td>1</td>\n",
       "      <td>3</td>\n",
       "      <td>3</td>\n",
       "      <td>16</td>\n",
       "      <td>9</td>\n",
       "      <td>1.413727</td>\n",
       "      <td>25.925469</td>\n",
       "    </tr>\n",
       "    <tr>\n",
       "      <th>2</th>\n",
       "      <td>0.000021</td>\n",
       "      <td>0.000432</td>\n",
       "      <td>6</td>\n",
       "      <td>6</td>\n",
       "      <td>full</td>\n",
       "      <td>2</td>\n",
       "      <td>3</td>\n",
       "      <td>3</td>\n",
       "      <td>36</td>\n",
       "      <td>9</td>\n",
       "      <td>1.317441</td>\n",
       "      <td>20.770221</td>\n",
       "    </tr>\n",
       "    <tr>\n",
       "      <th>3</th>\n",
       "      <td>0.000029</td>\n",
       "      <td>0.000438</td>\n",
       "      <td>9</td>\n",
       "      <td>9</td>\n",
       "      <td>full</td>\n",
       "      <td>3</td>\n",
       "      <td>3</td>\n",
       "      <td>3</td>\n",
       "      <td>81</td>\n",
       "      <td>9</td>\n",
       "      <td>1.174806</td>\n",
       "      <td>14.955682</td>\n",
       "    </tr>\n",
       "    <tr>\n",
       "      <th>4</th>\n",
       "      <td>0.000050</td>\n",
       "      <td>0.000444</td>\n",
       "      <td>14</td>\n",
       "      <td>14</td>\n",
       "      <td>full</td>\n",
       "      <td>4</td>\n",
       "      <td>3</td>\n",
       "      <td>3</td>\n",
       "      <td>196</td>\n",
       "      <td>9</td>\n",
       "      <td>0.950395</td>\n",
       "      <td>8.920626</td>\n",
       "    </tr>\n",
       "  </tbody>\n",
       "</table>\n",
       "</div>"
      ],
      "text/plain": [
       "   direct_time  fft_time  h.shape[0]  h.shape[1]  mode  random_state  \\\n",
       "0     0.000014  0.000449           3           3  full             0   \n",
       "1     0.000016  0.000424           4           4  full             1   \n",
       "2     0.000021  0.000432           6           6  full             2   \n",
       "3     0.000029  0.000438           9           9  full             3   \n",
       "4     0.000050  0.000444          14          14  full             4   \n",
       "\n",
       "   x.shape[0]  x.shape[1]  h_nelement  x_nelement  \\\n",
       "0           3           3           9           9   \n",
       "1           3           3          16           9   \n",
       "2           3           3          36           9   \n",
       "3           3           3          81           9   \n",
       "4           3           3         196           9   \n",
       "\n",
       "   log10(fft_time/direct_time)  fft_time/direct_time  \n",
       "0                     1.494049             31.192428  \n",
       "1                     1.413727             25.925469  \n",
       "2                     1.317441             20.770221  \n",
       "3                     1.174806             14.955682  \n",
       "4                     0.950395              8.920626  "
      ]
     },
     "execution_count": 2,
     "metadata": {},
     "output_type": "execute_result"
    }
   ],
   "source": [
    "df = pd.read_parquet(\"out/2019-07-27-conv2d.parquet\")\n",
    "print(len(df))\n",
    "\n",
    "df[\"h_nelement\"] = df[\"h.shape[0]\"] * df[\"h.shape[1]\"]\n",
    "df[\"x_nelement\"] = df[\"x.shape[0]\"] * df[\"x.shape[1]\"]\n",
    "df[\"log10(fft_time/direct_time)\"] = np.log10(df.fft_time / df.direct_time)\n",
    "df[\"fft_time/direct_time\"] = df.fft_time / df.direct_time\n",
    "df.head()"
   ]
  },
  {
   "cell_type": "code",
   "execution_count": 3,
   "metadata": {},
   "outputs": [
    {
     "data": {
      "text/plain": [
       "Text(0.5, 1, 'valid')"
      ]
     },
     "execution_count": 3,
     "metadata": {},
     "output_type": "execute_result"
    },
    {
     "data": {
      "text/plain": [
       "Text(0.5, 1, 'same')"
      ]
     },
     "execution_count": 3,
     "metadata": {},
     "output_type": "execute_result"
    },
    {
     "data": {
      "text/plain": [
       "Text(0.5, 1, 'full')"
      ]
     },
     "execution_count": 3,
     "metadata": {},
     "output_type": "execute_result"
    },
    {
     "data": {
      "image/png": "[encoded data removed]",
      "text/plain": [
       "<Figure size 864x216 with 6 Axes>"
      ]
     },
     "metadata": {
      "image/png": {
       "height": 246,
       "width": 731
      },
      "needs_background": "light"
     },
     "output_type": "display_data"
    }
   ],
   "source": [
    "import seaborn as sns\n",
    "import matplotlib.pyplot as plt\n",
    "import matplotlib as mpl\n",
    "\n",
    "w = 3\n",
    "fig, axs = plt.subplots(ncols=3, figsize=(4 * w, w))\n",
    "for ax, mode in zip(axs, [\"valid\", \"same\", \"full\"]):\n",
    "    idx = df[\"mode\"] == mode\n",
    "    if not idx.sum():\n",
    "        continue\n",
    "    show = df[df[\"mode\"] == mode].pivot_table(\n",
    "        index=\"x_nelement\",\n",
    "        columns=\"h_nelement\",\n",
    "        values=\"log10(fft_time/direct_time)\",\n",
    "    )\n",
    "    ax = sns.heatmap(\n",
    "        show,\n",
    "        center=0,\n",
    "        ax=ax,\n",
    "        cmap=\"RdBu\",\n",
    "    )\n",
    "    ax.set_title(mode)"
   ]
  },
  {
   "cell_type": "code",
   "execution_count": 4,
   "metadata": {},
   "outputs": [],
   "source": [
    "from scipy.optimize import curve_fit\n",
    "\n",
    "def log_time(shapes, O):\n",
    "    \"\"\"\n",
    "    Inputs\n",
    "    ------\n",
    "    sizes : array-like. x.shape[1] == 4\n",
    "        Sizes. If convolving two arrays of size (m, n) and (a, b),\n",
    "        sizes[0] == [m, n, a, b]\n",
    "    \n",
    "    >>> x = rand(m, n)\n",
    "    >>> assert x.shape == (m, n)\n",
    "    >>> h = rand(a, b)\n",
    "    >>> assert h.shape == (a, b)\n",
    "    >>> sizes = [[m, n, a, b], ...]\n",
    "    \"\"\"\n",
    "    x_shape = shapes[:, [0, 1]]\n",
    "    h_shape = shapes[:, [2, 3]]\n",
    "    out_shape = {'full': [n + k - 1 for n, k in zip(x_shape, h_shape)],\n",
    "                 'same': [n if n[0] > k[0] else k\n",
    "                              for n, k in zip(x_shape, h_shape)],\n",
    "                 'valid': [n-k+1 if n[0] > k[0] else k-n+1\n",
    "                              for n, k in zip(x_shape, h_shape)]}\n",
    "    out_shape = np.array(out_shape[mode])\n",
    "    shapes = np.hstack((x_shape, h_shape, out_shape)).T\n",
    "    \n",
    "    direct_time = np.product(shapes, axis=0)\n",
    "    fft_time = np.sum(shapes * np.log(shapes), axis=0)\n",
    "    return np.log10(O * fft_time / direct_time)\n",
    "\n",
    "def get_constant(df, mode=\"full\"):\n",
    "    \"\"\"\n",
    "    Inputs\n",
    "    ------\n",
    "    df : DataFrame with columns x.shape[0], x.shape[1], h.shape[0], h.shape[1] and log10(fft_time/direct_time)\n",
    "    \n",
    "    Returns\n",
    "    -------\n",
    "    popt : float\n",
    "        The constant such that constant * fft_time < direct_time\n",
    "    pstd : float\n",
    "        The (estimated) standard deviation of popt\n",
    "    \"\"\"\n",
    "    shapes = df[[\"x.shape[0]\", \"x.shape[1]\", \"h.shape[0]\", \"h.shape[0]\"]].values\n",
    "    times = df[\"log10(fft_time/direct_time)\"].values\n",
    "\n",
    "    popt, pcov = curve_fit(log_time, shapes, times)\n",
    "    return popt.item(), np.sqrt(pcov).item()"
   ]
  },
  {
   "cell_type": "code",
   "execution_count": 5,
   "metadata": {},
   "outputs": [
    {
     "name": "stderr",
     "output_type": "stream",
     "text": [
      "/Users/scott/anaconda3/lib/python3.7/site-packages/ipykernel_launcher.py:28: RuntimeWarning: divide by zero encountered in log\n",
      "/Users/scott/anaconda3/lib/python3.7/site-packages/ipykernel_launcher.py:28: RuntimeWarning: invalid value encountered in log\n",
      "/Users/scott/anaconda3/lib/python3.7/site-packages/ipykernel_launcher.py:28: RuntimeWarning: invalid value encountered in multiply\n",
      "/Users/scott/anaconda3/lib/python3.7/site-packages/scipy/optimize/minpack.py:787: OptimizeWarning: Covariance of the parameters could not be estimated\n",
      "  category=OptimizeWarning)\n"
     ]
    }
   ],
   "source": [
    "bigOs = {}\n",
    "for mode in [\"same\", \"valid\", \"full\"]:\n",
    "    idx = df[\"mode\"] == mode\n",
    "    if not idx.sum():\n",
    "        continue\n",
    "    O, std = get_constant(df[idx])\n",
    "    bigOs[mode] = {\"constant\": O, \"std\": std}"
   ]
  },
  {
   "cell_type": "code",
   "execution_count": 7,
   "metadata": {},
   "outputs": [],
   "source": [
    "constants = pd.DataFrame(bigOs).T"
   ]
  },
  {
   "cell_type": "code",
   "execution_count": 8,
   "metadata": {},
   "outputs": [
    {
     "data": {
      "text/html": [
       "<div>\n",
       "<style scoped>\n",
       "    .dataframe tbody tr th:only-of-type {\n",
       "        vertical-align: middle;\n",
       "    }\n",
       "\n",
       "    .dataframe tbody tr th {\n",
       "        vertical-align: top;\n",
       "    }\n",
       "\n",
       "    .dataframe thead th {\n",
       "        text-align: right;\n",
       "    }\n",
       "</style>\n",
       "<table border=\"1\" class=\"dataframe\">\n",
       "  <thead>\n",
       "    <tr style=\"text-align: right;\">\n",
       "      <th></th>\n",
       "      <th>constant</th>\n",
       "      <th>std</th>\n",
       "    </tr>\n",
       "  </thead>\n",
       "  <tbody>\n",
       "    <tr>\n",
       "      <th>same</th>\n",
       "      <td>81261.988432</td>\n",
       "      <td>1.044320e+04</td>\n",
       "    </tr>\n",
       "    <tr>\n",
       "      <th>valid</th>\n",
       "      <td>1.000000</td>\n",
       "      <td>inf</td>\n",
       "    </tr>\n",
       "    <tr>\n",
       "      <th>full</th>\n",
       "      <td>64347.407399</td>\n",
       "      <td>7.356725e+03</td>\n",
       "    </tr>\n",
       "  </tbody>\n",
       "</table>\n",
       "</div>"
      ],
      "text/plain": [
       "           constant           std\n",
       "same   81261.988432  1.044320e+04\n",
       "valid      1.000000           inf\n",
       "full   64347.407399  7.356725e+03"
      ]
     },
     "execution_count": 8,
     "metadata": {},
     "output_type": "execute_result"
    }
   ],
   "source": [
    "constants"
   ]
  },
  {
   "cell_type": "code",
   "execution_count": 9,
   "metadata": {},
   "outputs": [
    {
     "data": {
      "text/plain": [
       "same     0.128513\n",
       "valid         inf\n",
       "full     0.114328\n",
       "dtype: float64"
      ]
     },
     "execution_count": 9,
     "metadata": {},
     "output_type": "execute_result"
    }
   ],
   "source": [
    "constants[\"std\"] / constants[\"constant\"]"
   ]
  },
  {
   "cell_type": "code",
   "execution_count": null,
   "metadata": {},
   "outputs": [],
   "source": []
  }
 ],
 "metadata": {
  "kernelspec": {
   "display_name": "Python 3",
   "language": "python",
   "name": "python3"
  },
  "language_info": {
   "codemirror_mode": {
    "name": "ipython",
    "version": 3
   },
   "file_extension": ".py",
   "mimetype": "text/x-python",
   "name": "python",
   "nbconvert_exporter": "python",
   "pygments_lexer": "ipython3",
   "version": "3.7.3"
  }
 },
 "nbformat": 4,
 "nbformat_minor": 4
}
