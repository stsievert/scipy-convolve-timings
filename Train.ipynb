{
 "cells": [
  {
   "cell_type": "code",
   "execution_count": 1,
   "metadata": {},
   "outputs": [
    {
     "data": {
      "text/plain": [
       "{'divide': 'warn', 'over': 'warn', 'under': 'ignore', 'invalid': 'warn'}"
      ]
     },
     "execution_count": 1,
     "metadata": {},
     "output_type": "execute_result"
    }
   ],
   "source": [
    "import pandas as pd\n",
    "import numpy as np\n",
    "np.seterr(all=\"raise\")"
   ]
  },
  {
   "cell_type": "code",
   "execution_count": 2,
   "metadata": {},
   "outputs": [
    {
     "name": "stdout",
     "output_type": "stream",
     "text": [
      "300\n"
     ]
    },
    {
     "data": {
      "text/html": [
       "<div>\n",
       "<style scoped>\n",
       "    .dataframe tbody tr th:only-of-type {\n",
       "        vertical-align: middle;\n",
       "    }\n",
       "\n",
       "    .dataframe tbody tr th {\n",
       "        vertical-align: top;\n",
       "    }\n",
       "\n",
       "    .dataframe thead th {\n",
       "        text-align: right;\n",
       "    }\n",
       "</style>\n",
       "<table border=\"1\" class=\"dataframe\">\n",
       "  <thead>\n",
       "    <tr style=\"text-align: right;\">\n",
       "      <th></th>\n",
       "      <th>direct_time</th>\n",
       "      <th>fft_time</th>\n",
       "      <th>h.shape[0]</th>\n",
       "      <th>h.shape[1]</th>\n",
       "      <th>mode</th>\n",
       "      <th>random_state</th>\n",
       "      <th>x.shape[0]</th>\n",
       "      <th>x.shape[1]</th>\n",
       "      <th>h_nelement</th>\n",
       "      <th>x_nelement</th>\n",
       "      <th>log10(fft_time/direct_time)</th>\n",
       "      <th>fft_time/direct_time</th>\n",
       "    </tr>\n",
       "  </thead>\n",
       "  <tbody>\n",
       "    <tr>\n",
       "      <td>0</td>\n",
       "      <td>0.000014</td>\n",
       "      <td>0.000449</td>\n",
       "      <td>3</td>\n",
       "      <td>3</td>\n",
       "      <td>full</td>\n",
       "      <td>0</td>\n",
       "      <td>3</td>\n",
       "      <td>3</td>\n",
       "      <td>9</td>\n",
       "      <td>9</td>\n",
       "      <td>1.494049</td>\n",
       "      <td>31.192428</td>\n",
       "    </tr>\n",
       "    <tr>\n",
       "      <td>1</td>\n",
       "      <td>0.000016</td>\n",
       "      <td>0.000424</td>\n",
       "      <td>4</td>\n",
       "      <td>4</td>\n",
       "      <td>full</td>\n",
       "      <td>1</td>\n",
       "      <td>3</td>\n",
       "      <td>3</td>\n",
       "      <td>16</td>\n",
       "      <td>9</td>\n",
       "      <td>1.413727</td>\n",
       "      <td>25.925469</td>\n",
       "    </tr>\n",
       "    <tr>\n",
       "      <td>2</td>\n",
       "      <td>0.000021</td>\n",
       "      <td>0.000432</td>\n",
       "      <td>6</td>\n",
       "      <td>6</td>\n",
       "      <td>full</td>\n",
       "      <td>2</td>\n",
       "      <td>3</td>\n",
       "      <td>3</td>\n",
       "      <td>36</td>\n",
       "      <td>9</td>\n",
       "      <td>1.317441</td>\n",
       "      <td>20.770221</td>\n",
       "    </tr>\n",
       "    <tr>\n",
       "      <td>3</td>\n",
       "      <td>0.000029</td>\n",
       "      <td>0.000438</td>\n",
       "      <td>9</td>\n",
       "      <td>9</td>\n",
       "      <td>full</td>\n",
       "      <td>3</td>\n",
       "      <td>3</td>\n",
       "      <td>3</td>\n",
       "      <td>81</td>\n",
       "      <td>9</td>\n",
       "      <td>1.174806</td>\n",
       "      <td>14.955682</td>\n",
       "    </tr>\n",
       "    <tr>\n",
       "      <td>4</td>\n",
       "      <td>0.000050</td>\n",
       "      <td>0.000444</td>\n",
       "      <td>14</td>\n",
       "      <td>14</td>\n",
       "      <td>full</td>\n",
       "      <td>4</td>\n",
       "      <td>3</td>\n",
       "      <td>3</td>\n",
       "      <td>196</td>\n",
       "      <td>9</td>\n",
       "      <td>0.950395</td>\n",
       "      <td>8.920626</td>\n",
       "    </tr>\n",
       "  </tbody>\n",
       "</table>\n",
       "</div>"
      ],
      "text/plain": [
       "   direct_time  fft_time  h.shape[0]  h.shape[1]  mode  random_state  \\\n",
       "0     0.000014  0.000449           3           3  full             0   \n",
       "1     0.000016  0.000424           4           4  full             1   \n",
       "2     0.000021  0.000432           6           6  full             2   \n",
       "3     0.000029  0.000438           9           9  full             3   \n",
       "4     0.000050  0.000444          14          14  full             4   \n",
       "\n",
       "   x.shape[0]  x.shape[1]  h_nelement  x_nelement  \\\n",
       "0           3           3           9           9   \n",
       "1           3           3          16           9   \n",
       "2           3           3          36           9   \n",
       "3           3           3          81           9   \n",
       "4           3           3         196           9   \n",
       "\n",
       "   log10(fft_time/direct_time)  fft_time/direct_time  \n",
       "0                     1.494049             31.192428  \n",
       "1                     1.413727             25.925469  \n",
       "2                     1.317441             20.770221  \n",
       "3                     1.174806             14.955682  \n",
       "4                     0.950395              8.920626  "
      ]
     },
     "execution_count": 2,
     "metadata": {},
     "output_type": "execute_result"
    }
   ],
   "source": [
    "df = pd.read_parquet(\"out/2019-07-27-conv2d.parquet\")\n",
    "print(len(df))\n",
    "\n",
    "df[\"h_nelement\"] = df[\"h.shape[0]\"] * df[\"h.shape[1]\"]\n",
    "df[\"x_nelement\"] = df[\"x.shape[0]\"] * df[\"x.shape[1]\"]\n",
    "df[\"log10(fft_time/direct_time)\"] = np.log10(df.fft_time / df.direct_time)\n",
    "df[\"fft_time/direct_time\"] = df.fft_time / df.direct_time\n",
    "df.head()"
   ]
  },
  {
   "cell_type": "markdown",
   "metadata": {},
   "source": [
    "# Visualize ratio"
   ]
  },
  {
   "cell_type": "code",
   "execution_count": 3,
   "metadata": {},
   "outputs": [
    {
     "data": {
      "text/plain": [
       "Text(0.5, 1, 'valid')"
      ]
     },
     "execution_count": 3,
     "metadata": {},
     "output_type": "execute_result"
    },
    {
     "data": {
      "text/plain": [
       "Text(0.5, 1, 'same')"
      ]
     },
     "execution_count": 3,
     "metadata": {},
     "output_type": "execute_result"
    },
    {
     "data": {
      "text/plain": [
       "Text(0.5, 1, 'full')"
      ]
     },
     "execution_count": 3,
     "metadata": {},
     "output_type": "execute_result"
    },
    {
     "data": {
      "image/png": "[encoded data removed]",
      "text/plain": [
       "<Figure size 864x216 with 6 Axes>"
      ]
     },
     "metadata": {
      "image/png": {
       "height": 246,
       "width": 731
      },
      "needs_background": "light"
     },
     "output_type": "display_data"
    }
   ],
   "source": [
    "import seaborn as sns\n",
    "import matplotlib.pyplot as plt\n",
    "import matplotlib as mpl\n",
    "\n",
    "w = 3\n",
    "fig, axs = plt.subplots(ncols=3, figsize=(4 * w, w))\n",
    "for ax, mode in zip(axs, [\"valid\", \"same\", \"full\"]):\n",
    "    idx = df[\"mode\"] == mode\n",
    "    if not idx.sum():\n",
    "        continue\n",
    "    show = df[df[\"mode\"] == mode].pivot_table(\n",
    "        index=\"x_nelement\",\n",
    "        columns=\"h_nelement\",\n",
    "        values=\"log10(fft_time/direct_time)\",\n",
    "    )\n",
    "    ax = sns.heatmap(\n",
    "        show,\n",
    "        center=0,\n",
    "        ax=ax,\n",
    "        cmap=\"RdBu\",\n",
    "    )\n",
    "    ax.set_title(mode)"
   ]
  },
  {
   "cell_type": "markdown",
   "metadata": {},
   "source": [
    "# Find big-O constant"
   ]
  },
  {
   "cell_type": "code",
   "execution_count": 26,
   "metadata": {},
   "outputs": [],
   "source": [
    "from scipy.optimize import curve_fit\n",
    "from toolz import partial\n",
    "sum_builtin = sum\n",
    "\n",
    "def _prod(iterable):\n",
    "    \"\"\"\n",
    "    Product of a list of numbers.\n",
    "    Faster than np.prod for short lists like array shapes.\n",
    "    \"\"\"\n",
    "    product = 1\n",
    "    for x in iterable:\n",
    "        product *= x\n",
    "    return product\n",
    "\n",
    "def _fftconv_faster(x_shape, x_size, h_shape, h_size, mode):\n",
    "    \"\"\"\n",
    "    See if using fftconvolve or convolve is faster. The value returned (a\n",
    "    boolean) depends on the sizes and shapes of the input values.\n",
    "    The big O ratios were found to hold to different machines, which makes\n",
    "    sense as it's the ratio that matters (the effective speed of the computer\n",
    "    is found in both big O constants). Regardless, this had been tuned on an\n",
    "    early 2015 MacBook Pro with 8GB RAM and an Intel i5 processor.\n",
    "    \"\"\"\n",
    "    if mode == 'full':\n",
    "        out_shape = [n + k - 1 for n, k in zip(x_shape, h_shape)]\n",
    "    elif mode == 'same':\n",
    "        out_shape = x_shape\n",
    "    elif mode == 'valid':\n",
    "        out_shape = [n - k + 1 for n, k in zip(x_shape, h_shape)]\n",
    "    else:\n",
    "        raise ValueError('mode is invalid')\n",
    "    out_shape = [o if o > 0 else -o + 2 for o in out_shape]\n",
    "\n",
    "    # see whether the Fourier transform convolution method or the direct\n",
    "    # convolution method is faster (discussed in scikit-image PR #1792)\n",
    "    direct_time = (x_size * h_size * _prod(out_shape))\n",
    "    fft_time = sum_builtin(n * np.log(n) for n in (x_shape + h_shape +\n",
    "                                               tuple(out_shape)))\n",
    "    return fft_time, direct_time\n",
    "    \n",
    "def log_time(shapes, O, mode):\n",
    "# def _fftconv_faster(shapes, O, mode):\n",
    "    \"\"\"\n",
    "    See if using fftconvolve or convolve is faster. The value returned (a\n",
    "    boolean) depends on the sizes and shapes of the input values.\n",
    "    The big O ratios were found to hold to different machines, which makes\n",
    "    sense as it's the ratio that matters (the effective speed of the computer\n",
    "    is found in both big O constants). Regardless, this had been tuned on an\n",
    "    early 2015 MacBook Pro with 8GB RAM and an Intel i5 processor.\n",
    "    \"\"\"\n",
    "    times = []\n",
    "    for shape in shapes:\n",
    "        x_shape = shape[:2]\n",
    "        h_shape = shape[2:]\n",
    "        assert len(shape) == 4\n",
    "        assert len(x_shape) == len(h_shape) == 2\n",
    "        fft_time, direct_time = _fftconv_faster(\n",
    "            x_shape, _prod(x_shape), h_shape, _prod(h_shape), mode,\n",
    "        )\n",
    "        times.append([fft_time, direct_time])\n",
    "    times = np.asarray(times)\n",
    "    fft_time = times[:, 0]\n",
    "    direct_time = times[:, 1]\n",
    "    diff = O * fft_time - direct_time\n",
    "    \n",
    "    power = np.log10(abs(diff))\n",
    "    sign = np.sign(diff)\n",
    "    return sign * power\n",
    "\n",
    "def get_constant(df, mode):\n",
    "    \"\"\"\n",
    "    Inputs\n",
    "    ------\n",
    "    df : DataFrame with columns x.shape[0], x.shape[1], h.shape[0], h.shape[1] and log10(fft_time/direct_time)\n",
    "    \n",
    "    Returns\n",
    "    -------\n",
    "    popt : float\n",
    "        The constant such that constant * fft_time < direct_time\n",
    "    pstd : float\n",
    "        The (estimated) standard deviation of popt\n",
    "    \"\"\"\n",
    "    shapes = df[[\"x.shape[0]\", \"x.shape[1]\", \"h.shape[0]\", \"h.shape[0]\"]].values\n",
    "    times = df[\"log10(fft_time/direct_time)\"].values\n",
    "    log_time_w_mode = partial(log_time, mode=mode)\n",
    "\n",
    "    kwargs = {}\n",
    "    if mode == \"valid\":\n",
    "        kwargs = {\"p0\": 70e3, \"method\": \"lm\"}\n",
    "    popt, pcov = curve_fit(log_time_w_mode, shapes, times, **kwargs)\n",
    "    O = popt.item()\n",
    "    times_hat = log_time_w_mode(shapes, O)\n",
    "    return O, np.sqrt(pcov).item(), (times_hat, times)"
   ]
  },
  {
   "cell_type": "code",
   "execution_count": 27,
   "metadata": {},
   "outputs": [
    {
     "name": "stdout",
     "output_type": "stream",
     "text": [
      "same 291.33321187594976 0.33067022823684006\n",
      "valid 71956.79081256136 0.040024782663955226\n",
      "full 154.68092517611097 4.807257488935337\n"
     ]
    }
   ],
   "source": [
    "bigOs = {}\n",
    "for mode in [\"same\", \"valid\", \"full\"]:\n",
    "    idx = df[\"mode\"] == mode\n",
    "    if not idx.sum():\n",
    "        continue\n",
    "    fit = df[idx].copy()\n",
    "    O, std, times = get_constant(fit, mode)\n",
    "    y_hat, y = times\n",
    "    fit[\"predicted_ratio\"] = y_hat\n",
    "    print(mode, O, std)\n",
    "    bigOs[mode] = {\"constant\": O, \"std\": std}\n"
   ]
  },
  {
   "cell_type": "code",
   "execution_count": 28,
   "metadata": {},
   "outputs": [],
   "source": [
    "constants = pd.DataFrame(bigOs).T"
   ]
  },
  {
   "cell_type": "code",
   "execution_count": 29,
   "metadata": {},
   "outputs": [
    {
     "data": {
      "text/html": [
       "<div>\n",
       "<style scoped>\n",
       "    .dataframe tbody tr th:only-of-type {\n",
       "        vertical-align: middle;\n",
       "    }\n",
       "\n",
       "    .dataframe tbody tr th {\n",
       "        vertical-align: top;\n",
       "    }\n",
       "\n",
       "    .dataframe thead th {\n",
       "        text-align: right;\n",
       "    }\n",
       "</style>\n",
       "<table border=\"1\" class=\"dataframe\">\n",
       "  <thead>\n",
       "    <tr style=\"text-align: right;\">\n",
       "      <th></th>\n",
       "      <th>constant</th>\n",
       "      <th>std</th>\n",
       "    </tr>\n",
       "    <tr>\n",
       "      <th>mode</th>\n",
       "      <th></th>\n",
       "      <th></th>\n",
       "    </tr>\n",
       "  </thead>\n",
       "  <tbody>\n",
       "    <tr>\n",
       "      <td>same</td>\n",
       "      <td>291.333212</td>\n",
       "      <td>0.330670</td>\n",
       "    </tr>\n",
       "    <tr>\n",
       "      <td>valid</td>\n",
       "      <td>71956.790813</td>\n",
       "      <td>0.040025</td>\n",
       "    </tr>\n",
       "    <tr>\n",
       "      <td>full</td>\n",
       "      <td>154.680925</td>\n",
       "      <td>4.807257</td>\n",
       "    </tr>\n",
       "  </tbody>\n",
       "</table>\n",
       "</div>"
      ],
      "text/plain": [
       "           constant       std\n",
       "mode                         \n",
       "same     291.333212  0.330670\n",
       "valid  71956.790813  0.040025\n",
       "full     154.680925  4.807257"
      ]
     },
     "execution_count": 29,
     "metadata": {},
     "output_type": "execute_result"
    }
   ],
   "source": [
    "constants.index.name = \"mode\"\n",
    "constants"
   ]
  },
  {
   "cell_type": "code",
   "execution_count": 30,
   "metadata": {},
   "outputs": [
    {
     "data": {
      "text/plain": [
       "mode\n",
       "same     1.135024e-03\n",
       "valid    5.562336e-07\n",
       "full     3.107854e-02\n",
       "dtype: float64"
      ]
     },
     "execution_count": 30,
     "metadata": {},
     "output_type": "execute_result"
    }
   ],
   "source": [
    "constants[\"std\"] / constants[\"constant\"]"
   ]
  },
  {
   "cell_type": "code",
   "execution_count": 31,
   "metadata": {},
   "outputs": [],
   "source": [
    "constants.to_csv(\"constants.csv\")"
   ]
  },
  {
   "cell_type": "code",
   "execution_count": null,
   "metadata": {},
   "outputs": [],
   "source": []
  }
 ],
 "metadata": {
  "kernelspec": {
   "display_name": "Python 3",
   "language": "python",
   "name": "python3"
  },
  "language_info": {
   "codemirror_mode": {
    "name": "ipython",
    "version": 3
   },
   "file_extension": ".py",
   "mimetype": "text/x-python",
   "name": "python",
   "nbconvert_exporter": "python",
   "pygments_lexer": "ipython3",
   "version": "3.7.3"
  }
 },
 "nbformat": 4,
 "nbformat_minor": 4
}
